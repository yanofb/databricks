{
 "cells": [
  {
   "cell_type": "markdown",
   "metadata": {
    "application/vnd.databricks.v1+cell": {
     "cellMetadata": {
      "byteLimit": 2048000,
      "rowLimit": 10000
     },
     "inputWidgets": {},
     "nuid": "f3e53386-85a0-4623-b182-feb39d56a0da",
     "showTitle": false,
     "title": ""
    }
   },
   "source": [
    "#Aula 1 - Introdução ao Databricks\n"
   ]
  },
  {
   "cell_type": "code",
   "execution_count": 0,
   "metadata": {
    "application/vnd.databricks.v1+cell": {
     "cellMetadata": {
      "byteLimit": 2048000,
      "rowLimit": 10000
     },
     "inputWidgets": {},
     "nuid": "635e1238-6246-49a5-9e1d-70ceedb59a13",
     "showTitle": false,
     "title": ""
    }
   },
   "outputs": [
    {
     "output_type": "display_data",
     "data": {
      "text/html": [
       "<div class = \"ansiout\">\n",
       "This module provides various utilities for users to interact with the rest of Databricks.\n",
       "  <h3></h3><b>credentials: DatabricksCredentialUtils</b> -> Utilities for interacting with credentials within notebooks<br /><b>data: DataUtils</b> -> Utilities for understanding and interacting with datasets (EXPERIMENTAL)<br /><b>fs: DbfsUtils</b> -> Manipulates the Databricks filesystem (DBFS) from the console<br /><b>jobs: JobsUtils</b> -> Utilities for leveraging jobs features<br /><b>library: LibraryUtils</b> -> Utilities for session isolated libraries<br /><b>meta: MetaUtils</b> -> Methods to hook into the compiler (EXPERIMENTAL)<br /><b>notebook: NotebookUtils</b> -> Utilities for the control flow of a notebook (EXPERIMENTAL)<br /><b>preview: Preview</b> -> Utilities under preview category<br /><b>secrets: SecretUtils</b> -> Provides utilities for leveraging secrets within notebooks<br /><b>widgets: WidgetsUtils</b> -> Methods to create and get bound value of input widgets inside notebooks<br /><br /></div>"
      ]
     },
     "metadata": {
      "application/vnd.databricks.v1+output": {
       "addedWidgets": {},
       "arguments": {},
       "data": "<div class = \"ansiout\">\nThis module provides various utilities for users to interact with the rest of Databricks.\n  <h3></h3><b>credentials: DatabricksCredentialUtils</b> -> Utilities for interacting with credentials within notebooks<br /><b>data: DataUtils</b> -> Utilities for understanding and interacting with datasets (EXPERIMENTAL)<br /><b>fs: DbfsUtils</b> -> Manipulates the Databricks filesystem (DBFS) from the console<br /><b>jobs: JobsUtils</b> -> Utilities for leveraging jobs features<br /><b>library: LibraryUtils</b> -> Utilities for session isolated libraries<br /><b>meta: MetaUtils</b> -> Methods to hook into the compiler (EXPERIMENTAL)<br /><b>notebook: NotebookUtils</b> -> Utilities for the control flow of a notebook (EXPERIMENTAL)<br /><b>preview: Preview</b> -> Utilities under preview category<br /><b>secrets: SecretUtils</b> -> Provides utilities for leveraging secrets within notebooks<br /><b>widgets: WidgetsUtils</b> -> Methods to create and get bound value of input widgets inside notebooks<br /><br /></div>",
       "datasetInfos": [],
       "metadata": {},
       "removedWidgets": [],
       "textData": null,
       "type": "htmlSandbox"
      }
     },
     "output_type": "display_data"
    }
   ],
   "source": [
    "#Para realizar comandos para criar diretórios(mkdirs), cópia(cp), listagem(ls),utilize o dbutils, para maior entendimento utilize o help de file system e geral.\n",
    "#https://docs.databricks.com/pt/dev-tools/databricks-utils.html\n",
    "dbutils.fs.help\n",
    "dbutils.help()"
   ]
  },
  {
   "cell_type": "code",
   "execution_count": 0,
   "metadata": {
    "application/vnd.databricks.v1+cell": {
     "cellMetadata": {
      "byteLimit": 2048000,
      "rowLimit": 10000
     },
     "inputWidgets": {},
     "nuid": "9f8ec0a7-2f3f-4331-a65e-55abfd11b28c",
     "showTitle": false,
     "title": ""
    }
   },
   "outputs": [],
   "source": [
    "# Para este procedimento funcionar o arquivo data.csv deve estar carregado no DBFS no endereço especificado na variável `file_location`\n",
    "# Para arquivos importados de máquina local, a interface permite com alguns cliques realizar todas as configurações\n",
    "#Importando o arquivo data_csv\n",
    "file_location = '/FileStore/tables/data.csv'\n",
    "file_type = 'csv'\n",
    "infer_schema = 'true'\n",
    "first_row_is_header = 'true'\n",
    "delimiter = ';'\n",
    "\n",
    "df = spark\\\n",
    "    .read\\\n",
    "    .format(file_type)\\\n",
    "    .option('inferSchema', infer_schema)\\\n",
    "    .option('header', first_row_is_header)\\\n",
    "    .option('sep', delimiter)\\\n",
    "    .load(file_location)\n",
    "\n",
    "table_name = 'dats_csv'\n",
    "\n",
    "df.write.format('parquet').saveAsTable(table_name)"
   ]
  },
  {
   "cell_type": "code",
   "execution_count": 0,
   "metadata": {
    "application/vnd.databricks.v1+cell": {
     "cellMetadata": {
      "byteLimit": 2048000,
      "rowLimit": 10000
     },
     "inputWidgets": {},
     "nuid": "0e44b62e-cb0e-40d0-b3cb-eac53cbb615d",
     "showTitle": false,
     "title": ""
    }
   },
   "outputs": [
    {
     "output_type": "display_data",
     "data": {
      "text/html": [
       "<style scoped>\n",
       "  .table-result-container {\n",
       "    max-height: 300px;\n",
       "    overflow: auto;\n",
       "  }\n",
       "  table, th, td {\n",
       "    border: 1px solid black;\n",
       "    border-collapse: collapse;\n",
       "  }\n",
       "  th, td {\n",
       "    padding: 5px;\n",
       "  }\n",
       "  th {\n",
       "    text-align: left;\n",
       "  }\n",
       "</style><div class='table-result-container'><table class='table-result'><thead style='background-color: white'><tr><th>Nomes</th><th>Idades</th><th>Peso</th><th>Altura</th><th>IMC</th></tr></thead><tbody><tr><td>Aaron</td><td>39</td><td>53</td><td>1.93</td><td>14.2</td></tr><tr><td>Adam</td><td>46</td><td>100</td><td>1.58</td><td>40.1</td></tr><tr><td>Adrian</td><td>24</td><td>110</td><td>1.57</td><td>44.6</td></tr><tr><td>Alec</td><td>39</td><td>57</td><td>1.83</td><td>17.0</td></tr><tr><td>Alexander</td><td>32</td><td>89</td><td>1.54</td><td>37.5</td></tr><tr><td>Alfred</td><td>58</td><td>116</td><td>1.53</td><td>49.6</td></tr><tr><td>Andrew</td><td>59</td><td>60</td><td>1.58</td><td>24.0</td></tr><tr><td>Anthony</td><td>22</td><td>57</td><td>1.5</td><td>25.3</td></tr><tr><td>Arthur</td><td>20</td><td>114</td><td>1.87</td><td>32.6</td></tr><tr><td>Asher</td><td>40</td><td>91</td><td>1.76</td><td>29.4</td></tr><tr><td>Barnabay</td><td>25</td><td>69</td><td>1.64</td><td>25.7</td></tr><tr><td>Benedict</td><td>37</td><td>115</td><td>1.72</td><td>38.9</td></tr><tr><td>Benjamin</td><td>41</td><td>76</td><td>1.85</td><td>22.2</td></tr><tr><td>Bradley</td><td>42</td><td>54</td><td>1.91</td><td>14.8</td></tr><tr><td>Brandon</td><td>45</td><td>115</td><td>1.6</td><td>44.9</td></tr><tr><td>Brian</td><td>52</td><td>52</td><td>1.68</td><td>18.4</td></tr><tr><td>Brice</td><td>43</td><td>81</td><td>1.6</td><td>31.6</td></tr><tr><td>Bruce</td><td>41</td><td>53</td><td>1.61</td><td>20.4</td></tr><tr><td>Caleb</td><td>36</td><td>102</td><td>1.72</td><td>34.5</td></tr><tr><td>Cameron</td><td>60</td><td>104</td><td>1.87</td><td>29.7</td></tr><tr><td>Charles</td><td>32</td><td>90</td><td>1.74</td><td>29.7</td></tr><tr><td>Christopher</td><td>57</td><td>75</td><td>1.99</td><td>18.9</td></tr><tr><td>Clinton</td><td>44</td><td>61</td><td>1.95</td><td>16.0</td></tr><tr><td>Colin</td><td>37</td><td>81</td><td>1.57</td><td>32.9</td></tr><tr><td>Connor</td><td>32</td><td>111</td><td>1.71</td><td>38.0</td></tr><tr><td>Damian</td><td>28</td><td>116</td><td>1.96</td><td>30.2</td></tr><tr><td>Daniel</td><td>27</td><td>103</td><td>1.88</td><td>29.1</td></tr><tr><td>David</td><td>43</td><td>74</td><td>1.6</td><td>28.9</td></tr><tr><td>Declan</td><td>36</td><td>114</td><td>1.93</td><td>30.6</td></tr><tr><td>Dexter</td><td>57</td><td>80</td><td>1.75</td><td>26.1</td></tr><tr><td>Dominic</td><td>22</td><td>77</td><td>1.62</td><td>29.3</td></tr><tr><td>Donald</td><td>51</td><td>75</td><td>1.66</td><td>27.2</td></tr><tr><td>Douglas</td><td>28</td><td>93</td><td>1.99</td><td>23.5</td></tr><tr><td>Duncan</td><td>27</td><td>99</td><td>1.78</td><td>31.2</td></tr><tr><td>Dustin</td><td>25</td><td>100</td><td>1.87</td><td>28.6</td></tr><tr><td>Dylan</td><td>39</td><td>117</td><td>1.94</td><td>31.1</td></tr><tr><td>Edgard</td><td>47</td><td>75</td><td>1.86</td><td>21.7</td></tr><tr><td>Edward</td><td>48</td><td>117</td><td>1.53</td><td>50.0</td></tr><tr><td>Eli</td><td>24</td><td>52</td><td>1.7</td><td>18.0</td></tr><tr><td>Elias</td><td>54</td><td>58</td><td>1.7</td><td>20.1</td></tr><tr><td>Eric</td><td>39</td><td>106</td><td>1.71</td><td>36.3</td></tr><tr><td>Ethan</td><td>32</td><td>89</td><td>1.82</td><td>26.9</td></tr><tr><td>Evan</td><td>65</td><td>107</td><td>1.95</td><td>28.1</td></tr><tr><td>Ezra</td><td>53</td><td>51</td><td>1.57</td><td>20.7</td></tr><tr><td>Forrest</td><td>40</td><td>58</td><td>1.57</td><td>23.5</td></tr><tr><td>Frank</td><td>34</td><td>79</td><td>1.63</td><td>29.7</td></tr><tr><td>Frederick</td><td>23</td><td>56</td><td>1.56</td><td>23.0</td></tr><tr><td>George</td><td>28</td><td>84</td><td>1.57</td><td>34.1</td></tr><tr><td>Gilbert</td><td>42</td><td>98</td><td>2.0</td><td>24.5</td></tr><tr><td>Graham</td><td>20</td><td>51</td><td>1.61</td><td>19.7</td></tr><tr><td>Hank</td><td>44</td><td>71</td><td>1.75</td><td>23.2</td></tr><tr><td>Harold</td><td>49</td><td>74</td><td>1.63</td><td>27.9</td></tr><tr><td>Harry</td><td>32</td><td>89</td><td>1.96</td><td>23.2</td></tr><tr><td>Harvey</td><td>43</td><td>120</td><td>1.54</td><td>50.6</td></tr><tr><td>Henry</td><td>25</td><td>78</td><td>1.93</td><td>20.9</td></tr><tr><td>Ian</td><td>19</td><td>77</td><td>1.56</td><td>31.6</td></tr><tr><td>Jack</td><td>59</td><td>81</td><td>1.79</td><td>25.3</td></tr><tr><td>Jackson</td><td>64</td><td>114</td><td>1.83</td><td>34.0</td></tr><tr><td>Jacob</td><td>65</td><td>95</td><td>2.0</td><td>23.8</td></tr><tr><td>James</td><td>18</td><td>89</td><td>1.53</td><td>38.0</td></tr><tr><td>John</td><td>54</td><td>60</td><td>1.98</td><td>15.3</td></tr><tr><td>Jonathan</td><td>55</td><td>96</td><td>1.53</td><td>41.0</td></tr><tr><td>Jordan</td><td>55</td><td>90</td><td>1.68</td><td>31.9</td></tr><tr><td>Joseph</td><td>62</td><td>88</td><td>1.5</td><td>39.1</td></tr><tr><td>Joshua</td><td>59</td><td>116</td><td>1.52</td><td>50.2</td></tr><tr><td>Jude</td><td>53</td><td>79</td><td>1.59</td><td>31.2</td></tr><tr><td>Julian</td><td>64</td><td>51</td><td>1.62</td><td>19.4</td></tr><tr><td>Justin</td><td>36</td><td>114</td><td>1.52</td><td>49.3</td></tr><tr><td>Kenneth</td><td>61</td><td>101</td><td>1.8</td><td>31.2</td></tr><tr><td>Kevin</td><td>35</td><td>87</td><td>1.95</td><td>22.9</td></tr><tr><td>Kyle</td><td>26</td><td>115</td><td>1.51</td><td>50.4</td></tr><tr><td>Lewis</td><td>18</td><td>97</td><td>1.88</td><td>27.4</td></tr><tr><td>Liam</td><td>62</td><td>86</td><td>1.82</td><td>26.0</td></tr><tr><td>Logan</td><td>35</td><td>74</td><td>1.64</td><td>27.5</td></tr><tr><td>Luke</td><td>43</td><td>86</td><td>1.76</td><td>27.8</td></tr><tr><td>Malcolm</td><td>46</td><td>107</td><td>1.52</td><td>46.3</td></tr><tr><td>Mark</td><td>47</td><td>95</td><td>1.87</td><td>27.2</td></tr><tr><td>Martin</td><td>61</td><td>50</td><td>1.94</td><td>13.3</td></tr><tr><td>Matthew</td><td>29</td><td>61</td><td>1.9</td><td>16.9</td></tr><tr><td>Maximiliam</td><td>56</td><td>98</td><td>1.85</td><td>28.6</td></tr><tr><td>Michael</td><td>65</td><td>77</td><td>1.57</td><td>31.2</td></tr><tr><td>Milo</td><td>52</td><td>115</td><td>1.99</td><td>29.0</td></tr><tr><td>Nathaniel</td><td>37</td><td>100</td><td>1.99</td><td>25.3</td></tr><tr><td>Neil</td><td>23</td><td>95</td><td>1.6</td><td>37.1</td></tr><tr><td>Nicholas</td><td>41</td><td>109</td><td>1.58</td><td>43.7</td></tr><tr><td>Noah</td><td>19</td><td>73</td><td>1.93</td><td>19.6</td></tr><tr><td>Oliver</td><td>57</td><td>102</td><td>1.71</td><td>34.9</td></tr><tr><td>Oscar</td><td>21</td><td>99</td><td>1.76</td><td>32.0</td></tr><tr><td>Owen</td><td>33</td><td>68</td><td>1.82</td><td>20.5</td></tr><tr><td>Patrick</td><td>64</td><td>52</td><td>1.82</td><td>15.7</td></tr><tr><td>Paul</td><td>39</td><td>93</td><td>1.59</td><td>36.8</td></tr><tr><td>Peter</td><td>65</td><td>110</td><td>1.75</td><td>35.9</td></tr><tr><td>Quincy</td><td>53</td><td>73</td><td>1.78</td><td>23.0</td></tr><tr><td>Ralph</td><td>60</td><td>62</td><td>1.84</td><td>18.3</td></tr><tr><td>Richard</td><td>54</td><td>58</td><td>1.98</td><td>14.8</td></tr><tr><td>Robert</td><td>41</td><td>85</td><td>1.56</td><td>34.9</td></tr><tr><td>Robin</td><td>31</td><td>114</td><td>1.61</td><td>44.0</td></tr><tr><td>Roger</td><td>58</td><td>77</td><td>1.68</td><td>27.3</td></tr><tr><td>Russell</td><td>24</td><td>108</td><td>1.64</td><td>40.2</td></tr><tr><td>Ryan</td><td>42</td><td>74</td><td>1.58</td><td>29.6</td></tr><tr><td>Ryder</td><td>64</td><td>58</td><td>1.52</td><td>25.1</td></tr><tr><td>Samuel</td><td>23</td><td>104</td><td>1.82</td><td>31.4</td></tr><tr><td>Scott</td><td>59</td><td>53</td><td>1.67</td><td>19.0</td></tr><tr><td>Sean</td><td>54</td><td>73</td><td>1.61</td><td>28.2</td></tr><tr><td>Sebastian</td><td>39</td><td>102</td><td>1.99</td><td>25.8</td></tr><tr><td>Stephen</td><td>21</td><td>74</td><td>1.61</td><td>28.5</td></tr><tr><td>Steven</td><td>45</td><td>93</td><td>1.97</td><td>24.0</td></tr><tr><td>Stuart</td><td>59</td><td>70</td><td>1.93</td><td>18.8</td></tr><tr><td>Thomas</td><td>32</td><td>120</td><td>1.56</td><td>49.3</td></tr><tr><td>Tyler</td><td>26</td><td>95</td><td>1.62</td><td>36.2</td></tr><tr><td>Vincent</td><td>36</td><td>109</td><td>1.57</td><td>44.2</td></tr><tr><td>Walter</td><td>44</td><td>108</td><td>1.9</td><td>29.9</td></tr><tr><td>William</td><td>23</td><td>108</td><td>1.63</td><td>40.6</td></tr><tr><td>Wyatt</td><td>51</td><td>83</td><td>1.98</td><td>21.2</td></tr></tbody></table></div>"
      ]
     },
     "metadata": {
      "application/vnd.databricks.v1+output": {
       "addedWidgets": {},
       "aggData": [],
       "aggError": "",
       "aggOverflow": false,
       "aggSchema": [],
       "aggSeriesLimitReached": false,
       "aggType": "",
       "arguments": {},
       "columnCustomDisplayInfos": {},
       "data": [
        [
         "Aaron",
         39,
         53,
         1.93,
         14.2
        ],
        [
         "Adam",
         46,
         100,
         1.58,
         40.1
        ],
        [
         "Adrian",
         24,
         110,
         1.57,
         44.6
        ],
        [
         "Alec",
         39,
         57,
         1.83,
         17.0
        ],
        [
         "Alexander",
         32,
         89,
         1.54,
         37.5
        ],
        [
         "Alfred",
         58,
         116,
         1.53,
         49.6
        ],
        [
         "Andrew",
         59,
         60,
         1.58,
         24.0
        ],
        [
         "Anthony",
         22,
         57,
         1.5,
         25.3
        ],
        [
         "Arthur",
         20,
         114,
         1.87,
         32.6
        ],
        [
         "Asher",
         40,
         91,
         1.76,
         29.4
        ],
        [
         "Barnabay",
         25,
         69,
         1.64,
         25.7
        ],
        [
         "Benedict",
         37,
         115,
         1.72,
         38.9
        ],
        [
         "Benjamin",
         41,
         76,
         1.85,
         22.2
        ],
        [
         "Bradley",
         42,
         54,
         1.91,
         14.8
        ],
        [
         "Brandon",
         45,
         115,
         1.6,
         44.9
        ],
        [
         "Brian",
         52,
         52,
         1.68,
         18.4
        ],
        [
         "Brice",
         43,
         81,
         1.6,
         31.6
        ],
        [
         "Bruce",
         41,
         53,
         1.61,
         20.4
        ],
        [
         "Caleb",
         36,
         102,
         1.72,
         34.5
        ],
        [
         "Cameron",
         60,
         104,
         1.87,
         29.7
        ],
        [
         "Charles",
         32,
         90,
         1.74,
         29.7
        ],
        [
         "Christopher",
         57,
         75,
         1.99,
         18.9
        ],
        [
         "Clinton",
         44,
         61,
         1.95,
         16.0
        ],
        [
         "Colin",
         37,
         81,
         1.57,
         32.9
        ],
        [
         "Connor",
         32,
         111,
         1.71,
         38.0
        ],
        [
         "Damian",
         28,
         116,
         1.96,
         30.2
        ],
        [
         "Daniel",
         27,
         103,
         1.88,
         29.1
        ],
        [
         "David",
         43,
         74,
         1.6,
         28.9
        ],
        [
         "Declan",
         36,
         114,
         1.93,
         30.6
        ],
        [
         "Dexter",
         57,
         80,
         1.75,
         26.1
        ],
        [
         "Dominic",
         22,
         77,
         1.62,
         29.3
        ],
        [
         "Donald",
         51,
         75,
         1.66,
         27.2
        ],
        [
         "Douglas",
         28,
         93,
         1.99,
         23.5
        ],
        [
         "Duncan",
         27,
         99,
         1.78,
         31.2
        ],
        [
         "Dustin",
         25,
         100,
         1.87,
         28.6
        ],
        [
         "Dylan",
         39,
         117,
         1.94,
         31.1
        ],
        [
         "Edgard",
         47,
         75,
         1.86,
         21.7
        ],
        [
         "Edward",
         48,
         117,
         1.53,
         50.0
        ],
        [
         "Eli",
         24,
         52,
         1.7,
         18.0
        ],
        [
         "Elias",
         54,
         58,
         1.7,
         20.1
        ],
        [
         "Eric",
         39,
         106,
         1.71,
         36.3
        ],
        [
         "Ethan",
         32,
         89,
         1.82,
         26.9
        ],
        [
         "Evan",
         65,
         107,
         1.95,
         28.1
        ],
        [
         "Ezra",
         53,
         51,
         1.57,
         20.7
        ],
        [
         "Forrest",
         40,
         58,
         1.57,
         23.5
        ],
        [
         "Frank",
         34,
         79,
         1.63,
         29.7
        ],
        [
         "Frederick",
         23,
         56,
         1.56,
         23.0
        ],
        [
         "George",
         28,
         84,
         1.57,
         34.1
        ],
        [
         "Gilbert",
         42,
         98,
         2.0,
         24.5
        ],
        [
         "Graham",
         20,
         51,
         1.61,
         19.7
        ],
        [
         "Hank",
         44,
         71,
         1.75,
         23.2
        ],
        [
         "Harold",
         49,
         74,
         1.63,
         27.9
        ],
        [
         "Harry",
         32,
         89,
         1.96,
         23.2
        ],
        [
         "Harvey",
         43,
         120,
         1.54,
         50.6
        ],
        [
         "Henry",
         25,
         78,
         1.93,
         20.9
        ],
        [
         "Ian",
         19,
         77,
         1.56,
         31.6
        ],
        [
         "Jack",
         59,
         81,
         1.79,
         25.3
        ],
        [
         "Jackson",
         64,
         114,
         1.83,
         34.0
        ],
        [
         "Jacob",
         65,
         95,
         2.0,
         23.8
        ],
        [
         "James",
         18,
         89,
         1.53,
         38.0
        ],
        [
         "John",
         54,
         60,
         1.98,
         15.3
        ],
        [
         "Jonathan",
         55,
         96,
         1.53,
         41.0
        ],
        [
         "Jordan",
         55,
         90,
         1.68,
         31.9
        ],
        [
         "Joseph",
         62,
         88,
         1.5,
         39.1
        ],
        [
         "Joshua",
         59,
         116,
         1.52,
         50.2
        ],
        [
         "Jude",
         53,
         79,
         1.59,
         31.2
        ],
        [
         "Julian",
         64,
         51,
         1.62,
         19.4
        ],
        [
         "Justin",
         36,
         114,
         1.52,
         49.3
        ],
        [
         "Kenneth",
         61,
         101,
         1.8,
         31.2
        ],
        [
         "Kevin",
         35,
         87,
         1.95,
         22.9
        ],
        [
         "Kyle",
         26,
         115,
         1.51,
         50.4
        ],
        [
         "Lewis",
         18,
         97,
         1.88,
         27.4
        ],
        [
         "Liam",
         62,
         86,
         1.82,
         26.0
        ],
        [
         "Logan",
         35,
         74,
         1.64,
         27.5
        ],
        [
         "Luke",
         43,
         86,
         1.76,
         27.8
        ],
        [
         "Malcolm",
         46,
         107,
         1.52,
         46.3
        ],
        [
         "Mark",
         47,
         95,
         1.87,
         27.2
        ],
        [
         "Martin",
         61,
         50,
         1.94,
         13.3
        ],
        [
         "Matthew",
         29,
         61,
         1.9,
         16.9
        ],
        [
         "Maximiliam",
         56,
         98,
         1.85,
         28.6
        ],
        [
         "Michael",
         65,
         77,
         1.57,
         31.2
        ],
        [
         "Milo",
         52,
         115,
         1.99,
         29.0
        ],
        [
         "Nathaniel",
         37,
         100,
         1.99,
         25.3
        ],
        [
         "Neil",
         23,
         95,
         1.6,
         37.1
        ],
        [
         "Nicholas",
         41,
         109,
         1.58,
         43.7
        ],
        [
         "Noah",
         19,
         73,
         1.93,
         19.6
        ],
        [
         "Oliver",
         57,
         102,
         1.71,
         34.9
        ],
        [
         "Oscar",
         21,
         99,
         1.76,
         32.0
        ],
        [
         "Owen",
         33,
         68,
         1.82,
         20.5
        ],
        [
         "Patrick",
         64,
         52,
         1.82,
         15.7
        ],
        [
         "Paul",
         39,
         93,
         1.59,
         36.8
        ],
        [
         "Peter",
         65,
         110,
         1.75,
         35.9
        ],
        [
         "Quincy",
         53,
         73,
         1.78,
         23.0
        ],
        [
         "Ralph",
         60,
         62,
         1.84,
         18.3
        ],
        [
         "Richard",
         54,
         58,
         1.98,
         14.8
        ],
        [
         "Robert",
         41,
         85,
         1.56,
         34.9
        ],
        [
         "Robin",
         31,
         114,
         1.61,
         44.0
        ],
        [
         "Roger",
         58,
         77,
         1.68,
         27.3
        ],
        [
         "Russell",
         24,
         108,
         1.64,
         40.2
        ],
        [
         "Ryan",
         42,
         74,
         1.58,
         29.6
        ],
        [
         "Ryder",
         64,
         58,
         1.52,
         25.1
        ],
        [
         "Samuel",
         23,
         104,
         1.82,
         31.4
        ],
        [
         "Scott",
         59,
         53,
         1.67,
         19.0
        ],
        [
         "Sean",
         54,
         73,
         1.61,
         28.2
        ],
        [
         "Sebastian",
         39,
         102,
         1.99,
         25.8
        ],
        [
         "Stephen",
         21,
         74,
         1.61,
         28.5
        ],
        [
         "Steven",
         45,
         93,
         1.97,
         24.0
        ],
        [
         "Stuart",
         59,
         70,
         1.93,
         18.8
        ],
        [
         "Thomas",
         32,
         120,
         1.56,
         49.3
        ],
        [
         "Tyler",
         26,
         95,
         1.62,
         36.2
        ],
        [
         "Vincent",
         36,
         109,
         1.57,
         44.2
        ],
        [
         "Walter",
         44,
         108,
         1.9,
         29.9
        ],
        [
         "William",
         23,
         108,
         1.63,
         40.6
        ],
        [
         "Wyatt",
         51,
         83,
         1.98,
         21.2
        ]
       ],
       "datasetInfos": [],
       "dbfsResultPath": null,
       "isJsonSchema": true,
       "metadata": {},
       "overflow": false,
       "plotOptions": {
        "customPlotOptions": {},
        "displayType": "table",
        "pivotAggregation": null,
        "pivotColumns": null,
        "xColumns": null,
        "yColumns": null
       },
       "removedWidgets": [],
       "schema": [
        {
         "metadata": "{}",
         "name": "Nomes",
         "type": "\"string\""
        },
        {
         "metadata": "{}",
         "name": "Idades",
         "type": "\"integer\""
        },
        {
         "metadata": "{}",
         "name": "Peso",
         "type": "\"integer\""
        },
        {
         "metadata": "{}",
         "name": "Altura",
         "type": "\"double\""
        },
        {
         "metadata": "{}",
         "name": "IMC",
         "type": "\"double\""
        }
       ],
       "type": "table"
      }
     },
     "output_type": "display_data"
    }
   ],
   "source": [
    "#visualizando os dados importados\n",
    "display(df)"
   ]
  },
  {
   "cell_type": "code",
   "execution_count": 0,
   "metadata": {
    "application/vnd.databricks.v1+cell": {
     "cellMetadata": {
      "byteLimit": 2048000,
      "rowLimit": 10000
     },
     "inputWidgets": {},
     "nuid": "4a8415ae-89c3-434f-92b8-ad2d8076d4f1",
     "showTitle": false,
     "title": ""
    }
   },
   "outputs": [
    {
     "output_type": "display_data",
     "data": {
      "text/html": [
       "<div class = \"ansiout\">\n",
       "This module provides various utilities for users to interact with the rest of Databricks.\n",
       "  <h3></h3><b>credentials: DatabricksCredentialUtils</b> -> Utilities for interacting with credentials within notebooks<br /><b>data: DataUtils</b> -> Utilities for understanding and interacting with datasets (EXPERIMENTAL)<br /><b>fs: DbfsUtils</b> -> Manipulates the Databricks filesystem (DBFS) from the console<br /><b>jobs: JobsUtils</b> -> Utilities for leveraging jobs features<br /><b>library: LibraryUtils</b> -> Utilities for session isolated libraries<br /><b>meta: MetaUtils</b> -> Methods to hook into the compiler (EXPERIMENTAL)<br /><b>notebook: NotebookUtils</b> -> Utilities for the control flow of a notebook (EXPERIMENTAL)<br /><b>preview: Preview</b> -> Utilities under preview category<br /><b>secrets: SecretUtils</b> -> Provides utilities for leveraging secrets within notebooks<br /><b>widgets: WidgetsUtils</b> -> Methods to create and get bound value of input widgets inside notebooks<br /><br /></div>"
      ]
     },
     "metadata": {
      "application/vnd.databricks.v1+output": {
       "addedWidgets": {},
       "arguments": {},
       "data": "<div class = \"ansiout\">\nThis module provides various utilities for users to interact with the rest of Databricks.\n  <h3></h3><b>credentials: DatabricksCredentialUtils</b> -> Utilities for interacting with credentials within notebooks<br /><b>data: DataUtils</b> -> Utilities for understanding and interacting with datasets (EXPERIMENTAL)<br /><b>fs: DbfsUtils</b> -> Manipulates the Databricks filesystem (DBFS) from the console<br /><b>jobs: JobsUtils</b> -> Utilities for leveraging jobs features<br /><b>library: LibraryUtils</b> -> Utilities for session isolated libraries<br /><b>meta: MetaUtils</b> -> Methods to hook into the compiler (EXPERIMENTAL)<br /><b>notebook: NotebookUtils</b> -> Utilities for the control flow of a notebook (EXPERIMENTAL)<br /><b>preview: Preview</b> -> Utilities under preview category<br /><b>secrets: SecretUtils</b> -> Provides utilities for leveraging secrets within notebooks<br /><b>widgets: WidgetsUtils</b> -> Methods to create and get bound value of input widgets inside notebooks<br /><br /></div>",
       "datasetInfos": [],
       "metadata": {},
       "removedWidgets": [],
       "textData": null,
       "type": "htmlSandbox"
      }
     },
     "output_type": "display_data"
    }
   ],
   "source": [
    "dbutils.help()"
   ]
  },
  {
   "cell_type": "code",
   "execution_count": 0,
   "metadata": {
    "application/vnd.databricks.v1+cell": {
     "cellMetadata": {
      "byteLimit": 2048000,
      "rowLimit": 10000
     },
     "inputWidgets": {},
     "nuid": "b3c8f932-9726-4bed-9107-6e84cd6d1673",
     "showTitle": false,
     "title": ""
    }
   },
   "outputs": [
    {
     "output_type": "display_data",
     "data": {
      "text/html": [
       "<div class = \"ansiout\"><b>dbutils.fs</b> provides utilities for working with FileSystems. Most methods in\n",
       "this package can take either a DBFS path (e.g., \"/foo\" or \"dbfs:/foo\"), or\n",
       "another FileSystem URI.\n",
       "\n",
       "For more info about a method, use <b>dbutils.fs.help(\"methodName\")</b>.\n",
       "\n",
       "In notebooks, you can also use the %fs shorthand to access DBFS. The %fs shorthand maps\n",
       "straightforwardly onto dbutils calls. For example, \"%fs head --maxBytes=10000 /file/path\"\n",
       "translates into \"dbutils.fs.head(\"/file/path\", maxBytes = 10000)\".\n",
       "    <h3>mount</h3><b>mount(source: String, mountPoint: String, encryptionType: String = \"\", owner: String = null, extraConfigs: Map = Map.empty[String, String]): boolean</b> -> Mounts the given source directory into DBFS at the given mount point<br /><b>mounts: Seq</b> -> Displays information about what is mounted within DBFS<br /><b>refreshMounts: boolean</b> -> Forces all machines in this cluster to refresh their mount cache, ensuring they receive the most recent information<br /><b>unmount(mountPoint: String): boolean</b> -> Deletes a DBFS mount point<br /><b>updateMount(source: String, mountPoint: String, encryptionType: String = \"\", owner: String = null, extraConfigs: Map = Map.empty[String, String]): boolean</b> -> Similar to mount(), but updates an existing mount point (if present) instead of creating a new one<br /><br /><h3>fsutils</h3><b>cp(from: String, to: String, recurse: boolean = false): boolean</b> -> Copies a file or directory, possibly across FileSystems<br /><b>head(file: String, maxBytes: int = 65536): String</b> -> Returns up to the first 'maxBytes' bytes of the given file as a String encoded in UTF-8<br /><b>ls(dir: String): Seq</b> -> Lists the contents of a directory<br /><b>mkdirs(dir: String): boolean</b> -> Creates the given directory if it does not exist, also creating any necessary parent directories<br /><b>mv(from: String, to: String, recurse: boolean = false): boolean</b> -> Moves a file or directory, possibly across FileSystems<br /><b>put(file: String, contents: String, overwrite: boolean = false): boolean</b> -> Writes the given String out to a file, encoded in UTF-8<br /><b>rm(dir: String, recurse: boolean = false): boolean</b> -> Removes a file or directory<br /><br /></div>"
      ]
     },
     "metadata": {
      "application/vnd.databricks.v1+output": {
       "addedWidgets": {},
       "arguments": {},
       "data": "<div class = \"ansiout\"><b>dbutils.fs</b> provides utilities for working with FileSystems. Most methods in\nthis package can take either a DBFS path (e.g., \"/foo\" or \"dbfs:/foo\"), or\nanother FileSystem URI.\n\nFor more info about a method, use <b>dbutils.fs.help(\"methodName\")</b>.\n\nIn notebooks, you can also use the %fs shorthand to access DBFS. The %fs shorthand maps\nstraightforwardly onto dbutils calls. For example, \"%fs head --maxBytes=10000 /file/path\"\ntranslates into \"dbutils.fs.head(\"/file/path\", maxBytes = 10000)\".\n    <h3>mount</h3><b>mount(source: String, mountPoint: String, encryptionType: String = \"\", owner: String = null, extraConfigs: Map = Map.empty[String, String]): boolean</b> -> Mounts the given source directory into DBFS at the given mount point<br /><b>mounts: Seq</b> -> Displays information about what is mounted within DBFS<br /><b>refreshMounts: boolean</b> -> Forces all machines in this cluster to refresh their mount cache, ensuring they receive the most recent information<br /><b>unmount(mountPoint: String): boolean</b> -> Deletes a DBFS mount point<br /><b>updateMount(source: String, mountPoint: String, encryptionType: String = \"\", owner: String = null, extraConfigs: Map = Map.empty[String, String]): boolean</b> -> Similar to mount(), but updates an existing mount point (if present) instead of creating a new one<br /><br /><h3>fsutils</h3><b>cp(from: String, to: String, recurse: boolean = false): boolean</b> -> Copies a file or directory, possibly across FileSystems<br /><b>head(file: String, maxBytes: int = 65536): String</b> -> Returns up to the first 'maxBytes' bytes of the given file as a String encoded in UTF-8<br /><b>ls(dir: String): Seq</b> -> Lists the contents of a directory<br /><b>mkdirs(dir: String): boolean</b> -> Creates the given directory if it does not exist, also creating any necessary parent directories<br /><b>mv(from: String, to: String, recurse: boolean = false): boolean</b> -> Moves a file or directory, possibly across FileSystems<br /><b>put(file: String, contents: String, overwrite: boolean = false): boolean</b> -> Writes the given String out to a file, encoded in UTF-8<br /><b>rm(dir: String, recurse: boolean = false): boolean</b> -> Removes a file or directory<br /><br /></div>",
       "datasetInfos": [],
       "metadata": {},
       "removedWidgets": [],
       "textData": null,
       "type": "htmlSandbox"
      }
     },
     "output_type": "display_data"
    }
   ],
   "source": [
    "dbutils.fs.help()"
   ]
  },
  {
   "cell_type": "code",
   "execution_count": 0,
   "metadata": {
    "application/vnd.databricks.v1+cell": {
     "cellMetadata": {
      "byteLimit": 2048000,
      "rowLimit": 10000
     },
     "inputWidgets": {},
     "nuid": "6ad676e0-870b-4ece-98a9-ff44b6b0a7dc",
     "showTitle": false,
     "title": ""
    }
   },
   "outputs": [
    {
     "output_type": "stream",
     "name": "stdout",
     "output_type": "stream",
     "text": [
      "Out[61]: [FileInfo(path='dbfs:/FileStore/', name='FileStore/', size=0, modificationTime=0),\n FileInfo(path='dbfs:/databricks-datasets/', name='databricks-datasets/', size=0, modificationTime=0),\n FileInfo(path='dbfs:/databricks-results/', name='databricks-results/', size=0, modificationTime=0),\n FileInfo(path='dbfs:/user/', name='user/', size=0, modificationTime=0)]"
     ]
    }
   ],
   "source": [
    "#listando tudo que tem em file system\n",
    "dbutils.fs.ls('/')\n"
   ]
  },
  {
   "cell_type": "code",
   "execution_count": 0,
   "metadata": {
    "application/vnd.databricks.v1+cell": {
     "cellMetadata": {
      "byteLimit": 2048000,
      "rowLimit": 10000
     },
     "inputWidgets": {},
     "nuid": "08b79b01-f938-44f1-ad44-4ca9faf5f659",
     "showTitle": false,
     "title": ""
    }
   },
   "outputs": [
    {
     "output_type": "stream",
     "name": "stdout",
     "output_type": "stream",
     "text": [
      "dbfs:/FileStore/\ndbfs:/databricks-datasets/\ndbfs:/databricks-results/\ndbfs:/user/\n"
     ]
    }
   ],
   "source": [
    "#listando todos os paths que tem em file system\n",
    "for item in dbutils.fs.ls('/'):\n",
    "    print(item.path)\n"
   ]
  },
  {
   "cell_type": "code",
   "execution_count": 0,
   "metadata": {
    "application/vnd.databricks.v1+cell": {
     "cellMetadata": {
      "byteLimit": 2048000,
      "rowLimit": 10000
     },
     "inputWidgets": {},
     "nuid": "d64b0802-6a45-41c1-8156-9f84e10ff160",
     "showTitle": false,
     "title": ""
    }
   },
   "outputs": [
    {
     "output_type": "stream",
     "name": "stdout",
     "output_type": "stream",
     "text": [
      "dbfs:/FileStore/tables/\n"
     ]
    }
   ],
   "source": [
    "#listando conteúdo que tem em na pasta FileStore\n",
    "for item in dbutils.fs.ls('/FileStore'):\n",
    "    print(item.path)"
   ]
  },
  {
   "cell_type": "code",
   "execution_count": 0,
   "metadata": {
    "application/vnd.databricks.v1+cell": {
     "cellMetadata": {
      "byteLimit": 2048000,
      "rowLimit": 10000
     },
     "inputWidgets": {},
     "nuid": "2ce2f978-3058-4589-b802-823e3d64bb12",
     "showTitle": false,
     "title": ""
    }
   },
   "outputs": [
    {
     "output_type": "display_data",
     "data": {
      "text/html": [
       "<style scoped>\n",
       "  .table-result-container {\n",
       "    max-height: 300px;\n",
       "    overflow: auto;\n",
       "  }\n",
       "  table, th, td {\n",
       "    border: 1px solid black;\n",
       "    border-collapse: collapse;\n",
       "  }\n",
       "  th, td {\n",
       "    padding: 5px;\n",
       "  }\n",
       "  th {\n",
       "    text-align: left;\n",
       "  }\n",
       "</style><div class='table-result-container'><table class='table-result'><thead style='background-color: white'><tr><th>path</th><th>name</th><th>size</th><th>modificationTime</th></tr></thead><tbody><tr><td>dbfs:/FileStore/tables/BACEN__Bancos_e_financeiras___Irregularidades_por_instituicao_financeira___Cópia_de_Irregularidades_.csv</td><td>BACEN__Bancos_e_financeiras___Irregularidades_por_instituicao_financeira___Cópia_de_Irregularidades_.csv</td><td>306181</td><td>1697966835000</td></tr><tr><td>dbfs:/FileStore/tables/Vendas-1.csv</td><td>Vendas-1.csv</td><td>1096336</td><td>1666219625000</td></tr><tr><td>dbfs:/FileStore/tables/Vendas.csv</td><td>Vendas.csv</td><td>1096336</td><td>1666206434000</td></tr><tr><td>dbfs:/FileStore/tables/Vendas_Potencial-1.csv</td><td>Vendas_Potencial-1.csv</td><td>538765</td><td>1666219620000</td></tr><tr><td>dbfs:/FileStore/tables/Vendas_Potencial.csv</td><td>Vendas_Potencial.csv</td><td>538765</td><td>1666206442000</td></tr><tr><td>dbfs:/FileStore/tables/aula-databricks/</td><td>aula-databricks/</td><td>0</td><td>0</td></tr><tr><td>dbfs:/FileStore/tables/data.csv</td><td>data.csv</td><td>2781</td><td>1698370847000</td></tr><tr><td>dbfs:/FileStore/tables/ebac/</td><td>ebac/</td><td>0</td><td>0</td></tr><tr><td>dbfs:/FileStore/tables/ebac_yf/</td><td>ebac_yf/</td><td>0</td><td>0</td></tr></tbody></table></div>"
      ]
     },
     "metadata": {
      "application/vnd.databricks.v1+output": {
       "addedWidgets": {},
       "aggData": [],
       "aggError": "",
       "aggOverflow": false,
       "aggSchema": [],
       "aggSeriesLimitReached": false,
       "aggType": "",
       "arguments": {},
       "columnCustomDisplayInfos": {},
       "data": [
        [
         "dbfs:/FileStore/tables/BACEN__Bancos_e_financeiras___Irregularidades_por_instituicao_financeira___Cópia_de_Irregularidades_.csv",
         "BACEN__Bancos_e_financeiras___Irregularidades_por_instituicao_financeira___Cópia_de_Irregularidades_.csv",
         306181,
         1697966835000
        ],
        [
         "dbfs:/FileStore/tables/Vendas-1.csv",
         "Vendas-1.csv",
         1096336,
         1666219625000
        ],
        [
         "dbfs:/FileStore/tables/Vendas.csv",
         "Vendas.csv",
         1096336,
         1666206434000
        ],
        [
         "dbfs:/FileStore/tables/Vendas_Potencial-1.csv",
         "Vendas_Potencial-1.csv",
         538765,
         1666219620000
        ],
        [
         "dbfs:/FileStore/tables/Vendas_Potencial.csv",
         "Vendas_Potencial.csv",
         538765,
         1666206442000
        ],
        [
         "dbfs:/FileStore/tables/aula-databricks/",
         "aula-databricks/",
         0,
         0
        ],
        [
         "dbfs:/FileStore/tables/data.csv",
         "data.csv",
         2781,
         1698370847000
        ],
        [
         "dbfs:/FileStore/tables/ebac/",
         "ebac/",
         0,
         0
        ],
        [
         "dbfs:/FileStore/tables/ebac_yf/",
         "ebac_yf/",
         0,
         0
        ]
       ],
       "datasetInfos": [],
       "dbfsResultPath": null,
       "isJsonSchema": true,
       "metadata": {},
       "overflow": false,
       "plotOptions": {
        "customPlotOptions": {},
        "displayType": "table",
        "pivotAggregation": null,
        "pivotColumns": null,
        "xColumns": null,
        "yColumns": null
       },
       "removedWidgets": [],
       "schema": [
        {
         "metadata": "{}",
         "name": "path",
         "type": "\"string\""
        },
        {
         "metadata": "{}",
         "name": "name",
         "type": "\"string\""
        },
        {
         "metadata": "{}",
         "name": "size",
         "type": "\"long\""
        },
        {
         "metadata": "{}",
         "name": "modificationTime",
         "type": "\"long\""
        }
       ],
       "type": "table"
      }
     },
     "output_type": "display_data"
    }
   ],
   "source": [
    "#listando as tabelas existentes \n",
    "\n",
    "display(dbutils.fs.ls('/FileStore/tables/'))\n"
   ]
  },
  {
   "cell_type": "code",
   "execution_count": 0,
   "metadata": {
    "application/vnd.databricks.v1+cell": {
     "cellMetadata": {
      "byteLimit": 2048000,
      "rowLimit": 10000
     },
     "inputWidgets": {},
     "nuid": "7bbc73e4-bd13-4af2-853d-202b6dd2b821",
     "showTitle": false,
     "title": ""
    }
   },
   "outputs": [
    {
     "output_type": "stream",
     "name": "stdout",
     "output_type": "stream",
     "text": [
      "Out[65]: True"
     ]
    }
   ],
   "source": [
    "#removendo o arquivo data.csv\n",
    "dbutils.fs.rm('/FileStore/tables/data.csv')\n"
   ]
  },
  {
   "cell_type": "code",
   "execution_count": 0,
   "metadata": {
    "application/vnd.databricks.v1+cell": {
     "cellMetadata": {
      "byteLimit": 2048000,
      "rowLimit": 10000
     },
     "inputWidgets": {},
     "nuid": "a673679e-1524-47c5-a1d6-589b151aa09a",
     "showTitle": false,
     "title": ""
    }
   },
   "outputs": [
    {
     "output_type": "stream",
     "name": "stdout",
     "output_type": "stream",
     "text": [
      "Out[66]: [FileInfo(path='dbfs:/FileStore/tables/BACEN__Bancos_e_financeiras___Irregularidades_por_instituicao_financeira___Cópia_de_Irregularidades_.csv', name='BACEN__Bancos_e_financeiras___Irregularidades_por_instituicao_financeira___Cópia_de_Irregularidades_.csv', size=306181, modificationTime=1697966835000),\n FileInfo(path='dbfs:/FileStore/tables/Vendas-1.csv', name='Vendas-1.csv', size=1096336, modificationTime=1666219625000),\n FileInfo(path='dbfs:/FileStore/tables/Vendas.csv', name='Vendas.csv', size=1096336, modificationTime=1666206434000),\n FileInfo(path='dbfs:/FileStore/tables/Vendas_Potencial-1.csv', name='Vendas_Potencial-1.csv', size=538765, modificationTime=1666219620000),\n FileInfo(path='dbfs:/FileStore/tables/Vendas_Potencial.csv', name='Vendas_Potencial.csv', size=538765, modificationTime=1666206442000),\n FileInfo(path='dbfs:/FileStore/tables/aula-databricks/', name='aula-databricks/', size=0, modificationTime=0),\n FileInfo(path='dbfs:/FileStore/tables/ebac/', name='ebac/', size=0, modificationTime=0),\n FileInfo(path='dbfs:/FileStore/tables/ebac_yf/', name='ebac_yf/', size=0, modificationTime=0)]"
     ]
    }
   ],
   "source": [
    "#confirmando remoção\n",
    "dbutils.fs.ls('FileStore/tables')\n"
   ]
  },
  {
   "cell_type": "markdown",
   "metadata": {
    "application/vnd.databricks.v1+cell": {
     "cellMetadata": {
      "byteLimit": 2048000,
      "rowLimit": 10000
     },
     "inputWidgets": {},
     "nuid": "c5dee571-6653-4d46-bd48-213a31f6937c",
     "showTitle": false,
     "title": ""
    }
   },
   "source": [
    "#Aula 2 - Tratando Datasets\n"
   ]
  },
  {
   "cell_type": "code",
   "execution_count": 0,
   "metadata": {
    "application/vnd.databricks.v1+cell": {
     "cellMetadata": {
      "byteLimit": 2048000,
      "rowLimit": 10000
     },
     "inputWidgets": {},
     "nuid": "877a05dd-eec7-41aa-9bb2-1353db6f0428",
     "showTitle": false,
     "title": ""
    }
   },
   "outputs": [
    {
     "output_type": "stream",
     "name": "stdout",
     "output_type": "stream",
     "text": [
      "dbfs:/FileStore/\ndbfs:/databricks-datasets/\ndbfs:/databricks-results/\ndbfs:/user/\n"
     ]
    }
   ],
   "source": [
    "for item in dbutils.fs.ls('/'): print(item.path)\n"
   ]
  },
  {
   "cell_type": "code",
   "execution_count": 0,
   "metadata": {
    "application/vnd.databricks.v1+cell": {
     "cellMetadata": {
      "byteLimit": 2048000,
      "rowLimit": 10000
     },
     "inputWidgets": {},
     "nuid": "fa8a8856-362e-475f-be3d-54210e03fac1",
     "showTitle": false,
     "title": ""
    }
   },
   "outputs": [
    {
     "output_type": "stream",
     "name": "stdout",
     "output_type": "stream",
     "text": [
      "Out[68]: [FileInfo(path='dbfs:/databricks-datasets/COVID/', name='COVID/', size=0, modificationTime=0),\n FileInfo(path='dbfs:/databricks-datasets/README.md', name='README.md', size=976, modificationTime=1532468253000),\n FileInfo(path='dbfs:/databricks-datasets/Rdatasets/', name='Rdatasets/', size=0, modificationTime=0),\n FileInfo(path='dbfs:/databricks-datasets/SPARK_README.md', name='SPARK_README.md', size=3359, modificationTime=1455043490000),\n FileInfo(path='dbfs:/databricks-datasets/adult/', name='adult/', size=0, modificationTime=0),\n FileInfo(path='dbfs:/databricks-datasets/airlines/', name='airlines/', size=0, modificationTime=0),\n FileInfo(path='dbfs:/databricks-datasets/amazon/', name='amazon/', size=0, modificationTime=0),\n FileInfo(path='dbfs:/databricks-datasets/asa/', name='asa/', size=0, modificationTime=0),\n FileInfo(path='dbfs:/databricks-datasets/atlas_higgs/', name='atlas_higgs/', size=0, modificationTime=0),\n FileInfo(path='dbfs:/databricks-datasets/bikeSharing/', name='bikeSharing/', size=0, modificationTime=0),\n FileInfo(path='dbfs:/databricks-datasets/cctvVideos/', name='cctvVideos/', size=0, modificationTime=0),\n FileInfo(path='dbfs:/databricks-datasets/credit-card-fraud/', name='credit-card-fraud/', size=0, modificationTime=0),\n FileInfo(path='dbfs:/databricks-datasets/cs100/', name='cs100/', size=0, modificationTime=0),\n FileInfo(path='dbfs:/databricks-datasets/cs110x/', name='cs110x/', size=0, modificationTime=0),\n FileInfo(path='dbfs:/databricks-datasets/cs190/', name='cs190/', size=0, modificationTime=0),\n FileInfo(path='dbfs:/databricks-datasets/data.gov/', name='data.gov/', size=0, modificationTime=0),\n FileInfo(path='dbfs:/databricks-datasets/definitive-guide/', name='definitive-guide/', size=0, modificationTime=0),\n FileInfo(path='dbfs:/databricks-datasets/delta-sharing/', name='delta-sharing/', size=0, modificationTime=0),\n FileInfo(path='dbfs:/databricks-datasets/flights/', name='flights/', size=0, modificationTime=0),\n FileInfo(path='dbfs:/databricks-datasets/flower_photos/', name='flower_photos/', size=0, modificationTime=0),\n FileInfo(path='dbfs:/databricks-datasets/flowers/', name='flowers/', size=0, modificationTime=0),\n FileInfo(path='dbfs:/databricks-datasets/genomics/', name='genomics/', size=0, modificationTime=0),\n FileInfo(path='dbfs:/databricks-datasets/hail/', name='hail/', size=0, modificationTime=0),\n FileInfo(path='dbfs:/databricks-datasets/identifying-campaign-effectiveness/', name='identifying-campaign-effectiveness/', size=0, modificationTime=0),\n FileInfo(path='dbfs:/databricks-datasets/iot/', name='iot/', size=0, modificationTime=0),\n FileInfo(path='dbfs:/databricks-datasets/iot-stream/', name='iot-stream/', size=0, modificationTime=0),\n FileInfo(path='dbfs:/databricks-datasets/learning-spark/', name='learning-spark/', size=0, modificationTime=0),\n FileInfo(path='dbfs:/databricks-datasets/learning-spark-v2/', name='learning-spark-v2/', size=0, modificationTime=0),\n FileInfo(path='dbfs:/databricks-datasets/lending-club-loan-stats/', name='lending-club-loan-stats/', size=0, modificationTime=0),\n FileInfo(path='dbfs:/databricks-datasets/med-images/', name='med-images/', size=0, modificationTime=0),\n FileInfo(path='dbfs:/databricks-datasets/media/', name='media/', size=0, modificationTime=0),\n FileInfo(path='dbfs:/databricks-datasets/mnist-digits/', name='mnist-digits/', size=0, modificationTime=0),\n FileInfo(path='dbfs:/databricks-datasets/news20.binary/', name='news20.binary/', size=0, modificationTime=0),\n FileInfo(path='dbfs:/databricks-datasets/nyctaxi/', name='nyctaxi/', size=0, modificationTime=0),\n FileInfo(path='dbfs:/databricks-datasets/nyctaxi-with-zipcodes/', name='nyctaxi-with-zipcodes/', size=0, modificationTime=0),\n FileInfo(path='dbfs:/databricks-datasets/online_retail/', name='online_retail/', size=0, modificationTime=0),\n FileInfo(path='dbfs:/databricks-datasets/overlap-join/', name='overlap-join/', size=0, modificationTime=0),\n FileInfo(path='dbfs:/databricks-datasets/power-plant/', name='power-plant/', size=0, modificationTime=0),\n FileInfo(path='dbfs:/databricks-datasets/retail-org/', name='retail-org/', size=0, modificationTime=0),\n FileInfo(path='dbfs:/databricks-datasets/rwe/', name='rwe/', size=0, modificationTime=0),\n FileInfo(path='dbfs:/databricks-datasets/sai-summit-2019-sf/', name='sai-summit-2019-sf/', size=0, modificationTime=0),\n FileInfo(path='dbfs:/databricks-datasets/sample_logs/', name='sample_logs/', size=0, modificationTime=0),\n FileInfo(path='dbfs:/databricks-datasets/samples/', name='samples/', size=0, modificationTime=0),\n FileInfo(path='dbfs:/databricks-datasets/sfo_customer_survey/', name='sfo_customer_survey/', size=0, modificationTime=0),\n FileInfo(path='dbfs:/databricks-datasets/sms_spam_collection/', name='sms_spam_collection/', size=0, modificationTime=0),\n FileInfo(path='dbfs:/databricks-datasets/songs/', name='songs/', size=0, modificationTime=0),\n FileInfo(path='dbfs:/databricks-datasets/structured-streaming/', name='structured-streaming/', size=0, modificationTime=0),\n FileInfo(path='dbfs:/databricks-datasets/timeseries/', name='timeseries/', size=0, modificationTime=0),\n FileInfo(path='dbfs:/databricks-datasets/tpch/', name='tpch/', size=0, modificationTime=0),\n FileInfo(path='dbfs:/databricks-datasets/travel_recommendations_realtime/', name='travel_recommendations_realtime/', size=0, modificationTime=0),\n FileInfo(path='dbfs:/databricks-datasets/warmup/', name='warmup/', size=0, modificationTime=0),\n FileInfo(path='dbfs:/databricks-datasets/weather/', name='weather/', size=0, modificationTime=0),\n FileInfo(path='dbfs:/databricks-datasets/wiki/', name='wiki/', size=0, modificationTime=0),\n FileInfo(path='dbfs:/databricks-datasets/wikipedia-datasets/', name='wikipedia-datasets/', size=0, modificationTime=0),\n FileInfo(path='dbfs:/databricks-datasets/wine-quality/', name='wine-quality/', size=0, modificationTime=0)]"
     ]
    }
   ],
   "source": [
    "dbutils.fs.ls('/databricks-datasets')"
   ]
  },
  {
   "cell_type": "code",
   "execution_count": 0,
   "metadata": {
    "application/vnd.databricks.v1+cell": {
     "cellMetadata": {
      "byteLimit": 2048000,
      "rowLimit": 10000
     },
     "inputWidgets": {},
     "nuid": "d8c64a1e-78c9-4aad-9e0a-841572c9d135",
     "showTitle": false,
     "title": ""
    }
   },
   "outputs": [
    {
     "output_type": "display_data",
     "data": {
      "text/html": [
       "<style scoped>\n",
       "  .table-result-container {\n",
       "    max-height: 300px;\n",
       "    overflow: auto;\n",
       "  }\n",
       "  table, th, td {\n",
       "    border: 1px solid black;\n",
       "    border-collapse: collapse;\n",
       "  }\n",
       "  th, td {\n",
       "    padding: 5px;\n",
       "  }\n",
       "  th {\n",
       "    text-align: left;\n",
       "  }\n",
       "</style><div class='table-result-container'><table class='table-result'><thead style='background-color: white'><tr><th>path</th><th>name</th><th>size</th><th>modificationTime</th></tr></thead><tbody><tr><td>dbfs:/databricks-datasets/wine-quality/README.md</td><td>README.md</td><td>1066</td><td>1594262736000</td></tr><tr><td>dbfs:/databricks-datasets/wine-quality/winequality-red.csv</td><td>winequality-red.csv</td><td>84199</td><td>1594262736000</td></tr><tr><td>dbfs:/databricks-datasets/wine-quality/winequality-white.csv</td><td>winequality-white.csv</td><td>264426</td><td>1594262736000</td></tr></tbody></table></div>"
      ]
     },
     "metadata": {
      "application/vnd.databricks.v1+output": {
       "addedWidgets": {},
       "aggData": [],
       "aggError": "",
       "aggOverflow": false,
       "aggSchema": [],
       "aggSeriesLimitReached": false,
       "aggType": "",
       "arguments": {},
       "columnCustomDisplayInfos": {},
       "data": [
        [
         "dbfs:/databricks-datasets/wine-quality/README.md",
         "README.md",
         1066,
         1594262736000
        ],
        [
         "dbfs:/databricks-datasets/wine-quality/winequality-red.csv",
         "winequality-red.csv",
         84199,
         1594262736000
        ],
        [
         "dbfs:/databricks-datasets/wine-quality/winequality-white.csv",
         "winequality-white.csv",
         264426,
         1594262736000
        ]
       ],
       "datasetInfos": [],
       "dbfsResultPath": null,
       "isJsonSchema": true,
       "metadata": {},
       "overflow": false,
       "plotOptions": {
        "customPlotOptions": {},
        "displayType": "table",
        "pivotAggregation": null,
        "pivotColumns": null,
        "xColumns": null,
        "yColumns": null
       },
       "removedWidgets": [],
       "schema": [
        {
         "metadata": "{}",
         "name": "path",
         "type": "\"string\""
        },
        {
         "metadata": "{}",
         "name": "name",
         "type": "\"string\""
        },
        {
         "metadata": "{}",
         "name": "size",
         "type": "\"long\""
        },
        {
         "metadata": "{}",
         "name": "modificationTime",
         "type": "\"long\""
        }
       ],
       "type": "table"
      }
     },
     "output_type": "display_data"
    }
   ],
   "source": [
    "display(dbutils.fs.ls('/databricks-datasets/wine-quality'))\n"
   ]
  },
  {
   "cell_type": "code",
   "execution_count": 0,
   "metadata": {
    "application/vnd.databricks.v1+cell": {
     "cellMetadata": {
      "byteLimit": 2048000,
      "rowLimit": 10000
     },
     "inputWidgets": {},
     "nuid": "878282ec-1c8b-4506-9948-0d2c1f5a899c",
     "showTitle": false,
     "title": ""
    }
   },
   "outputs": [
    {
     "output_type": "stream",
     "name": "stdout",
     "output_type": "stream",
     "text": [
      "[Truncated to first 65536 bytes]\nOut[70]: '\"fixed acidity\";\"volatile acidity\";\"citric acid\";\"residual sugar\";\"chlorides\";\"free sulfur dioxide\";\"total sulfur dioxide\";\"density\";\"pH\";\"sulphates\";\"alcohol\";\"quality\"\\n7.4;0.7;0;1.9;0.076;11;34;0.9978;3.51;0.56;9.4;5\\n7.8;0.88;0;2.6;0.098;25;67;0.9968;3.2;0.68;9.8;5\\n7.8;0.76;0.04;2.3;0.092;15;54;0.997;3.26;0.65;9.8;5\\n11.2;0.28;0.56;1.9;0.075;17;60;0.998;3.16;0.58;9.8;6\\n7.4;0.7;0;1.9;0.076;11;34;0.9978;3.51;0.56;9.4;5\\n7.4;0.66;0;1.8;0.075;13;40;0.9978;3.51;0.56;9.4;5\\n7.9;0.6;0.06;1.6;0.069;15;59;0.9964;3.3;0.46;9.4;5\\n7.3;0.65;0;1.2;0.065;15;21;0.9946;3.39;0.47;10;7\\n7.8;0.58;0.02;2;0.073;9;18;0.9968;3.36;0.57;9.5;7\\n7.5;0.5;0.36;6.1;0.071;17;102;0.9978;3.35;0.8;10.5;5\\n6.7;0.58;0.08;1.8;0.097;15;65;0.9959;3.28;0.54;9.2;5\\n7.5;0.5;0.36;6.1;0.071;17;102;0.9978;3.35;0.8;10.5;5\\n5.6;0.615;0;1.6;0.089;16;59;0.9943;3.58;0.52;9.9;5\\n7.8;0.61;0.29;1.6;0.114;9;29;0.9974;3.26;1.56;9.1;5\\n8.9;0.62;0.18;3.8;0.176;52;145;0.9986;3.16;0.88;9.2;5\\n8.9;0.62;0.19;3.9;0.17;51;148;0.9986;3.17;0.93;9.2;5\\n8.5;0.28;0.56;1.8;0.092;35;103;0.9969;3.3;0.75;10.5;7\\n8.1;0.56;0.28;1.7;0.368;16;56;0.9968;3.11;1.28;9.3;5\\n7.4;0.59;0.08;4.4;0.086;6;29;0.9974;3.38;0.5;9;4\\n7.9;0.32;0.51;1.8;0.341;17;56;0.9969;3.04;1.08;9.2;6\\n8.9;0.22;0.48;1.8;0.077;29;60;0.9968;3.39;0.53;9.4;6\\n7.6;0.39;0.31;2.3;0.082;23;71;0.9982;3.52;0.65;9.7;5\\n7.9;0.43;0.21;1.6;0.106;10;37;0.9966;3.17;0.91;9.5;5\\n8.5;0.49;0.11;2.3;0.084;9;67;0.9968;3.17;0.53;9.4;5\\n6.9;0.4;0.14;2.4;0.085;21;40;0.9968;3.43;0.63;9.7;6\\n6.3;0.39;0.16;1.4;0.08;11;23;0.9955;3.34;0.56;9.3;5\\n7.6;0.41;0.24;1.8;0.08;4;11;0.9962;3.28;0.59;9.5;5\\n7.9;0.43;0.21;1.6;0.106;10;37;0.9966;3.17;0.91;9.5;5\\n7.1;0.71;0;1.9;0.08;14;35;0.9972;3.47;0.55;9.4;5\\n7.8;0.645;0;2;0.082;8;16;0.9964;3.38;0.59;9.8;6\\n6.7;0.675;0.07;2.4;0.089;17;82;0.9958;3.35;0.54;10.1;5\\n6.9;0.685;0;2.5;0.105;22;37;0.9966;3.46;0.57;10.6;6\\n8.3;0.655;0.12;2.3;0.083;15;113;0.9966;3.17;0.66;9.8;5\\n6.9;0.605;0.12;10.7;0.073;40;83;0.9993;3.45;0.52;9.4;6\\n5.2;0.32;0.25;1.8;0.103;13;50;0.9957;3.38;0.55;9.2;5\\n7.8;0.645;0;5.5;0.086;5;18;0.9986;3.4;0.55;9.6;6\\n7.8;0.6;0.14;2.4;0.086;3;15;0.9975;3.42;0.6;10.8;6\\n8.1;0.38;0.28;2.1;0.066;13;30;0.9968;3.23;0.73;9.7;7\\n5.7;1.13;0.09;1.5;0.172;7;19;0.994;3.5;0.48;9.8;4\\n7.3;0.45;0.36;5.9;0.074;12;87;0.9978;3.33;0.83;10.5;5\\n7.3;0.45;0.36;5.9;0.074;12;87;0.9978;3.33;0.83;10.5;5\\n8.8;0.61;0.3;2.8;0.088;17;46;0.9976;3.26;0.51;9.3;4\\n7.5;0.49;0.2;2.6;0.332;8;14;0.9968;3.21;0.9;10.5;6\\n8.1;0.66;0.22;2.2;0.069;9;23;0.9968;3.3;1.2;10.3;5\\n6.8;0.67;0.02;1.8;0.05;5;11;0.9962;3.48;0.52;9.5;5\\n4.6;0.52;0.15;2.1;0.054;8;65;0.9934;3.9;0.56;13.1;4\\n7.7;0.935;0.43;2.2;0.114;22;114;0.997;3.25;0.73;9.2;5\\n8.7;0.29;0.52;1.6;0.113;12;37;0.9969;3.25;0.58;9.5;5\\n6.4;0.4;0.23;1.6;0.066;5;12;0.9958;3.34;0.56;9.2;5\\n5.6;0.31;0.37;1.4;0.074;12;96;0.9954;3.32;0.58;9.2;5\\n8.8;0.66;0.26;1.7;0.074;4;23;0.9971;3.15;0.74;9.2;5\\n6.6;0.52;0.04;2.2;0.069;8;15;0.9956;3.4;0.63;9.4;6\\n6.6;0.5;0.04;2.1;0.068;6;14;0.9955;3.39;0.64;9.4;6\\n8.6;0.38;0.36;3;0.081;30;119;0.997;3.2;0.56;9.4;5\\n7.6;0.51;0.15;2.8;0.11;33;73;0.9955;3.17;0.63;10.2;6\\n7.7;0.62;0.04;3.8;0.084;25;45;0.9978;3.34;0.53;9.5;5\\n10.2;0.42;0.57;3.4;0.07;4;10;0.9971;3.04;0.63;9.6;5\\n7.5;0.63;0.12;5.1;0.111;50;110;0.9983;3.26;0.77;9.4;5\\n7.8;0.59;0.18;2.3;0.076;17;54;0.9975;3.43;0.59;10;5\\n7.3;0.39;0.31;2.4;0.074;9;46;0.9962;3.41;0.54;9.4;6\\n8.8;0.4;0.4;2.2;0.079;19;52;0.998;3.44;0.64;9.2;5\\n7.7;0.69;0.49;1.8;0.115;20;112;0.9968;3.21;0.71;9.3;5\\n7.5;0.52;0.16;1.9;0.085;12;35;0.9968;3.38;0.62;9.5;7\\n7;0.735;0.05;2;0.081;13;54;0.9966;3.39;0.57;9.8;5\\n7.2;0.725;0.05;4.65;0.086;4;11;0.9962;3.41;0.39;10.9;5\\n7.2;0.725;0.05;4.65;0.086;4;11;0.9962;3.41;0.39;10.9;5\\n7.5;0.52;0.11;1.5;0.079;11;39;0.9968;3.42;0.58;9.6;5\\n6.6;0.705;0.07;1.6;0.076;6;15;0.9962;3.44;0.58;10.7;5\\n9.3;0.32;0.57;2;0.074;27;65;0.9969;3.28;0.79;10.7;5\\n8;0.705;0.05;1.9;0.074;8;19;0.9962;3.34;0.95;10.5;6\\n7.7;0.63;0.08;1.9;0.076;15;27;0.9967;3.32;0.54;9.5;6\\n7.7;0.67;0.23;2.1;0.088;17;96;0.9962;3.32;0.48;9.5;5\\n7.7;0.69;0.22;1.9;0.084;18;94;0.9961;3.31;0.48;9.5;5\\n8.3;0.675;0.26;2.1;0.084;11;43;0.9976;3.31;0.53;9.2;4\\n9.7;0.32;0.54;2.5;0.094;28;83;0.9984;3.28;0.82;9.6;5\\n8.8;0.41;0.64;2.2;0.093;9;42;0.9986;3.54;0.66;10.5;5\\n8.8;0.41;0.64;2.2;0.093;9;42;0.9986;3.54;0.66;10.5;5\\n6.8;0.785;0;2.4;0.104;14;30;0.9966;3.52;0.55;10.7;6\\n6.7;0.75;0.12;2;0.086;12;80;0.9958;3.38;0.52;10.1;5\\n8.3;0.625;0.2;1.5;0.08;27;119;0.9972;3.16;1.12;9.1;4\\n6.2;0.45;0.2;1.6;0.069;3;15;0.9958;3.41;0.56;9.2;5\\n7.8;0.43;0.7;1.9;0.464;22;67;0.9974;3.13;1.28;9.4;5\\n7.4;0.5;0.47;2;0.086;21;73;0.997;3.36;0.57;9.1;5\\n7.3;0.67;0.26;1.8;0.401;16;51;0.9969;3.16;1.14;9.4;5\\n6.3;0.3;0.48;1.8;0.069;18;61;0.9959;3.44;0.78;10.3;6\\n6.9;0.55;0.15;2.2;0.076;19;40;0.9961;3.41;0.59;10.1;5\\n8.6;0.49;0.28;1.9;0.11;20;136;0.9972;2.93;1.95;9.9;6\\n7.7;0.49;0.26;1.9;0.062;9;31;0.9966;3.39;0.64;9.6;5\\n9.3;0.39;0.44;2.1;0.107;34;125;0.9978;3.14;1.22;9.5;5\\n7;0.62;0.08;1.8;0.076;8;24;0.9978;3.48;0.53;9;5\\n7.9;0.52;0.26;1.9;0.079;42;140;0.9964;3.23;0.54;9.5;5\\n8.6;0.49;0.28;1.9;0.11;20;136;0.9972;2.93;1.95;9.9;6\\n8.6;0.49;0.29;2;0.11;19;133;0.9972;2.93;1.98;9.8;5\\n7.7;0.49;0.26;1.9;0.062;9;31;0.9966;3.39;0.64;9.6;5\\n5;1.02;0.04;1.4;0.045;41;85;0.9938;3.75;0.48;10.5;4\\n4.7;0.6;0.17;2.3;0.058;17;106;0.9932;3.85;0.6;12.9;6\\n6.8;0.775;0;3;0.102;8;23;0.9965;3.45;0.56;10.7;5\\n7;0.5;0.25;2;0.07;3;22;0.9963;3.25;0.63;9.2;5\\n7.6;0.9;0.06;2.5;0.079;5;10;0.9967;3.39;0.56;9.8;5\\n8.1;0.545;0.18;1.9;0.08;13;35;0.9972;3.3;0.59;9;6\\n8.3;0.61;0.3;2.1;0.084;11;50;0.9972;3.4;0.61;10.2;6\\n7.8;0.5;0.3;1.9;0.075;8;22;0.9959;3.31;0.56;10.4;6\\n8.1;0.545;0.18;1.9;0.08;13;35;0.9972;3.3;0.59;9;6\\n8.1;0.575;0.22;2.1;0.077;12;65;0.9967;3.29;0.51;9.2;5\\n7.2;0.49;0.24;2.2;0.07;5;36;0.996;3.33;0.48;9.4;5\\n8.1;0.575;0.22;2.1;0.077;12;65;0.9967;3.29;0.51;9.2;5\\n7.8;0.41;0.68;1.7;0.467;18;69;0.9973;3.08;1.31;9.3;5\\n6.2;0.63;0.31;1.7;0.088;15;64;0.9969;3.46;0.79;9.3;5\\n8;0.33;0.53;2.5;0.091;18;80;0.9976;3.37;0.8;9.6;6\\n8.1;0.785;0.52;2;0.122;37;153;0.9969;3.21;0.69;9.3;5\\n7.8;0.56;0.19;1.8;0.104;12;47;0.9964;3.19;0.93;9.5;5\\n8.4;0.62;0.09;2.2;0.084;11;108;0.9964;3.15;0.66;9.8;5\\n8.4;0.6;0.1;2.2;0.085;14;111;0.9964;3.15;0.66;9.8;5\\n10.1;0.31;0.44;2.3;0.08;22;46;0.9988;3.32;0.67;9.7;6\\n7.8;0.56;0.19;1.8;0.104;12;47;0.9964;3.19;0.93;9.5;5\\n9.4;0.4;0.31;2.2;0.09;13;62;0.9966;3.07;0.63;10.5;6\\n8.3;0.54;0.28;1.9;0.077;11;40;0.9978;3.39;0.61;10;6\\n7.8;0.56;0.12;2;0.082;7;28;0.997;3.37;0.5;9.4;6\\n8.8;0.55;0.04;2.2;0.119;14;56;0.9962;3.21;0.6;10.9;6\\n7;0.69;0.08;1.8;0.097;22;89;0.9959;3.34;0.54;9.2;6\\n7.3;1.07;0.09;1.7;0.178;10;89;0.9962;3.3;0.57;9;5\\n8.8;0.55;0.04;2.2;0.119;14;56;0.9962;3.21;0.6;10.9;6\\n7.3;0.695;0;2.5;0.075;3;13;0.998;3.49;0.52;9.2;5\\n8;0.71;0;2.6;0.08;11;34;0.9976;3.44;0.53;9.5;5\\n7.8;0.5;0.17;1.6;0.082;21;102;0.996;3.39;0.48;9.5;5\\n9;0.62;0.04;1.9;0.146;27;90;0.9984;3.16;0.7;9.4;5\\n8.2;1.33;0;1.7;0.081;3;12;0.9964;3.53;0.49;10.9;5\\n8.1;1.33;0;1.8;0.082;3;12;0.9964;3.54;0.48;10.9;5\\n8;0.59;0.16;1.8;0.065;3;16;0.9962;3.42;0.92;10.5;7\\n6.1;0.38;0.15;1.8;0.072;6;19;0.9955;3.42;0.57;9.4;5\\n8;0.745;0.56;2;0.118;30;134;0.9968;3.24;0.66;9.4;5\\n5.6;0.5;0.09;2.3;0.049;17;99;0.9937;3.63;0.63;13;5\\n5.6;0.5;0.09;2.3;0.049;17;99;0.9937;3.63;0.63;13;5\\n6.6;0.5;0.01;1.5;0.06;17;26;0.9952;3.4;0.58;9.8;6\\n7.9;1.04;0.05;2.2;0.084;13;29;0.9959;3.22;0.55;9.9;6\\n8.4;0.745;0.11;1.9;0.09;16;63;0.9965;3.19;0.82;9.6;5\\n8.3;0.715;0.15;1.8;0.089;10;52;0.9968;3.23;0.77;9.5;5\\n7.2;0.415;0.36;2;0.081;13;45;0.9972;3.48;0.64;9.2;5\\n7.8;0.56;0.19;2.1;0.081;15;105;0.9962;3.33;0.54;9.5;5\\n7.8;0.56;0.19;2;0.081;17;108;0.9962;3.32;0.54;9.5;5\\n8.4;0.745;0.11;1.9;0.09;16;63;0.9965;3.19;0.82;9.6;5\\n8.3;0.715;0.15;1.8;0.089;10;52;0.9968;3.23;0.77;9.5;5\\n5.2;0.34;0;1.8;0.05;27;63;0.9916;3.68;0.79;14;6\\n6.3;0.39;0.08;1.7;0.066;3;20;0.9954;3.34;0.58;9.4;5\\n5.2;0.34;0;1.8;0.05;27;63;0.9916;3.68;0.79;14;6\\n8.1;0.67;0.55;1.8;0.117;32;141;0.9968;3.17;0.62;9.4;5\\n5.8;0.68;0.02;1.8;0.087;21;94;0.9944;3.54;0.52;10;5\\n7.6;0.49;0.26;1.6;0.236;10;88;0.9968;3.11;0.8;9.3;5\\n6.9;0.49;0.1;2.3;0.074;12;30;0.9959;3.42;0.58;10.2;6\\n8.2;0.4;0.44;2.8;0.089;11;43;0.9975;3.53;0.61;10.5;6\\n7.3;0.33;0.47;2.1;0.077;5;11;0.9958;3.33;0.53;10.3;6\\n9.2;0.52;1;3.4;0.61;32;69;0.9996;2.74;2.0;9.4;4\\n7.5;0.6;0.03;1.8;0.095;25;99;0.995;3.35;0.54;10.1;5\\n7.5;0.6;0.03;1.8;0.095;25;99;0.995;3.35;0.54;10.1;5\\n7.1;0.43;0.42;5.5;0.07;29;129;0.9973;3.42;0.72;10.5;5\\n7.1;0.43;0.42;5.5;0.071;28;128;0.9973;3.42;0.71;10.5;5\\n7.1;0.43;0.42;5.5;0.07;29;129;0.9973;3.42;0.72;10.5;5\\n7.1;0.43;0.42;5.5;0.071;28;128;0.9973;3.42;0.71;10.5;5\\n7.1;0.68;0;2.2;0.073;12;22;0.9969;3.48;0.5;9.3;5\\n6.8;0.6;0.18;1.9;0.079;18;86;0.9968;3.59;0.57;9.3;6\\n7.6;0.95;0.03;2;0.09;7;20;0.9959;3.2;0.56;9.6;5\\n7.6;0.68;0.02;1.3;0.072;9;20;0.9965;3.17;1.08;9.2;4\\n7.8;0.53;0.04;1.7;0.076;17;31;0.9964;3.33;0.56;10;6\\n7.4;0.6;0.26;7.3;0.07;36;121;0.9982;3.37;0.49;9.4;5\\n7.3;0.59;0.26;7.2;0.07;35;121;0.9981;3.37;0.49;9.4;5\\n7.8;0.63;0.48;1.7;0.1;14;96;0.9961;3.19;0.62;9.5;5\\n6.8;0.64;0.1;2.1;0.085;18;101;0.9956;3.34;0.52;10.2;5\\n7.3;0.55;0.03;1.6;0.072;17;42;0.9956;3.37;0.48;9;4\\n6.8;0.63;0.07;2.1;0.089;11;44;0.9953;3.47;0.55;10.4;6\\n7.5;0.705;0.24;1.8;0.36;15;63;0.9964;3;1.59;9.5;5\\n7.9;0.885;0.03;1.8;0.058;4;8;0.9972;3.36;0.33;9.1;4\\n8;0.42;0.17;2;0.073;6;18;0.9972;3.29;0.61;9.2;6\\n8;0.42;0.17;2;0.073;6;18;0.9972;3.29;0.61;9.2;6\\n7.4;0.62;0.05;1.9;0.068;24;42;0.9961;3.42;0.57;11.5;6\\n7.3;0.38;0.21;2;0.08;7;35;0.9961;3.33;0.47;9.5;5\\n6.9;0.5;0.04;1.5;0.085;19;49;0.9958;3.35;0.78;9.5;5\\n7.3;0.38;0.21;2;0.08;7;35;0.9961;3.33;0.47;9.5;5\\n7.5;0.52;0.42;2.3;0.087;8;38;0.9972;3.58;0.61;10.5;6\\n7;0.805;0;2.5;0.068;7;20;0.9969;3.48;0.56;9.6;5\\n8.8;0.61;0.14;2.4;0.067;10;42;0.9969;3.19;0.59;9.5;5\\n8.8;0.61;0.14;2.4;0.067;10;42;0.9969;3.19;0.59;9.5;5\\n8.9;0.61;0.49;2;0.27;23;110;0.9972;3.12;1.02;9.3;5\\n7.2;0.73;0.02;2.5;0.076;16;42;0.9972;3.44;0.52;9.3;5\\n6.8;0.61;0.2;1.8;0.077;11;65;0.9971;3.54;0.58;9.3;5\\n6.7;0.62;0.21;1.9;0.079;8;62;0.997;3.52;0.58;9.3;6\\n8.9;0.31;0.57;2;0.111;26;85;0.9971;3.26;0.53;9.7;5\\n7.4;0.39;0.48;2;0.082;14;67;0.9972;3.34;0.55;9.2;5\\n7.7;0.705;0.1;2.6;0.084;9;26;0.9976;3.39;0.49;9.7;5\\n7.9;0.5;0.33;2;0.084;15;143;0.9968;3.2;0.55;9.5;5\\n7.9;0.49;0.32;1.9;0.082;17;144;0.9968;3.2;0.55;9.5;5\\n8.2;0.5;0.35;2.9;0.077;21;127;0.9976;3.23;0.62;9.4;5\\n6.4;0.37;0.25;1.9;0.074;21;49;0.9974;3.57;0.62;9.8;6\\n6.8;0.63;0.12;3.8;0.099;16;126;0.9969;3.28;0.61;9.5;5\\n7.6;0.55;0.21;2.2;0.071;7;28;0.9964;3.28;0.55;9.7;5\\n7.6;0.55;0.21;2.2;0.071;7;28;0.9964;3.28;0.55;9.7;5\\n7.8;0.59;0.33;2;0.074;24;120;0.9968;3.25;0.54;9.4;5\\n7.3;0.58;0.3;2.4;0.074;15;55;0.9968;3.46;0.59;10.2;5\\n11.5;0.3;0.6;2;0.067;12;27;0.9981;3.11;0.97;10.1;6\\n5.4;0.835;0.08;1.2;0.046;13;93;0.9924;3.57;0.85;13;7\\n6.9;1.09;0.06;2.1;0.061;12;31;0.9948;3.51;0.43;11.4;4\\n9.6;0.32;0.47;1.4;0.056;9;24;0.99695;3.22;0.82;10.3;7\\n8.8;0.37;0.48;2.1;0.097;39;145;0.9975;3.04;1.03;9.3;5\\n6.8;0.5;0.11;1.5;0.075;16;49;0.99545;3.36;0.79;9.5;5\\n7;0.42;0.35;1.6;0.088;16;39;0.9961;3.34;0.55;9.2;5\\n7;0.43;0.36;1.6;0.089;14;37;0.99615;3.34;0.56;9.2;6\\n12.8;0.3;0.74;2.6;0.095;9;28;0.9994;3.2;0.77;10.8;7\\n12.8;0.3;0.74;2.6;0.095;9;28;0.9994;3.2;0.77;10.8;7\\n7.8;0.57;0.31;1.8;0.069;26;120;0.99625;3.29;0.53;9.3;5\\n7.8;0.44;0.28;2.7;0.1;18;95;0.9966;3.22;0.67;9.4;5\\n11;0.3;0.58;2.1;0.054;7;19;0.998;3.31;0.88;10.5;7\\n9.7;0.53;0.6;2;0.039;5;19;0.99585;3.3;0.86;12.4;6\\n8;0.725;0.24;2.8;0.083;10;62;0.99685;3.35;0.56;10;6\\n11.6;0.44;0.64;2.1;0.059;5;15;0.998;3.21;0.67;10.2;6\\n8.2;0.57;0.26;2.2;0.06;28;65;0.9959;3.3;0.43;10.1;5\\n7.8;0.735;0.08;2.4;0.092;10;41;0.9974;3.24;0.71;9.8;6\\n7;0.49;0.49;5.6;0.06;26;121;0.9974;3.34;0.76;10.5;5\\n8.7;0.625;0.16;2;0.101;13;49;0.9962;3.14;0.57;11;5\\n8.1;0.725;0.22;2.2;0.072;11;41;0.9967;3.36;0.55;9.1;5\\n7.5;0.49;0.19;1.9;0.076;10;44;0.9957;3.39;0.54;9.7;5\\n7.8;0.53;0.33;2.4;0.08;24;144;0.99655;3.3;0.6;9.5;5\\n7.8;0.34;0.37;2;0.082;24;58;0.9964;3.34;0.59;9.4;6\\n7.4;0.53;0.26;2;0.101;16;72;0.9957;3.15;0.57;9.4;5\\n6.8;0.61;0.04;1.5;0.057;5;10;0.99525;3.42;0.6;9.5;5\\n8.6;0.645;0.25;2;0.083;8;28;0.99815;3.28;0.6;10;6\\n8.4;0.635;0.36;2;0.089;15;55;0.99745;3.31;0.57;10.4;4\\n7.7;0.43;0.25;2.6;0.073;29;63;0.99615;3.37;0.58;10.5;6\\n8.9;0.59;0.5;2;0.337;27;81;0.9964;3.04;1.61;9.5;6\\n9;0.82;0.14;2.6;0.089;9;23;0.9984;3.39;0.63;9.8;5\\n7.7;0.43;0.25;2.6;0.073;29;63;0.99615;3.37;0.58;10.5;6\\n6.9;0.52;0.25;2.6;0.081;10;37;0.99685;3.46;0.5;11;5\\n5.2;0.48;0.04;1.6;0.054;19;106;0.9927;3.54;0.62;12.2;7\\n8;0.38;0.06;1.8;0.078;12;49;0.99625;3.37;0.52;9.9;6\\n8.5;0.37;0.2;2.8;0.09;18;58;0.998;3.34;0.7;9.6;6\\n6.9;0.52;0.25;2.6;0.081;10;37;0.99685;3.46;0.5;11;5\\n8.2;1;0.09;2.3;0.065;7;37;0.99685;3.32;0.55;9;6\\n7.2;0.63;0;1.9;0.097;14;38;0.99675;3.37;0.58;9;6\\n7.2;0.63;0;1.9;0.097;14;38;0.99675;3.37;0.58;9;6\\n7.2;0.645;0;1.9;0.097;15;39;0.99675;3.37;0.58;9.2;6\\n7.2;0.63;0;1.9;0.097;14;38;0.99675;3.37;0.58;9;6\\n8.2;1;0.09;2.3;0.065;7;37;0.99685;3.32;0.55;9;6\\n8.9;0.635;0.37;1.7;0.263;5;62;0.9971;3;1.09;9.3;5\\n12;0.38;0.56;2.1;0.093;6;24;0.99925;3.14;0.71;10.9;6\\n7.7;0.58;0.1;1.8;0.102;28;109;0.99565;3.08;0.49;9.8;6\\n15;0.21;0.44;2.2;0.075;10;24;1.00005;3.07;0.84;9.2;7\\n15;0.21;0.44;2.2;0.075;10;24;1.00005;3.07;0.84;9.2;7\\n7.3;0.66;0;2;0.084;6;23;0.9983;3.61;0.96;9.9;6\\n7.1;0.68;0.07;1.9;0.075;16;51;0.99685;3.38;0.52;9.5;5\\n8.2;0.6;0.17;2.3;0.072;11;73;0.9963;3.2;0.45;9.3;5\\n7.7;0.53;0.06;1.7;0.074;9;39;0.99615;3.35;0.48;9.8;6\\n7.3;0.66;0;2;0.084;6;23;0.9983;3.61;0.96;9.9;6\\n10.8;0.32;0.44;1.6;0.063;16;37;0.9985;3.22;0.78;10;6\\n7.1;0.6;0;1.8;0.074;16;34;0.9972;3.47;0.7;9.9;6\\n11.1;0.35;0.48;3.1;0.09;5;21;0.9986;3.17;0.53;10.5;5\\n7.7;0.775;0.42;1.9;0.092;8;86;0.9959;3.23;0.59;9.5;5\\n7.1;0.6;0;1.8;0.074;16;34;0.9972;3.47;0.7;9.9;6\\n8;0.57;0.23;3.2;0.073;17;119;0.99675;3.26;0.57;9.3;5\\n9.4;0.34;0.37;2.2;0.075;5;13;0.998;3.22;0.62;9.2;5\\n6.6;0.695;0;2.1;0.075;12;56;0.9968;3.49;0.67;9.2;5\\n7.7;0.41;0.76;1.8;0.611;8;45;0.9968;3.06;1.26;9.4;5\\n10;0.31;0.47;2.6;0.085;14;33;0.99965;3.36;0.8;10.5;7\\n7.9;0.33;0.23;1.7;0.077;18;45;0.99625;3.29;0.65;9.3;5\\n7;0.975;0.04;2;0.087;12;67;0.99565;3.35;0.6;9.4;4\\n8;0.52;0.03;1.7;0.07;10;35;0.99575;3.34;0.57;10;5\\n7.9;0.37;0.23;1.8;0.077;23;49;0.9963;3.28;0.67;9.3;5\\n12.5;0.56;0.49;2.4;0.064;5;27;0.9999;3.08;0.87;10.9;5\\n11.8;0.26;0.52;1.8;0.071;6;10;0.9968;3.2;0.72;10.2;7\\n8.1;0.87;0;3.3;0.096;26;61;1.00025;3.6;0.72;9.8;4\\n7.9;0.35;0.46;3.6;0.078;15;37;0.9973;3.35;0.86;12.8;8\\n6.9;0.54;0.04;3;0.077;7;27;0.9987;3.69;0.91;9.4;6\\n11.5;0.18;0.51;4;0.104;4;23;0.9996;3.28;0.97;10.1;6\\n7.9;0.545;0.06;4;0.087;27;61;0.9965;3.36;0.67;10.7;6\\n11.5;0.18;0.51;4;0.104;4;23;0.9996;3.28;0.97;10.1;6\\n10.9;0.37;0.58;4;0.071;17;65;0.99935;3.22;0.78;10.1;5\\n8.4;0.715;0.2;2.4;0.076;10;38;0.99735;3.31;0.64;9.4;5\\n7.5;0.65;0.18;7;0.088;27;94;0.99915;3.38;0.77;9.4;5\\n7.9;0.545;0.06;4;0.087;27;61;0.9965;3.36;0.67;10.7;6\\n6.9;0.54;0.04;3;0.077;7;27;0.9987;3.69;0.91;9.4;6\\n11.5;0.18;0.51;4;0.104;4;23;0.9996;3.28;0.97;10.1;6\\n10.3;0.32;0.45;6.4;0.073;5;13;0.9976;3.23;0.82;12.6;8\\n8.9;0.4;0.32;5.6;0.087;10;47;0.9991;3.38;0.77;10.5;7\\n11.4;0.26;0.44;3.6;0.071;6;19;0.9986;3.12;0.82;9.3;6\\n7.7;0.27;0.68;3.5;0.358;5;10;0.9972;3.25;1.08;9.9;7\\n7.6;0.52;0.12;3;0.067;12;53;0.9971;3.36;0.57;9.1;5\\n8.9;0.4;0.32;5.6;0.087;10;47;0.9991;3.38;0.77;10.5;7\\n9.9;0.59;0.07;3.4;0.102;32;71;1.00015;3.31;0.71;9.8;5\\n9.9;0.59;0.07;3.4;0.102;32;71;1.00015;3.31;0.71;9.8;5\\n12;0.45;0.55;2;0.073;25;49;0.9997;3.1;0.76;10.3;6\\n7.5;0.4;0.12;3;0.092;29;53;0.9967;3.37;0.7;10.3;6\\n8.7;0.52;0.09;2.5;0.091;20;49;0.9976;3.34;0.86;10.6;7\\n11.6;0.42;0.53;3.3;0.105;33;98;1.001;3.2;0.95;9.2;5\\n8.7;0.52;0.09;2.5;0.091;20;49;0.9976;3.34;0.86;10.6;7\\n11;0.2;0.48;2;0.343;6;18;0.9979;3.3;0.71;10.5;5\\n10.4;0.55;0.23;2.7;0.091;18;48;0.9994;3.22;0.64;10.3;6\\n6.9;0.36;0.25;2.4;0.098;5;16;0.9964;3.41;0.6;10.1;6\\n13.3;0.34;0.52;3.2;0.094;17;53;1.0014;3.05;0.81;9.5;6\\n10.8;0.5;0.46;2.5;0.073;5;27;1.0001;3.05;0.64;9.5;5\\n10.6;0.83;0.37;2.6;0.086;26;70;0.9981;3.16;0.52;9.9;5\\n7.1;0.63;0.06;2;0.083;8;29;0.99855;3.67;0.73;9.6;5\\n7.2;0.65;0.02;2.3;0.094;5;31;0.9993;3.67;0.8;9.7;5\\n6.9;0.67;0.06;2.1;0.08;8;33;0.99845;3.68;0.71;9.6;5\\n7.5;0.53;0.06;2.6;0.086;20;44;0.9965;3.38;0.59;10.7;6\\n11.1;0.18;0.48;1.5;0.068;7;15;0.9973;3.22;0.64;10.1;6\\n8.3;0.705;0.12;2.6;0.092;12;28;0.9994;3.51;0.72;10;5\\n7.4;0.67;0.12;1.6;0.186;5;21;0.996;3.39;0.54;9.5;5\\n8.4;0.65;0.6;2.1;0.112;12;90;0.9973;3.2;0.52;9.2;5\\n10.3;0.53;0.48;2.5;0.063;6;25;0.9998;3.12;0.59;9.3;6\\n7.6;0.62;0.32;2.2;0.082;7;54;0.9966;3.36;0.52;9.4;5\\n10.3;0.41;0.42;2.4;0.213;6;14;0.9994;3.19;0.62;9.5;6\\n10.3;0.43;0.44;2.4;0.214;5;12;0.9994;3.19;0.63;9.5;6\\n7.4;0.29;0.38;1.7;0.062;9;30;0.9968;3.41;0.53;9.5;6\\n10.3;0.53;0.48;2.5;0.063;6;25;0.9998;3.12;0.59;9.3;6\\n7.9;0.53;0.24;2;0.072;15;105;0.996;3.27;0.54;9.4;6\\n9;0.46;0.31;2.8;0.093;19;98;0.99815;3.32;0.63;9.5;6\\n8.6;0.47;0.3;3;0.076;30;135;0.9976;3.3;0.53;9.4;5\\n7.4;0.36;0.29;2.6;0.087;26;72;0.99645;3.39;0.68;11;5\\n7.1;0.35;0.29;2.5;0.096;20;53;0.9962;3.42;0.65;11;6\\n9.6;0.56;0.23;3.4;0.102;37;92;0.9996;3.3;0.65;10.1;5\\n9.6;0.77;0.12;2.9;0.082;30;74;0.99865;3.3;0.64;10.4;6\\n9.8;0.66;0.39;3.2;0.083;21;59;0.9989;3.37;0.71;11.5;7\\n9.6;0.77;0.12;2.9;0.082;30;74;0.99865;3.3;0.64;10.4;6\\n9.8;0.66;0.39;3.2;0.083;21;59;0.9989;3.37;0.71;11.5;7\\n9.3;0.61;0.26;3.4;0.09;25;87;0.99975;3.24;0.62;9.7;5\\n7.8;0.62;0.05;2.3;0.079;6;18;0.99735;3.29;0.63;9.3;5\\n10.3;0.59;0.42;2.8;0.09;35;73;0.999;3.28;0.7;9.5;6\\n10;0.49;0.2;11;0.071;13;50;1.0015;3.16;0.69;9.2;6\\n10;0.49;0.2;11;0.071;13;50;1.0015;3.16;0.69;9.2;6\\n11.6;0.53;0.66;3.65;0.121;6;14;0.9978;3.05;0.74;11.5;7\\n10.3;0.44;0.5;4.5;0.107;5;13;0.998;3.28;0.83;11.5;5\\n13.4;0.27;0.62;2.6;0.082;6;21;1.0002;3.16;0.67;9.7;6\\n10.7;0.46;0.39;2;0.061;7;15;0.9981;3.18;0.62;9.5;5\\n10.2;0.36;0.64;2.9;0.122;10;41;0.998;3.23;0.66;12.5;6\\n10.2;0.36;0.64;2.9;0.122;10;41;0.998;3.23;0.66;12.5;6\\n8;0.58;0.28;3.2;0.066;21;114;0.9973;3.22;0.54;9.4;6\\n8.4;0.56;0.08;2.1;0.105;16;44;0.9958;3.13;0.52;11;5\\n7.9;0.65;0.01;2.5;0.078;17;38;0.9963;3.34;0.74;11.7;7\\n11.9;0.695;0.53;3.4;0.128;7;21;0.9992;3.17;0.84;12.2;7\\n8.9;0.43;0.45;1.9;0.052;6;16;0.9948;3.35;0.7;12.5;6\\n7.8;0.43;0.32;2.8;0.08;29;58;0.9974;3.31;0.64;10.3;5\\n12.4;0.49;0.58;3;0.103;28;99;1.0008;3.16;1;11.5;6\\n12.5;0.28;0.54;2.3;0.082;12;29;0.9997;3.11;1.36;9.8;7\\n12.2;0.34;0.5;2.4;0.066;10;21;1;3.12;1.18;9.2;6\\n10.6;0.42;0.48;2.7;0.065;5;18;0.9972;3.21;0.87;11.3;6\\n10.9;0.39;0.47;1.8;0.118;6;14;0.9982;3.3;0.75;9.8;6\\n10.9;0.39;0.47;1.8;0.118;6;14;0.9982;3.3;0.75;9.8;6\\n11.9;0.57;0.5;2.6;0.082;6;32;1.0006;3.12;0.78;10.7;6\\n7;0.685;0;1.9;0.067;40;63;0.9979;3.6;0.81;9.9;5\\n6.6;0.815;0.02;2.7;0.072;17;34;0.9955;3.58;0.89;12.3;7\\n13.8;0.49;0.67;3;0.093;6;15;0.9986;3.02;0.93;12;6\\n9.6;0.56;0.31;2.8;0.089;15;46;0.9979;3.11;0.92;10;6\\n9.1;0.785;0;2.6;0.093;11;28;0.9994;3.36;0.86;9.4;6\\n10.7;0.67;0.22;2.7;0.107;17;34;1.0004;3.28;0.98;9.9;6\\n9.1;0.795;0;2.6;0.096;11;26;0.9994;3.35;0.83;9.4;6\\n7.7;0.665;0;2.4;0.09;8;19;0.9974;3.27;0.73;9.3;5\\n13.5;0.53;0.79;4.8;0.12;23;77;1.0018;3.18;0.77;13;5\\n6.1;0.21;0.4;1.4;0.066;40.5;165;0.9912;3.25;0.59;11.9;6\\n6.7;0.75;0.01;2.4;0.078;17;32;0.9955;3.55;0.61;12.8;6\\n11.5;0.41;0.52;3;0.08;29;55;1.0001;3.26;0.88;11;5\\n10.5;0.42;0.66;2.95;0.116;12;29;0.997;3.24;0.75;11.7;7\\n11.9;0.43;0.66;3.1;0.109;10;23;1;3.15;0.85;10.4;7\\n12.6;0.38;0.66;2.6;0.088;10;41;1.001;3.17;0.68;9.8;6\\n8.2;0.7;0.23;2;0.099;14;81;0.9973;3.19;0.7;9.4;5\\n8.6;0.45;0.31;2.6;0.086;21;50;0.9982;3.37;0.91;9.9;6\\n11.9;0.58;0.66;2.5;0.072;6;37;0.9992;3.05;0.56;10;5\\n12.5;0.46;0.63;2;0.071;6;15;0.9988;2.99;0.87;10.2;5\\n12.8;0.615;0.66;5.8;0.083;7;42;1.0022;3.07;0.73;10;7\\n10;0.42;0.5;3.4;0.107;7;21;0.9979;3.26;0.93;11.8;6\\n12.8;0.615;0.66;5.8;0.083;7;42;1.0022;3.07;0.73;10;7\\n10.4;0.575;0.61;2.6;0.076;11;24;1;3.16;0.69;9;5\\n10.3;0.34;0.52;2.8;0.159;15;75;0.9998;3.18;0.64;9.4;5\\n9.4;0.27;0.53;2.4;0.074;6;18;0.9962;3.2;1.13;12;7\\n6.9;0.765;0.02;2.3;0.063;35;63;0.9975;3.57;0.78;9.9;5\\n7.9;0.24;0.4;1.6;0.056;11;25;0.9967;3.32;0.87;8.7;6\\n9.1;0.28;0.48;1.8;0.067;26;46;0.9967;3.32;1.04;10.6;6\\n7.4;0.55;0.22;2.2;0.106;12;72;0.9959;3.05;0.63;9.2;5\\n14;0.41;0.63;3.8;0.089;6;47;1.0014;3.01;0.81;10.8;6\\n11.5;0.54;0.71;4.4;0.124;6;15;0.9984;3.01;0.83;11.8;7\\n11.5;0.45;0.5;3;0.078;19;47;1.0003;3.26;1.11;11;6\\n9.4;0.27;0.53;2.4;0.074;6;18;0.9962;3.2;1.13;12;7\\n11.4;0.625;0.66;6.2;0.088;6;24;0.9988;3.11;0.99;13.3;6\\n8.3;0.42;0.38;2.5;0.094;24;60;0.9979;3.31;0.7;10.8;6\\n8.3;0.26;0.42;2;0.08;11;27;0.9974;3.21;0.8;9.4;6\\n13.7;0.415;0.68;2.9;0.085;17;43;1.0014;3.06;0.8;10;6\\n8.3;0.26;0.42;2;0.08;11;27;0.9974;3.21;0.8;9.4;6\\n8.3;0.26;0.42;2;0.08;11;27;0.9974;3.21;0.8;9.4;6\\n7.7;0.51;0.28;2.1;0.087;23;54;0.998;3.42;0.74;9.2;5\\n7.4;0.63;0.07;2.4;0.09;11;37;0.9979;3.43;0.76;9.7;6\\n7.8;0.54;0.26;2;0.088;23;48;0.9981;3.41;0.74;9.2;6\\n8.3;0.66;0.15;1.9;0.079;17;42;0.9972;3.31;0.54;9.6;6\\n7.8;0.46;0.26;1.9;0.088;23;53;0.9981;3.43;0.74;9.2;6\\n9.6;0.38;0.31;2.5;0.096;16;49;0.9982;3.19;0.7;10;7\\n5.6;0.85;0.05;1.4;0.045;12;88;0.9924;3.56;0.82;12.9;8\\n13.7;0.415;0.68;2.9;0.085;17;43;1.0014;3.06;0.8;10;6\\n9.5;0.37;0.52;2;0.082;6;26;0.998;3.18;0.51;9.5;5\\n8.4;0.665;0.61;2;0.112;13;95;0.997;3.16;0.54;9.1;5\\n12.7;0.6;0.65;2.3;0.063;6;25;0.9997;3.03;0.57;9.9;5\\n12;0.37;0.76;4.2;0.066;7;38;1.0004;3.22;0.6;13;7\\n6.6;0.735;0.02;7.9;0.122;68;124;0.9994;3.47;0.53;9.9;5\\n11.5;0.59;0.59;2.6;0.087;13;49;0.9988;3.18;0.65;11;6\\n11.5;0.59;0.59;2.6;0.087;13;49;0.9988;3.18;0.65;11;6\\n8.7;0.765;0.22;2.3;0.064;9;42;0.9963;3.1;0.55;9.4;5\\n6.6;0.735;0.02;7.9;0.122;68;124;0.9994;3.47;0.53;9.9;5\\n7.7;0.26;0.3;1.7;0.059;20;38;0.9949;3.29;0.47;10.8;6\\n12.2;0.48;0.54;2.6;0.085;19;64;1;3.1;0.61;10.5;6\\n11.4;0.6;0.49;2.7;0.085;10;41;0.9994;3.15;0.63;10.5;6\\n7.7;0.69;0.05;2.7;0.075;15;27;0.9974;3.26;0.61;9.1;5\\n8.7;0.31;0.46;1.4;0.059;11;25;0.9966;3.36;0.76;10.1;6\\n9.8;0.44;0.47;2.5;0.063;9;28;0.9981;3.24;0.65;10.8;6\\n12;0.39;0.66;3;0.093;12;30;0.9996;3.18;0.63;10.8;7\\n10.4;0.34;0.58;3.7;0.174;6;16;0.997;3.19;0.7;11.3;6\\n12.5;0.46;0.49;4.5;0.07;26;49;0.9981;3.05;0.57;9.6;4\\n9;0.43;0.34;2.5;0.08;26;86;0.9987;3.38;0.62;9.5;6\\n9.1;0.45;0.35;2.4;0.08;23;78;0.9987;3.38;0.62;9.5;5\\n7.1;0.735;0.16;1.9;0.1;15;77;0.9966;3.27;0.64;9.3;5\\n9.9;0.4;0.53;6.7;0.097;6;19;0.9986;3.27;0.82;11.7;7\\n8.8;0.52;0.34;2.7;0.087;24;122;0.9982;3.26;0.61;9.5;5\\n8.6;0.725;0.24;6.6;0.117;31;134;1.0014;3.32;1.07;9.3;5\\n10.6;0.48;0.64;2.2;0.111;6;20;0.997;3.26;0.66;11.7;6\\n7;0.58;0.12;1.9;0.091;34;124;0.9956;3.44;0.48;10.5;5\\n11.9;0.38;0.51;2;0.121;7;20;0.9996;3.24;0.76;10.4;6\\n6.8;0.77;0;1.8;0.066;34;52;0.9976;3.62;0.68;9.9;5\\n9.5;0.56;0.33;2.4;0.089;35;67;0.9972;3.28;0.73;11.8;7\\n6.6;0.84;0.03;2.3;0.059;32;48;0.9952;3.52;0.56;12.3;7\\n7.7;0.96;0.2;2;0.047;15;60;0.9955;3.36;0.44;10.9;5\\n10.5;0.24;0.47;2.1;0.066;6;24;0.9978;3.15;0.9;11;7\\n7.7;0.96;0.2;2;0.047;15;60;0.9955;3.36;0.44;10.9;5\\n6.6;0.84;0.03;2.3;0.059;32;48;0.9952;3.52;0.56;12.3;7\\n6.4;0.67;0.08;2.1;0.045;19;48;0.9949;3.49;0.49;11.4;6\\n9.5;0.78;0.22;1.9;0.077;6;32;0.9988;3.26;0.56;10.6;6\\n9.1;0.52;0.33;1.3;0.07;9;30;0.9978;3.24;0.6;9.3;5\\n12.8;0.84;0.63;2.4;0.088;13;35;0.9997;3.1;0.6;10.4;6\\n10.5;0.24;0.47;2.1;0.066;6;24;0.9978;3.15;0.9;11;7\\n7.8;0.55;0.35;2.2;0.074;21;66;0.9974;3.25;0.56;9.2;5\\n11.9;0.37;0.69;2.3;0.078;12;24;0.9958;3;0.65;12.8;6\\n12.3;0.39;0.63;2.3;0.091;6;18;1.0004;3.16;0.49;9.5;5\\n10.4;0.41;0.55;3.2;0.076;22;54;0.9996;3.15;0.89;9.9;6\\n12.3;0.39;0.63;2.3;0.091;6;18;1.0004;3.16;0.49;9.5;5\\n8;0.67;0.3;2;0.06;38;62;0.9958;3.26;0.56;10.2;6\\n11.1;0.45;0.73;3.2;0.066;6;22;0.9986;3.17;0.66;11.2;6\\n10.4;0.41;0.55;3.2;0.076;22;54;0.9996;3.15;0.89;9.9;6\\n7;0.62;0.18;1.5;0.062;7;50;0.9951;3.08;0.6;9.3;5\\n12.6;0.31;0.72;2.2;0.072;6;29;0.9987;2.88;0.82;9.8;8\\n11.9;0.4;0.65;2.15;0.068;7;27;0.9988;3.06;0.68;11.3;6\\n15.6;0.685;0.76;3.7;0.1;6;43;1.0032;2.95;0.68;11.2;7\\n10;0.44;0.49;2.7;0.077;11;19;0.9963;3.23;0.63;11.6;7\\n5.3;0.57;0.01;1.7;0.054;5;27;0.9934;3.57;0.84;12.5;7\\n9.5;0.735;0.1;2.1;0.079;6;31;0.9986;3.23;0.56;10.1;6\\n12.5;0.38;0.6;2.6;0.081;31;72;0.9996;3.1;0.73;10.5;5\\n9.3;0.48;0.29;2.1;0.127;6;16;0.9968;3.22;0.72;11.2;5\\n8.6;0.53;0.22;2;0.1;7;27;0.9967;3.2;0.56;10.2;6\\n11.9;0.39;0.69;2.8;0.095;17;35;0.9994;3.1;0.61;10.8;6\\n11.9;0.39;0.69;2.8;0.095;17;35;0.9994;3.1;0.61;10.8;6\\n8.4;0.37;0.53;1.8;0.413;9;26;0.9979;3.06;1.06;9.1;6\\n6.8;0.56;0.03;1.7;0.084;18;35;0.9968;3.44;0.63;10;6\\n10.4;0.33;0.63;2.8;0.084;5;22;0.9998;3.26;0.74;11.2;7\\n7;0.23;0.4;1.6;0.063;21;67;0.9952;3.5;0.63;11.1;5\\n11.3;0.62;0.67;5.2;0.086;6;19;0.9988;3.22;0.69;13.4;8\\n8.9;0.59;0.39;2.3;0.095;5;22;0.9986;3.37;0.58;10.3;5\\n9.2;0.63;0.21;2.7;0.097;29;65;0.9988;3.28;0.58;9.6;5\\n10.4;0.33;0.63;2.8;0.084;5;22;0.9998;3.26;0.74;11.2;7\\n11.6;0.58;0.66;2.2;0.074;10;47;1.0008;3.25;0.57;9;3\\n9.2;0.43;0.52;2.3;0.083;14;23;0.9976;3.35;0.61;11.3;6\\n8.3;0.615;0.22;2.6;0.087;6;19;0.9982;3.26;0.61;9.3;5\\n11;0.26;0.68;2.55;0.085;10;25;0.997;3.18;0.61;11.8;5\\n8.1;0.66;0.7;2.2;0.098;25;129;0.9972;3.08;0.53;9;5\\n11.5;0.315;0.54;2.1;0.084;5;15;0.9987;2.98;0.7;9.2;6\\n10;0.29;0.4;2.9;0.098;10;26;1.0006;3.48;0.91;9.7;5\\n10.3;0.5;0.42;2;0.069;21;51;0.9982;3.16;0.72;11.5;6\\n8.8;0.46;0.4\n\n*** WARNING: max output size exceeded, skipping output. ***\n\n66;0.65;9.8;5\\n7.1;0.59;0.01;2.5;0.077;20;85;0.99746;3.55;0.59;9.8;5\\n9.9;0.35;0.41;2.3;0.083;11;61;0.9982;3.21;0.5;9.5;5\\n9.9;0.35;0.41;2.3;0.083;11;61;0.9982;3.21;0.5;9.5;5\\n10;0.56;0.24;2.2;0.079;19;58;0.9991;3.18;0.56;10.1;6\\n10;0.56;0.24;2.2;0.079;19;58;0.9991;3.18;0.56;10.1;6\\n8.6;0.63;0.17;2.9;0.099;21;119;0.998;3.09;0.52;9.3;5\\n7.4;0.37;0.43;2.6;0.082;18;82;0.99708;3.33;0.68;9.7;6\\n8.8;0.64;0.17;2.9;0.084;25;130;0.99818;3.23;0.54;9.6;5\\n7.1;0.61;0.02;2.5;0.081;17;87;0.99745;3.48;0.6;9.7;6\\n7.7;0.6;0;2.6;0.055;7;13;0.99639;3.38;0.56;10.8;5\\n10.1;0.27;0.54;2.3;0.065;7;26;0.99531;3.17;0.53;12.5;6\\n10.8;0.89;0.3;2.6;0.132;7;60;0.99786;2.99;1.18;10.2;5\\n8.7;0.46;0.31;2.5;0.126;24;64;0.99746;3.1;0.74;9.6;5\\n9.3;0.37;0.44;1.6;0.038;21;42;0.99526;3.24;0.81;10.8;7\\n9.4;0.5;0.34;3.6;0.082;5;14;0.9987;3.29;0.52;10.7;6\\n9.4;0.5;0.34;3.6;0.082;5;14;0.9987;3.29;0.52;10.7;6\\n7.2;0.61;0.08;4;0.082;26;108;0.99641;3.25;0.51;9.4;5\\n8.6;0.55;0.09;3.3;0.068;8;17;0.99735;3.23;0.44;10;5\\n5.1;0.585;0;1.7;0.044;14;86;0.99264;3.56;0.94;12.9;7\\n7.7;0.56;0.08;2.5;0.114;14;46;0.9971;3.24;0.66;9.6;6\\n8.4;0.52;0.22;2.7;0.084;4;18;0.99682;3.26;0.57;9.9;6\\n8.2;0.28;0.4;2.4;0.052;4;10;0.99356;3.33;0.7;12.8;7\\n8.4;0.25;0.39;2;0.041;4;10;0.99386;3.27;0.71;12.5;7\\n8.2;0.28;0.4;2.4;0.052;4;10;0.99356;3.33;0.7;12.8;7\\n7.4;0.53;0.12;1.9;0.165;4;12;0.99702;3.26;0.86;9.2;5\\n7.6;0.48;0.31;2.8;0.07;4;15;0.99693;3.22;0.55;10.3;6\\n7.3;0.49;0.1;2.6;0.068;4;14;0.99562;3.3;0.47;10.5;5\\n12.9;0.5;0.55;2.8;0.072;7;24;1.00012;3.09;0.68;10.9;6\\n10.8;0.45;0.33;2.5;0.099;20;38;0.99818;3.24;0.71;10.8;5\\n6.9;0.39;0.24;2.1;0.102;4;7;0.99462;3.44;0.58;11.4;4\\n12.6;0.41;0.54;2.8;0.103;19;41;0.99939;3.21;0.76;11.3;6\\n10.8;0.45;0.33;2.5;0.099;20;38;0.99818;3.24;0.71;10.8;5\\n9.8;0.51;0.19;3.2;0.081;8;30;0.9984;3.23;0.58;10.5;6\\n10.8;0.29;0.42;1.6;0.084;19;27;0.99545;3.28;0.73;11.9;6\\n7.1;0.715;0;2.35;0.071;21;47;0.99632;3.29;0.45;9.4;5\\n9.1;0.66;0.15;3.2;0.097;9;59;0.99976;3.28;0.54;9.6;5\\n7;0.685;0;1.9;0.099;9;22;0.99606;3.34;0.6;9.7;5\\n4.9;0.42;0;2.1;0.048;16;42;0.99154;3.71;0.74;14;7\\n6.7;0.54;0.13;2;0.076;15;36;0.9973;3.61;0.64;9.8;5\\n6.7;0.54;0.13;2;0.076;15;36;0.9973;3.61;0.64;9.8;5\\n7.1;0.48;0.28;2.8;0.068;6;16;0.99682;3.24;0.53;10.3;5\\n7.1;0.46;0.14;2.8;0.076;15;37;0.99624;3.36;0.49;10.7;5\\n7.5;0.27;0.34;2.3;0.05;4;8;0.9951;3.4;0.64;11;7\\n7.1;0.46;0.14;2.8;0.076;15;37;0.99624;3.36;0.49;10.7;5\\n7.8;0.57;0.09;2.3;0.065;34;45;0.99417;3.46;0.74;12.7;8\\n5.9;0.61;0.08;2.1;0.071;16;24;0.99376;3.56;0.77;11.1;6\\n7.5;0.685;0.07;2.5;0.058;5;9;0.99632;3.38;0.55;10.9;4\\n5.9;0.61;0.08;2.1;0.071;16;24;0.99376;3.56;0.77;11.1;6\\n10.4;0.44;0.42;1.5;0.145;34;48;0.99832;3.38;0.86;9.9;3\\n11.6;0.47;0.44;1.6;0.147;36;51;0.99836;3.38;0.86;9.9;4\\n8.8;0.685;0.26;1.6;0.088;16;23;0.99694;3.32;0.47;9.4;5\\n7.6;0.665;0.1;1.5;0.066;27;55;0.99655;3.39;0.51;9.3;5\\n6.7;0.28;0.28;2.4;0.012;36;100;0.99064;3.26;0.39;11.7;7\\n6.7;0.28;0.28;2.4;0.012;36;100;0.99064;3.26;0.39;11.7;7\\n10.1;0.31;0.35;1.6;0.075;9;28;0.99672;3.24;0.83;11.2;7\\n6;0.5;0.04;2.2;0.092;13;26;0.99647;3.46;0.47;10;5\\n11.1;0.42;0.47;2.65;0.085;9;34;0.99736;3.24;0.77;12.1;7\\n6.6;0.66;0;3;0.115;21;31;0.99629;3.45;0.63;10.3;5\\n10.6;0.5;0.45;2.6;0.119;34;68;0.99708;3.23;0.72;10.9;6\\n7.1;0.685;0.35;2;0.088;9;92;0.9963;3.28;0.62;9.4;5\\n9.9;0.25;0.46;1.7;0.062;26;42;0.9959;3.18;0.83;10.6;6\\n6.4;0.64;0.21;1.8;0.081;14;31;0.99689;3.59;0.66;9.8;5\\n6.4;0.64;0.21;1.8;0.081;14;31;0.99689;3.59;0.66;9.8;5\\n7.4;0.68;0.16;1.8;0.078;12;39;0.9977;3.5;0.7;9.9;6\\n6.4;0.64;0.21;1.8;0.081;14;31;0.99689;3.59;0.66;9.8;5\\n6.4;0.63;0.21;1.6;0.08;12;32;0.99689;3.58;0.66;9.8;5\\n9.3;0.43;0.44;1.9;0.085;9;22;0.99708;3.28;0.55;9.5;5\\n9.3;0.43;0.44;1.9;0.085;9;22;0.99708;3.28;0.55;9.5;5\\n8;0.42;0.32;2.5;0.08;26;122;0.99801;3.22;1.07;9.7;5\\n9.3;0.36;0.39;1.5;0.08;41;55;0.99652;3.47;0.73;10.9;6\\n9.3;0.36;0.39;1.5;0.08;41;55;0.99652;3.47;0.73;10.9;6\\n7.6;0.735;0.02;2.5;0.071;10;14;0.99538;3.51;0.71;11.7;7\\n9.3;0.36;0.39;1.5;0.08;41;55;0.99652;3.47;0.73;10.9;6\\n8.2;0.26;0.34;2.5;0.073;16;47;0.99594;3.4;0.78;11.3;7\\n11.7;0.28;0.47;1.7;0.054;17;32;0.99686;3.15;0.67;10.6;7\\n6.8;0.56;0.22;1.8;0.074;15;24;0.99438;3.4;0.82;11.2;6\\n7.2;0.62;0.06;2.7;0.077;15;85;0.99746;3.51;0.54;9.5;5\\n5.8;1.01;0.66;2;0.039;15;88;0.99357;3.66;0.6;11.5;6\\n7.5;0.42;0.32;2.7;0.067;7;25;0.99628;3.24;0.44;10.4;5\\n7.2;0.62;0.06;2.5;0.078;17;84;0.99746;3.51;0.53;9.7;5\\n7.2;0.62;0.06;2.7;0.077;15;85;0.99746;3.51;0.54;9.5;5\\n7.2;0.635;0.07;2.6;0.077;16;86;0.99748;3.51;0.54;9.7;5\\n6.8;0.49;0.22;2.3;0.071;13;24;0.99438;3.41;0.83;11.3;6\\n6.9;0.51;0.23;2;0.072;13;22;0.99438;3.4;0.84;11.2;6\\n6.8;0.56;0.22;1.8;0.074;15;24;0.99438;3.4;0.82;11.2;6\\n7.6;0.63;0.03;2;0.08;27;43;0.99578;3.44;0.64;10.9;6\\n7.7;0.715;0.01;2.1;0.064;31;43;0.99371;3.41;0.57;11.8;6\\n6.9;0.56;0.03;1.5;0.086;36;46;0.99522;3.53;0.57;10.6;5\\n7.3;0.35;0.24;2;0.067;28;48;0.99576;3.43;0.54;10;4\\n9.1;0.21;0.37;1.6;0.067;6;10;0.99552;3.23;0.58;11.1;7\\n10.4;0.38;0.46;2.1;0.104;6;10;0.99664;3.12;0.65;11.8;7\\n8.8;0.31;0.4;2.8;0.109;7;16;0.99614;3.31;0.79;11.8;7\\n7.1;0.47;0;2.2;0.067;7;14;0.99517;3.4;0.58;10.9;4\\n7.7;0.715;0.01;2.1;0.064;31;43;0.99371;3.41;0.57;11.8;6\\n8.8;0.61;0.19;4;0.094;30;69;0.99787;3.22;0.5;10;6\\n7.2;0.6;0.04;2.5;0.076;18;88;0.99745;3.53;0.55;9.5;5\\n9.2;0.56;0.18;1.6;0.078;10;21;0.99576;3.15;0.49;9.9;5\\n7.6;0.715;0;2.1;0.068;30;35;0.99533;3.48;0.65;11.4;6\\n8.4;0.31;0.29;3.1;0.194;14;26;0.99536;3.22;0.78;12;6\\n7.2;0.6;0.04;2.5;0.076;18;88;0.99745;3.53;0.55;9.5;5\\n8.8;0.61;0.19;4;0.094;30;69;0.99787;3.22;0.5;10;6\\n8.9;0.75;0.14;2.5;0.086;9;30;0.99824;3.34;0.64;10.5;5\\n9;0.8;0.12;2.4;0.083;8;28;0.99836;3.33;0.65;10.4;6\\n10.7;0.52;0.38;2.6;0.066;29;56;0.99577;3.15;0.79;12.1;7\\n6.8;0.57;0;2.5;0.072;32;64;0.99491;3.43;0.56;11.2;6\\n10.7;0.9;0.34;6.6;0.112;23;99;1.00289;3.22;0.68;9.3;5\\n7.2;0.34;0.24;2;0.071;30;52;0.99576;3.44;0.58;10.1;5\\n7.2;0.66;0.03;2.3;0.078;16;86;0.99743;3.53;0.57;9.7;5\\n10.1;0.45;0.23;1.9;0.082;10;18;0.99774;3.22;0.65;9.3;6\\n7.2;0.66;0.03;2.3;0.078;16;86;0.99743;3.53;0.57;9.7;5\\n7.2;0.63;0.03;2.2;0.08;17;88;0.99745;3.53;0.58;9.8;6\\n7.1;0.59;0.01;2.3;0.08;27;43;0.9955;3.42;0.58;10.7;6\\n8.3;0.31;0.39;2.4;0.078;17;43;0.99444;3.31;0.77;12.5;7\\n7.1;0.59;0.01;2.3;0.08;27;43;0.9955;3.42;0.58;10.7;6\\n8.3;0.31;0.39;2.4;0.078;17;43;0.99444;3.31;0.77;12.5;7\\n8.3;1.02;0.02;3.4;0.084;6;11;0.99892;3.48;0.49;11;3\\n8.9;0.31;0.36;2.6;0.056;10;39;0.99562;3.4;0.69;11.8;5\\n7.4;0.635;0.1;2.4;0.08;16;33;0.99736;3.58;0.69;10.8;7\\n7.4;0.635;0.1;2.4;0.08;16;33;0.99736;3.58;0.69;10.8;7\\n6.8;0.59;0.06;6;0.06;11;18;0.9962;3.41;0.59;10.8;7\\n6.8;0.59;0.06;6;0.06;11;18;0.9962;3.41;0.59;10.8;7\\n9.2;0.58;0.2;3;0.081;15;115;0.998;3.23;0.59;9.5;5\\n7.2;0.54;0.27;2.6;0.084;12;78;0.9964;3.39;0.71;11;5\\n6.1;0.56;0;2.2;0.079;6;9;0.9948;3.59;0.54;11.5;6\\n7.4;0.52;0.13;2.4;0.078;34;61;0.99528;3.43;0.59;10.8;6\\n7.3;0.305;0.39;1.2;0.059;7;11;0.99331;3.29;0.52;11.5;6\\n9.3;0.38;0.48;3.8;0.132;3;11;0.99577;3.23;0.57;13.2;6\\n9.1;0.28;0.46;9;0.114;3;9;0.99901;3.18;0.6;10.9;6\\n10;0.46;0.44;2.9;0.065;4;8;0.99674;3.33;0.62;12.2;6\\n9.4;0.395;0.46;4.6;0.094;3;10;0.99639;3.27;0.64;12.2;7\\n7.3;0.305;0.39;1.2;0.059;7;11;0.99331;3.29;0.52;11.5;6\\n8.6;0.315;0.4;2.2;0.079;3;6;0.99512;3.27;0.67;11.9;6\\n5.3;0.715;0.19;1.5;0.161;7;62;0.99395;3.62;0.61;11;5\\n6.8;0.41;0.31;8.8;0.084;26;45;0.99824;3.38;0.64;10.1;6\\n8.4;0.36;0.32;2.2;0.081;32;79;0.9964;3.3;0.72;11;6\\n8.4;0.62;0.12;1.8;0.072;38;46;0.99504;3.38;0.89;11.8;6\\n9.6;0.41;0.37;2.3;0.091;10;23;0.99786;3.24;0.56;10.5;5\\n8.4;0.36;0.32;2.2;0.081;32;79;0.9964;3.3;0.72;11;6\\n8.4;0.62;0.12;1.8;0.072;38;46;0.99504;3.38;0.89;11.8;6\\n6.8;0.41;0.31;8.8;0.084;26;45;0.99824;3.38;0.64;10.1;6\\n8.6;0.47;0.27;2.3;0.055;14;28;0.99516;3.18;0.8;11.2;5\\n8.6;0.22;0.36;1.9;0.064;53;77;0.99604;3.47;0.87;11;7\\n9.4;0.24;0.33;2.3;0.061;52;73;0.99786;3.47;0.9;10.2;6\\n8.4;0.67;0.19;2.2;0.093;11;75;0.99736;3.2;0.59;9.2;4\\n8.6;0.47;0.27;2.3;0.055;14;28;0.99516;3.18;0.8;11.2;5\\n8.7;0.33;0.38;3.3;0.063;10;19;0.99468;3.3;0.73;12;7\\n6.6;0.61;0.01;1.9;0.08;8;25;0.99746;3.69;0.73;10.5;5\\n7.4;0.61;0.01;2;0.074;13;38;0.99748;3.48;0.65;9.8;5\\n7.6;0.4;0.29;1.9;0.078;29;66;0.9971;3.45;0.59;9.5;6\\n7.4;0.61;0.01;2;0.074;13;38;0.99748;3.48;0.65;9.8;5\\n6.6;0.61;0.01;1.9;0.08;8;25;0.99746;3.69;0.73;10.5;5\\n8.8;0.3;0.38;2.3;0.06;19;72;0.99543;3.39;0.72;11.8;6\\n8.8;0.3;0.38;2.3;0.06;19;72;0.99543;3.39;0.72;11.8;6\\n12;0.63;0.5;1.4;0.071;6;26;0.99791;3.07;0.6;10.4;4\\n7.2;0.38;0.38;2.8;0.068;23;42;0.99356;3.34;0.72;12.9;7\\n6.2;0.46;0.17;1.6;0.073;7;11;0.99425;3.61;0.54;11.4;5\\n9.6;0.33;0.52;2.2;0.074;13;25;0.99509;3.36;0.76;12.4;7\\n9.9;0.27;0.49;5;0.082;9;17;0.99484;3.19;0.52;12.5;7\\n10.1;0.43;0.4;2.6;0.092;13;52;0.99834;3.22;0.64;10;7\\n9.8;0.5;0.34;2.3;0.094;10;45;0.99864;3.24;0.6;9.7;7\\n8.3;0.3;0.49;3.8;0.09;11;24;0.99498;3.27;0.64;12.1;7\\n10.2;0.44;0.42;2;0.071;7;20;0.99566;3.14;0.79;11.1;7\\n10.2;0.44;0.58;4.1;0.092;11;24;0.99745;3.29;0.99;12;7\\n8.3;0.28;0.48;2.1;0.093;6;12;0.99408;3.26;0.62;12.4;7\\n8.9;0.12;0.45;1.8;0.075;10;21;0.99552;3.41;0.76;11.9;7\\n8.9;0.12;0.45;1.8;0.075;10;21;0.99552;3.41;0.76;11.9;7\\n8.9;0.12;0.45;1.8;0.075;10;21;0.99552;3.41;0.76;11.9;7\\n8.3;0.28;0.48;2.1;0.093;6;12;0.99408;3.26;0.62;12.4;7\\n8.2;0.31;0.4;2.2;0.058;6;10;0.99536;3.31;0.68;11.2;7\\n10.2;0.34;0.48;2.1;0.052;5;9;0.99458;3.2;0.69;12.1;7\\n7.6;0.43;0.4;2.7;0.082;6;11;0.99538;3.44;0.54;12.2;6\\n8.5;0.21;0.52;1.9;0.09;9;23;0.99648;3.36;0.67;10.4;5\\n9;0.36;0.52;2.1;0.111;5;10;0.99568;3.31;0.62;11.3;6\\n9.5;0.37;0.52;2;0.088;12;51;0.99613;3.29;0.58;11.1;6\\n6.4;0.57;0.12;2.3;0.12;25;36;0.99519;3.47;0.71;11.3;7\\n8;0.59;0.05;2;0.089;12;32;0.99735;3.36;0.61;10;5\\n8.5;0.47;0.27;1.9;0.058;18;38;0.99518;3.16;0.85;11.1;6\\n7.1;0.56;0.14;1.6;0.078;7;18;0.99592;3.27;0.62;9.3;5\\n6.6;0.57;0.02;2.1;0.115;6;16;0.99654;3.38;0.69;9.5;5\\n8.8;0.27;0.39;2;0.1;20;27;0.99546;3.15;0.69;11.2;6\\n8.5;0.47;0.27;1.9;0.058;18;38;0.99518;3.16;0.85;11.1;6\\n8.3;0.34;0.4;2.4;0.065;24;48;0.99554;3.34;0.86;11;6\\n9;0.38;0.41;2.4;0.103;6;10;0.99604;3.13;0.58;11.9;7\\n8.5;0.66;0.2;2.1;0.097;23;113;0.99733;3.13;0.48;9.2;5\\n9;0.4;0.43;2.4;0.068;29;46;0.9943;3.2;0.6;12.2;6\\n6.7;0.56;0.09;2.9;0.079;7;22;0.99669;3.46;0.61;10.2;5\\n10.4;0.26;0.48;1.9;0.066;6;10;0.99724;3.33;0.87;10.9;6\\n10.4;0.26;0.48;1.9;0.066;6;10;0.99724;3.33;0.87;10.9;6\\n10.1;0.38;0.5;2.4;0.104;6;13;0.99643;3.22;0.65;11.6;7\\n8.5;0.34;0.44;1.7;0.079;6;12;0.99605;3.52;0.63;10.7;5\\n8.8;0.33;0.41;5.9;0.073;7;13;0.99658;3.3;0.62;12.1;7\\n7.2;0.41;0.3;2.1;0.083;35;72;0.997;3.44;0.52;9.4;5\\n7.2;0.41;0.3;2.1;0.083;35;72;0.997;3.44;0.52;9.4;5\\n8.4;0.59;0.29;2.6;0.109;31;119;0.99801;3.15;0.5;9.1;5\\n7;0.4;0.32;3.6;0.061;9;29;0.99416;3.28;0.49;11.3;7\\n12.2;0.45;0.49;1.4;0.075;3;6;0.9969;3.13;0.63;10.4;5\\n9.1;0.5;0.3;1.9;0.065;8;17;0.99774;3.32;0.71;10.5;6\\n9.5;0.86;0.26;1.9;0.079;13;28;0.99712;3.25;0.62;10;5\\n7.3;0.52;0.32;2.1;0.07;51;70;0.99418;3.34;0.82;12.9;6\\n9.1;0.5;0.3;1.9;0.065;8;17;0.99774;3.32;0.71;10.5;6\\n12.2;0.45;0.49;1.4;0.075;3;6;0.9969;3.13;0.63;10.4;5\\n7.4;0.58;0;2;0.064;7;11;0.99562;3.45;0.58;11.3;6\\n9.8;0.34;0.39;1.4;0.066;3;7;0.9947;3.19;0.55;11.4;7\\n7.1;0.36;0.3;1.6;0.08;35;70;0.99693;3.44;0.5;9.4;5\\n7.7;0.39;0.12;1.7;0.097;19;27;0.99596;3.16;0.49;9.4;5\\n9.7;0.295;0.4;1.5;0.073;14;21;0.99556;3.14;0.51;10.9;6\\n7.7;0.39;0.12;1.7;0.097;19;27;0.99596;3.16;0.49;9.4;5\\n7.1;0.34;0.28;2;0.082;31;68;0.99694;3.45;0.48;9.4;5\\n6.5;0.4;0.1;2;0.076;30;47;0.99554;3.36;0.48;9.4;6\\n7.1;0.34;0.28;2;0.082;31;68;0.99694;3.45;0.48;9.4;5\\n10;0.35;0.45;2.5;0.092;20;88;0.99918;3.15;0.43;9.4;5\\n7.7;0.6;0.06;2;0.079;19;41;0.99697;3.39;0.62;10.1;6\\n5.6;0.66;0;2.2;0.087;3;11;0.99378;3.71;0.63;12.8;7\\n5.6;0.66;0;2.2;0.087;3;11;0.99378;3.71;0.63;12.8;7\\n8.9;0.84;0.34;1.4;0.05;4;10;0.99554;3.12;0.48;9.1;6\\n6.4;0.69;0;1.65;0.055;7;12;0.99162;3.47;0.53;12.9;6\\n7.5;0.43;0.3;2.2;0.062;6;12;0.99495;3.44;0.72;11.5;7\\n9.9;0.35;0.38;1.5;0.058;31;47;0.99676;3.26;0.82;10.6;7\\n9.1;0.29;0.33;2.05;0.063;13;27;0.99516;3.26;0.84;11.7;7\\n6.8;0.36;0.32;1.8;0.067;4;8;0.9928;3.36;0.55;12.8;7\\n8.2;0.43;0.29;1.6;0.081;27;45;0.99603;3.25;0.54;10.3;5\\n6.8;0.36;0.32;1.8;0.067;4;8;0.9928;3.36;0.55;12.8;7\\n9.1;0.29;0.33;2.05;0.063;13;27;0.99516;3.26;0.84;11.7;7\\n9.1;0.3;0.34;2;0.064;12;25;0.99516;3.26;0.84;11.7;7\\n8.9;0.35;0.4;3.6;0.11;12;24;0.99549;3.23;0.7;12;7\\n9.6;0.5;0.36;2.8;0.116;26;55;0.99722;3.18;0.68;10.9;5\\n8.9;0.28;0.45;1.7;0.067;7;12;0.99354;3.25;0.55;12.3;7\\n8.9;0.32;0.31;2;0.088;12;19;0.9957;3.17;0.55;10.4;6\\n7.7;1.005;0.15;2.1;0.102;11;32;0.99604;3.23;0.48;10;5\\n7.5;0.71;0;1.6;0.092;22;31;0.99635;3.38;0.58;10;6\\n8;0.58;0.16;2;0.12;3;7;0.99454;3.22;0.58;11.2;6\\n10.5;0.39;0.46;2.2;0.075;14;27;0.99598;3.06;0.84;11.4;6\\n8.9;0.38;0.4;2.2;0.068;12;28;0.99486;3.27;0.75;12.6;7\\n8;0.18;0.37;0.9;0.049;36;109;0.99007;2.89;0.44;12.7;6\\n8;0.18;0.37;0.9;0.049;36;109;0.99007;2.89;0.44;12.7;6\\n7;0.5;0.14;1.8;0.078;10;23;0.99636;3.53;0.61;10.4;5\\n11.3;0.36;0.66;2.4;0.123;3;8;0.99642;3.2;0.53;11.9;6\\n11.3;0.36;0.66;2.4;0.123;3;8;0.99642;3.2;0.53;11.9;6\\n7;0.51;0.09;2.1;0.062;4;9;0.99584;3.35;0.54;10.5;5\\n8.2;0.32;0.42;2.3;0.098;3;9;0.99506;3.27;0.55;12.3;6\\n7.7;0.58;0.01;1.8;0.088;12;18;0.99568;3.32;0.56;10.5;7\\n8.6;0.83;0;2.8;0.095;17;43;0.99822;3.33;0.6;10.4;6\\n7.9;0.31;0.32;1.9;0.066;14;36;0.99364;3.41;0.56;12.6;6\\n6.4;0.795;0;2.2;0.065;28;52;0.99378;3.49;0.52;11.6;5\\n7.2;0.34;0.21;2.5;0.075;41;68;0.99586;3.37;0.54;10.1;6\\n7.7;0.58;0.01;1.8;0.088;12;18;0.99568;3.32;0.56;10.5;7\\n7.1;0.59;0;2.1;0.091;9;14;0.99488;3.42;0.55;11.5;7\\n7.3;0.55;0.01;1.8;0.093;9;15;0.99514;3.35;0.58;11;7\\n8.1;0.82;0;4.1;0.095;5;14;0.99854;3.36;0.53;9.6;5\\n7.5;0.57;0.08;2.6;0.089;14;27;0.99592;3.3;0.59;10.4;6\\n8.9;0.745;0.18;2.5;0.077;15;48;0.99739;3.2;0.47;9.7;6\\n10.1;0.37;0.34;2.4;0.085;5;17;0.99683;3.17;0.65;10.6;7\\n7.6;0.31;0.34;2.5;0.082;26;35;0.99356;3.22;0.59;12.5;7\\n7.3;0.91;0.1;1.8;0.074;20;56;0.99672;3.35;0.56;9.2;5\\n8.7;0.41;0.41;6.2;0.078;25;42;0.9953;3.24;0.77;12.6;7\\n8.9;0.5;0.21;2.2;0.088;21;39;0.99692;3.33;0.83;11.1;6\\n7.4;0.965;0;2.2;0.088;16;32;0.99756;3.58;0.67;10.2;5\\n6.9;0.49;0.19;1.7;0.079;13;26;0.99547;3.38;0.64;9.8;6\\n8.9;0.5;0.21;2.2;0.088;21;39;0.99692;3.33;0.83;11.1;6\\n9.5;0.39;0.41;8.9;0.069;18;39;0.99859;3.29;0.81;10.9;7\\n6.4;0.39;0.33;3.3;0.046;12;53;0.99294;3.36;0.62;12.2;6\\n6.9;0.44;0;1.4;0.07;32;38;0.99438;3.32;0.58;11.4;6\\n7.6;0.78;0;1.7;0.076;33;45;0.99612;3.31;0.62;10.7;6\\n7.1;0.43;0.17;1.8;0.082;27;51;0.99634;3.49;0.64;10.4;5\\n9.3;0.49;0.36;1.7;0.081;3;14;0.99702;3.27;0.78;10.9;6\\n9.3;0.5;0.36;1.8;0.084;6;17;0.99704;3.27;0.77;10.8;6\\n7.1;0.43;0.17;1.8;0.082;27;51;0.99634;3.49;0.64;10.4;5\\n8.5;0.46;0.59;1.4;0.414;16;45;0.99702;3.03;1.34;9.2;5\\n5.6;0.605;0.05;2.4;0.073;19;25;0.99258;3.56;0.55;12.9;5\\n8.3;0.33;0.42;2.3;0.07;9;20;0.99426;3.38;0.77;12.7;7\\n8.2;0.64;0.27;2;0.095;5;77;0.99747;3.13;0.62;9.1;6\\n8.2;0.64;0.27;2;0.095;5;77;0.99747;3.13;0.62;9.1;6\\n8.9;0.48;0.53;4;0.101;3;10;0.99586;3.21;0.59;12.1;7\\n7.6;0.42;0.25;3.9;0.104;28;90;0.99784;3.15;0.57;9.1;5\\n9.9;0.53;0.57;2.4;0.093;30;52;0.9971;3.19;0.76;11.6;7\\n8.9;0.48;0.53;4;0.101;3;10;0.99586;3.21;0.59;12.1;7\\n11.6;0.23;0.57;1.8;0.074;3;8;0.9981;3.14;0.7;9.9;6\\n9.1;0.4;0.5;1.8;0.071;7;16;0.99462;3.21;0.69;12.5;8\\n8;0.38;0.44;1.9;0.098;6;15;0.9956;3.3;0.64;11.4;6\\n10.2;0.29;0.65;2.4;0.075;6;17;0.99565;3.22;0.63;11.8;6\\n8.2;0.74;0.09;2;0.067;5;10;0.99418;3.28;0.57;11.8;6\\n7.7;0.61;0.18;2.4;0.083;6;20;0.9963;3.29;0.6;10.2;6\\n6.6;0.52;0.08;2.4;0.07;13;26;0.99358;3.4;0.72;12.5;7\\n11.1;0.31;0.53;2.2;0.06;3;10;0.99572;3.02;0.83;10.9;7\\n11.1;0.31;0.53;2.2;0.06;3;10;0.99572;3.02;0.83;10.9;7\\n8;0.62;0.35;2.8;0.086;28;52;0.997;3.31;0.62;10.8;5\\n9.3;0.33;0.45;1.5;0.057;19;37;0.99498;3.18;0.89;11.1;7\\n7.5;0.77;0.2;8.1;0.098;30;92;0.99892;3.2;0.58;9.2;5\\n7.2;0.35;0.26;1.8;0.083;33;75;0.9968;3.4;0.58;9.5;6\\n8;0.62;0.33;2.7;0.088;16;37;0.9972;3.31;0.58;10.7;6\\n7.5;0.77;0.2;8.1;0.098;30;92;0.99892;3.2;0.58;9.2;5\\n9.1;0.25;0.34;2;0.071;45;67;0.99769;3.44;0.86;10.2;7\\n9.9;0.32;0.56;2;0.073;3;8;0.99534;3.15;0.73;11.4;6\\n8.6;0.37;0.65;6.4;0.08;3;8;0.99817;3.27;0.58;11;5\\n8.6;0.37;0.65;6.4;0.08;3;8;0.99817;3.27;0.58;11;5\\n7.9;0.3;0.68;8.3;0.05;37.5;278;0.99316;3.01;0.51;12.3;7\\n10.3;0.27;0.56;1.4;0.047;3;8;0.99471;3.16;0.51;11.8;6\\n7.9;0.3;0.68;8.3;0.05;37.5;289;0.99316;3.01;0.51;12.3;7\\n7.2;0.38;0.3;1.8;0.073;31;70;0.99685;3.42;0.59;9.5;6\\n8.7;0.42;0.45;2.4;0.072;32;59;0.99617;3.33;0.77;12;6\\n7.2;0.38;0.3;1.8;0.073;31;70;0.99685;3.42;0.59;9.5;6\\n6.8;0.48;0.08;1.8;0.074;40;64;0.99529;3.12;0.49;9.6;5\\n8.5;0.34;0.4;4.7;0.055;3;9;0.99738;3.38;0.66;11.6;7\\n7.9;0.19;0.42;1.6;0.057;18;30;0.994;3.29;0.69;11.2;6\\n11.6;0.41;0.54;1.5;0.095;22;41;0.99735;3.02;0.76;9.9;7\\n11.6;0.41;0.54;1.5;0.095;22;41;0.99735;3.02;0.76;9.9;7\\n10;0.26;0.54;1.9;0.083;42;74;0.99451;2.98;0.63;11.8;8\\n7.9;0.34;0.42;2;0.086;8;19;0.99546;3.35;0.6;11.4;6\\n7;0.54;0.09;2;0.081;10;16;0.99479;3.43;0.59;11.5;6\\n9.2;0.31;0.36;2.2;0.079;11;31;0.99615;3.33;0.86;12;7\\n6.6;0.725;0.09;5.5;0.117;9;17;0.99655;3.35;0.49;10.8;6\\n9.4;0.4;0.47;2.5;0.087;6;20;0.99772;3.15;0.5;10.5;5\\n6.6;0.725;0.09;5.5;0.117;9;17;0.99655;3.35;0.49;10.8;6\\n8.6;0.52;0.38;1.5;0.096;5;18;0.99666;3.2;0.52;9.4;5\\n8;0.31;0.45;2.1;0.216;5;16;0.99358;3.15;0.81;12.5;7\\n8.6;0.52;0.38;1.5;0.096;5;18;0.99666;3.2;0.52;9.4;5\\n8.4;0.34;0.42;2.1;0.072;23;36;0.99392;3.11;0.78;12.4;6\\n7.4;0.49;0.27;2.1;0.071;14;25;0.99388;3.35;0.63;12;6\\n6.1;0.48;0.09;1.7;0.078;18;30;0.99402;3.45;0.54;11.2;6\\n7.4;0.49;0.27;2.1;0.071;14;25;0.99388;3.35;0.63;12;6\\n8;0.48;0.34;2.2;0.073;16;25;0.9936;3.28;0.66;12.4;6\\n6.3;0.57;0.28;2.1;0.048;13;49;0.99374;3.41;0.6;12.8;5\\n8.2;0.23;0.42;1.9;0.069;9;17;0.99376;3.21;0.54;12.3;6\\n9.1;0.3;0.41;2;0.068;10;24;0.99523;3.27;0.85;11.7;7\\n8.1;0.78;0.1;3.3;0.09;4;13;0.99855;3.36;0.49;9.5;5\\n10.8;0.47;0.43;2.1;0.171;27;66;0.9982;3.17;0.76;10.8;6\\n8.3;0.53;0;1.4;0.07;6;14;0.99593;3.25;0.64;10;6\\n5.4;0.42;0.27;2;0.092;23;55;0.99471;3.78;0.64;12.3;7\\n7.9;0.33;0.41;1.5;0.056;6;35;0.99396;3.29;0.71;11;6\\n8.9;0.24;0.39;1.6;0.074;3;10;0.99698;3.12;0.59;9.5;6\\n5;0.4;0.5;4.3;0.046;29;80;0.9902;3.49;0.66;13.6;6\\n7;0.69;0.07;2.5;0.091;15;21;0.99572;3.38;0.6;11.3;6\\n7;0.69;0.07;2.5;0.091;15;21;0.99572;3.38;0.6;11.3;6\\n7;0.69;0.07;2.5;0.091;15;21;0.99572;3.38;0.6;11.3;6\\n7.1;0.39;0.12;2.1;0.065;14;24;0.99252;3.3;0.53;13.3;6\\n5.6;0.66;0;2.5;0.066;7;15;0.99256;3.52;0.58;12.9;5\\n7.9;0.54;0.34;2.5;0.076;8;17;0.99235;3.2;0.72;13.1;8\\n6.6;0.5;0;1.8;0.062;21;28;0.99352;3.44;0.55;12.3;6\\n6.3;0.47;0;1.4;0.055;27;33;0.9922;3.45;0.48;12.3;6\\n10.7;0.4;0.37;1.9;0.081;17;29;0.99674;3.12;0.65;11.2;6\\n6.5;0.58;0;2.2;0.096;3;13;0.99557;3.62;0.62;11.5;4\\n8.8;0.24;0.35;1.7;0.055;13;27;0.99394;3.14;0.59;11.3;7\\n5.8;0.29;0.26;1.7;0.063;3;11;0.9915;3.39;0.54;13.5;6\\n6.3;0.76;0;2.9;0.072;26;52;0.99379;3.51;0.6;11.5;6\\n10;0.43;0.33;2.7;0.095;28;89;0.9984;3.22;0.68;10;5\\n10.5;0.43;0.35;3.3;0.092;24;70;0.99798;3.21;0.69;10.5;6\\n9.1;0.6;0;1.9;0.058;5;10;0.9977;3.18;0.63;10.4;6\\n5.9;0.19;0.21;1.7;0.045;57;135;0.99341;3.32;0.44;9.5;5\\n7.4;0.36;0.34;1.8;0.075;18;38;0.9933;3.38;0.88;13.6;7\\n7.2;0.48;0.07;5.5;0.089;10;18;0.99684;3.37;0.68;11.2;7\\n8.5;0.28;0.35;1.7;0.061;6;15;0.99524;3.3;0.74;11.8;7\\n8;0.25;0.43;1.7;0.067;22;50;0.9946;3.38;0.6;11.9;6\\n10.4;0.52;0.45;2;0.08;6;13;0.99774;3.22;0.76;11.4;6\\n10.4;0.52;0.45;2;0.08;6;13;0.99774;3.22;0.76;11.4;6\\n7.5;0.41;0.15;3.7;0.104;29;94;0.99786;3.14;0.58;9.1;5\\n8.2;0.51;0.24;2;0.079;16;86;0.99764;3.34;0.64;9.5;6\\n7.3;0.4;0.3;1.7;0.08;33;79;0.9969;3.41;0.65;9.5;6\\n8.2;0.38;0.32;2.5;0.08;24;71;0.99624;3.27;0.85;11;6\\n6.9;0.45;0.11;2.4;0.043;6;12;0.99354;3.3;0.65;11.4;6\\n7;0.22;0.3;1.8;0.065;16;20;0.99672;3.61;0.82;10;6\\n7.3;0.32;0.23;2.3;0.066;35;70;0.99588;3.43;0.62;10.1;5\\n8.2;0.2;0.43;2.5;0.076;31;51;0.99672;3.53;0.81;10.4;6\\n7.8;0.5;0.12;1.8;0.178;6;21;0.996;3.28;0.87;9.8;6\\n10;0.41;0.45;6.2;0.071;6;14;0.99702;3.21;0.49;11.8;7\\n7.8;0.39;0.42;2;0.086;9;21;0.99526;3.39;0.66;11.6;6\\n10;0.35;0.47;2;0.061;6;11;0.99585;3.23;0.52;12;6\\n8.2;0.33;0.32;2.8;0.067;4;12;0.99473;3.3;0.76;12.8;7\\n6.1;0.58;0.23;2.5;0.044;16;70;0.99352;3.46;0.65;12.5;6\\n8.3;0.6;0.25;2.2;0.118;9;38;0.99616;3.15;0.53;9.8;5\\n9.6;0.42;0.35;2.1;0.083;17;38;0.99622;3.23;0.66;11.1;6\\n6.6;0.58;0;2.2;0.1;50;63;0.99544;3.59;0.68;11.4;6\\n8.3;0.6;0.25;2.2;0.118;9;38;0.99616;3.15;0.53;9.8;5\\n8.5;0.18;0.51;1.75;0.071;45;88;0.99524;3.33;0.76;11.8;7\\n5.1;0.51;0.18;2.1;0.042;16;101;0.9924;3.46;0.87;12.9;7\\n6.7;0.41;0.43;2.8;0.076;22;54;0.99572;3.42;1.16;10.6;6\\n10.2;0.41;0.43;2.2;0.11;11;37;0.99728;3.16;0.67;10.8;5\\n10.6;0.36;0.57;2.3;0.087;6;20;0.99676;3.14;0.72;11.1;7\\n8.8;0.45;0.43;1.4;0.076;12;21;0.99551;3.21;0.75;10.2;6\\n8.5;0.32;0.42;2.3;0.075;12;19;0.99434;3.14;0.71;11.8;7\\n9;0.785;0.24;1.7;0.078;10;21;0.99692;3.29;0.67;10;5\\n9;0.785;0.24;1.7;0.078;10;21;0.99692;3.29;0.67;10;5\\n8.5;0.44;0.5;1.9;0.369;15;38;0.99634;3.01;1.1;9.4;5\\n9.9;0.54;0.26;2;0.111;7;60;0.99709;2.94;0.98;10.2;5\\n8.2;0.33;0.39;2.5;0.074;29;48;0.99528;3.32;0.88;12.4;7\\n6.5;0.34;0.27;2.8;0.067;8;44;0.99384;3.21;0.56;12;6\\n7.6;0.5;0.29;2.3;0.086;5;14;0.99502;3.32;0.62;11.5;6\\n9.2;0.36;0.34;1.6;0.062;5;12;0.99667;3.2;0.67;10.5;6\\n7.1;0.59;0;2.2;0.078;26;44;0.99522;3.42;0.68;10.8;6\\n9.7;0.42;0.46;2.1;0.074;5;16;0.99649;3.27;0.74;12.3;6\\n7.6;0.36;0.31;1.7;0.079;26;65;0.99716;3.46;0.62;9.5;6\\n7.6;0.36;0.31;1.7;0.079;26;65;0.99716;3.46;0.62;9.5;6\\n6.5;0.61;0;2.2;0.095;48;59;0.99541;3.61;0.7;11.5;6\\n6.5;0.88;0.03;5.6;0.079;23;47;0.99572;3.58;0.5;11.2;4\\n7.1;0.66;0;2.4;0.052;6;11;0.99318;3.35;0.66;12.7;7\\n5.6;0.915;0;2.1;0.041;17;78;0.99346;3.68;0.73;11.4;5\\n8.2;0.35;0.33;2.4;0.076;11;47;0.99599;3.27;0.81;11;6\\n8.2;0.35;0.33;2.4;0.076;11;47;0.99599;3.27;0.81;11;6\\n9.8;0.39;0.43;1.65;0.068;5;11;0.99478;3.19;0.46;11.4;5\\n10.2;0.4;0.4;2.5;0.068;41;54;0.99754;3.38;0.86;10.5;6\\n6.8;0.66;0.07;1.6;0.07;16;61;0.99572;3.29;0.6;9.3;5\\n6.7;0.64;0.23;2.1;0.08;11;119;0.99538;3.36;0.7;10.9;5\\n7;0.43;0.3;2;0.085;6;39;0.99346;3.33;0.46;11.9;6\\n6.6;0.8;0.03;7.8;0.079;6;12;0.9963;3.52;0.5;12.2;5\\n7;0.43;0.3;2;0.085;6;39;0.99346;3.33;0.46;11.9;6\\n6.7;0.64;0.23;2.1;0.08;11;119;0.99538;3.36;0.7;10.9;5\\n8.8;0.955;0.05;1.8;0.075;5;19;0.99616;3.3;0.44;9.6;4\\n9.1;0.4;0.57;4.6;0.08;6;20;0.99652;3.28;0.57;12.5;6\\n6.5;0.885;0;2.3;0.166;6;12;0.99551;3.56;0.51;10.8;5\\n7.2;0.25;0.37;2.5;0.063;11;41;0.99439;3.52;0.8;12.4;7\\n6.4;0.885;0;2.3;0.166;6;12;0.99551;3.56;0.51;10.8;5\\n7;0.745;0.12;1.8;0.114;15;64;0.99588;3.22;0.59;9.5;6\\n6.2;0.43;0.22;1.8;0.078;21;56;0.99633;3.52;0.6;9.5;6\\n7.9;0.58;0.23;2.3;0.076;23;94;0.99686;3.21;0.58;9.5;6\\n7.7;0.57;0.21;1.5;0.069;4;9;0.99458;3.16;0.54;9.8;6\\n7.7;0.26;0.26;2;0.052;19;77;0.9951;3.15;0.79;10.9;6\\n7.9;0.58;0.23;2.3;0.076;23;94;0.99686;3.21;0.58;9.5;6\\n7.7;0.57;0.21;1.5;0.069;4;9;0.99458;3.16;0.54;9.8;6\\n7.9;0.34;0.36;1.9;0.065;5;10;0.99419;3.27;0.54;11.2;7\\n8.6;0.42;0.39;1.8;0.068;6;12;0.99516;3.35;0.69;11.7;8\\n9.9;0.74;0.19;5.8;0.111;33;76;0.99878;3.14;0.55;9.4;5\\n7.2;0.36;0.46;2.1;0.074;24;44;0.99534;3.4;0.85;11;7\\n7.2;0.36;0.46;2.1;0.074;24;44;0.99534;3.4;0.85;11;7\\n7.2;0.36;0.46;2.1;0.074;24;44;0.99534;3.4;0.85;11;7\\n9.9;0.72;0.55;1.7;0.136;24;52;0.99752;3.35;0.94;10;5\\n7.2;0.36;0.46;2.1;0.074;24;44;0.99534;3.4;0.85;11;7\\n6.2;0.39;0.43;2;0.071;14;24;0.99428;3.45;0.87;11.2;7\\n6.8;0.65;0.02;2.1;0.078;8;15;0.99498;3.35;0.62;10.4;6\\n6.6;0.44;0.15;2.1;0.076;22;53;0.9957;3.32;0.62;9.3;5\\n6.8;0.65;0.02;2.1;0.078;8;15;0.99498;3.35;0.62;10.4;6\\n9.6;0.38;0.42;1.9;0.071;5;13;0.99659;3.15;0.75;10.5;6\\n10.2;0.33;0.46;1.9;0.081;6;9;0.99628;3.1;0.48;10.4;6\\n8.8;0.27;0.46;2.1;0.095;20;29;0.99488;3.26;0.56;11.3;6\\n7.9;0.57;0.31;2;0.079;10;79;0.99677;3.29;0.69;9.5;6\\n8.2;0.34;0.37;1.9;0.057;43;74;0.99408;3.23;0.81;12;6\\n8.2;0.4;0.31;1.9;0.082;8;24;0.996;3.24;0.69;10.6;6\\n9;0.39;0.4;1.3;0.044;25;50;0.99478;3.2;0.83;10.9;6\\n10.9;0.32;0.52;1.8;0.132;17;44;0.99734;3.28;0.77;11.5;6\\n10.9;0.32;0.52;1.8;0.132;17;44;0.99734;3.28;0.77;11.5;6\\n8.1;0.53;0.22;2.2;0.078;33;89;0.99678;3.26;0.46;9.6;6\\n10.5;0.36;0.47;2.2;0.074;9;23;0.99638;3.23;0.76;12;6\\n12.6;0.39;0.49;2.5;0.08;8;20;0.9992;3.07;0.82;10.3;6\\n9.2;0.46;0.23;2.6;0.091;18;77;0.99922;3.15;0.51;9.4;5\\n7.5;0.58;0.03;4.1;0.08;27;46;0.99592;3.02;0.47;9.2;5\\n9;0.58;0.25;2;0.104;8;21;0.99769;3.27;0.72;9.6;5\\n5.1;0.42;0;1.8;0.044;18;88;0.99157;3.68;0.73;13.6;7\\n7.6;0.43;0.29;2.1;0.075;19;66;0.99718;3.4;0.64;9.5;5\\n7.7;0.18;0.34;2.7;0.066;15;58;0.9947;3.37;0.78;11.8;6\\n7.8;0.815;0.01;2.6;0.074;48;90;0.99621;3.38;0.62;10.8;5\\n7.6;0.43;0.29;2.1;0.075;19;66;0.99718;3.4;0.64;9.5;5\\n10.2;0.23;0.37;2.2;0.057;14;36;0.99614;3.23;0.49;9.3;4\\n7.1;0.75;0.01;2.2;0.059;11;18;0.99242;3.39;0.4;12.8;6\\n6;0.33;0.32;12.9;0.054;6;113;0.99572;3.3;0.56;11.5;4\\n7.8;0.55;0;1.7;0.07;7;17;0.99659;3.26;0.64;9.4;6\\n7.1;0.75;0.01;2.2;0.059;11;18;0.99242;3.39;0.4;12.8;6\\n8.1;0.73;0;2.5;0.081;12;24;0.99798;3.38;0.46;9.6;4\\n6.5;0.67;0;4.3;0.057;11;20;0.99488;3.45;0.56;11.8;4\\n7.5;0.61;0.2;1.7;0.076;36;60;0.99494;3.1;0.4;9.3;5\\n9.8;0.37;0.39;2.5;0.079;28;65;0.99729;3.16;0.59;9.8;5\\n9;0.4;0.41;2;0.058;15;40;0.99414;3.22;0.6;12.2;6\\n8.3;0.56;0.22;2.4;0.082;10;86;0.9983;3.37;0.62;9.5;5\\n5.9;0.29;0.25;13.4;0.067;72;160;0.99721;3.33;0.54;10.3;6\\n7.4;0.55;0.19;1.8;0.082;15;34;0.99655;3.49;0.68;10.5;5\\n7.4;0.74;0.07;'"
     ]
    }
   ],
   "source": [
    "dbutils.fs.head(\"/databricks-datasets/wine-quality/winequality-red.csv\")\n"
   ]
  },
  {
   "cell_type": "code",
   "execution_count": 0,
   "metadata": {
    "application/vnd.databricks.v1+cell": {
     "cellMetadata": {
      "byteLimit": 2048000,
      "rowLimit": 10000
     },
     "inputWidgets": {},
     "nuid": "fc88372e-e89a-4458-ad45-354e82672324",
     "showTitle": false,
     "title": ""
    }
   },
   "outputs": [
    {
     "output_type": "stream",
     "name": "stdout",
     "output_type": "stream",
     "text": [
      "Out[71]: True"
     ]
    }
   ],
   "source": [
    "#criando pasta no projeto\n",
    "dbutils.fs.mkdirs('/FileStore/tables/aula-databricks/vinhos')\n"
   ]
  },
  {
   "cell_type": "code",
   "execution_count": 0,
   "metadata": {
    "application/vnd.databricks.v1+cell": {
     "cellMetadata": {
      "byteLimit": 2048000,
      "rowLimit": 10000
     },
     "inputWidgets": {},
     "nuid": "0c1b8470-8755-41cf-9bb5-7b71171484b6",
     "showTitle": false,
     "title": ""
    }
   },
   "outputs": [
    {
     "output_type": "stream",
     "name": "stdout",
     "output_type": "stream",
     "text": [
      "Out[72]: True"
     ]
    }
   ],
   "source": [
    "#copiando as pastas com cp\n",
    "dbutils.fs.cp(\n",
    "    '/databricks-datasets/wine-quality', \n",
    "    '/FileStore/tables/aula-databricks', \n",
    "    recurse=True\n",
    ")\n"
   ]
  },
  {
   "cell_type": "code",
   "execution_count": 0,
   "metadata": {
    "application/vnd.databricks.v1+cell": {
     "cellMetadata": {
      "byteLimit": 2048000,
      "rowLimit": 10000
     },
     "inputWidgets": {},
     "nuid": "8404ce77-ad62-4d1c-ba94-52c602916252",
     "showTitle": false,
     "title": ""
    }
   },
   "outputs": [
    {
     "output_type": "stream",
     "name": "stdout",
     "output_type": "stream",
     "text": [
      "Out[73]: [FileInfo(path='dbfs:/FileStore/tables/aula-databricks/vinhos/README.md', name='README.md', size=1066, modificationTime=1698369984000),\n FileInfo(path='dbfs:/FileStore/tables/aula-databricks/vinhos/winequality-red.csv', name='winequality-red.csv', size=84199, modificationTime=1698369984000),\n FileInfo(path='dbfs:/FileStore/tables/aula-databricks/vinhos/winequality-white.csv', name='winequality-white.csv', size=264426, modificationTime=1698369985000)]"
     ]
    }
   ],
   "source": [
    "#verificando se há dados, mas está vazio\n",
    "dbutils.fs.ls('/FileStore/tables/aula-databricks/vinhos')\n"
   ]
  },
  {
   "cell_type": "code",
   "execution_count": 0,
   "metadata": {
    "application/vnd.databricks.v1+cell": {
     "cellMetadata": {
      "byteLimit": 2048000,
      "rowLimit": 10000
     },
     "inputWidgets": {},
     "nuid": "ecaf9b9a-d59f-414c-82fa-ce65dfc03de1",
     "showTitle": false,
     "title": ""
    }
   },
   "outputs": [
    {
     "output_type": "display_data",
     "data": {
      "text/plain": [
       "\u001B[0;31m---------------------------------------------------------------------------\u001B[0m\n",
       "\u001B[0;31mIllegalArgumentException\u001B[0m                  Traceback (most recent call last)\n",
       "File \u001B[0;32m<command-196099402404320>:2\u001B[0m\n",
       "\u001B[1;32m      1\u001B[0m \u001B[38;5;66;03m# utilizando mv para mover os dados de uma pasta para outra\u001B[39;00m\n",
       "\u001B[0;32m----> 2\u001B[0m \u001B[43mdbutils\u001B[49m\u001B[38;5;241;43m.\u001B[39;49m\u001B[43mfs\u001B[49m\u001B[38;5;241;43m.\u001B[39;49m\u001B[43mmv\u001B[49m\u001B[43m(\u001B[49m\n",
       "\u001B[1;32m      3\u001B[0m \u001B[43m    \u001B[49m\u001B[38;5;124;43m'\u001B[39;49m\u001B[38;5;124;43m/FileStore/tables/aula-databricks/\u001B[39;49m\u001B[38;5;124;43m'\u001B[39;49m\u001B[43m,\u001B[49m\u001B[43m \u001B[49m\n",
       "\u001B[1;32m      4\u001B[0m \u001B[43m    \u001B[49m\u001B[38;5;124;43m'\u001B[39;49m\u001B[38;5;124;43m/FileStore/tables/aula-databricks/vinhos/\u001B[39;49m\u001B[38;5;124;43m'\u001B[39;49m\u001B[43m,\u001B[49m\u001B[43m \u001B[49m\n",
       "\u001B[1;32m      5\u001B[0m \u001B[43m    \u001B[49m\n",
       "\u001B[1;32m      6\u001B[0m \u001B[43m)\u001B[49m\n",
       "\n",
       "File \u001B[0;32m/databricks/python_shell/dbruntime/dbutils.py:346\u001B[0m, in \u001B[0;36mDBUtils.FSHandler.prettify_exception_message.<locals>.f_with_exception_handling\u001B[0;34m(*args, **kwargs)\u001B[0m\n",
       "\u001B[1;32m    344\u001B[0m \u001B[38;5;28;01mdef\u001B[39;00m \u001B[38;5;21mf_with_exception_handling\u001B[39m(\u001B[38;5;241m*\u001B[39margs, \u001B[38;5;241m*\u001B[39m\u001B[38;5;241m*\u001B[39mkwargs):\n",
       "\u001B[1;32m    345\u001B[0m     \u001B[38;5;28;01mtry\u001B[39;00m:\n",
       "\u001B[0;32m--> 346\u001B[0m         \u001B[38;5;28;01mreturn\u001B[39;00m \u001B[43mf\u001B[49m\u001B[43m(\u001B[49m\u001B[38;5;241;43m*\u001B[39;49m\u001B[43margs\u001B[49m\u001B[43m,\u001B[49m\u001B[43m \u001B[49m\u001B[38;5;241;43m*\u001B[39;49m\u001B[38;5;241;43m*\u001B[39;49m\u001B[43mkwargs\u001B[49m\u001B[43m)\u001B[49m\n",
       "\u001B[1;32m    347\u001B[0m     \u001B[38;5;28;01mexcept\u001B[39;00m Py4JJavaError \u001B[38;5;28;01mas\u001B[39;00m e:\n",
       "\u001B[1;32m    349\u001B[0m         \u001B[38;5;28;01mclass\u001B[39;00m \u001B[38;5;21;01mExecutionError\u001B[39;00m(\u001B[38;5;167;01mException\u001B[39;00m):\n",
       "\n",
       "File \u001B[0;32m/databricks/python_shell/dbruntime/dbutils.py:401\u001B[0m, in \u001B[0;36mDBUtils.FSHandler.mv\u001B[0;34m(self, source, dest, recurse)\u001B[0m\n",
       "\u001B[1;32m    399\u001B[0m     \u001B[38;5;28;01mreturn\u001B[39;00m \u001B[38;5;28mself\u001B[39m\u001B[38;5;241m.\u001B[39mprint_return(\u001B[38;5;28mself\u001B[39m\u001B[38;5;241m.\u001B[39mfsutils_parallel\u001B[38;5;241m.\u001B[39mmvParallel(source, dest))\n",
       "\u001B[1;32m    400\u001B[0m \u001B[38;5;28;01melse\u001B[39;00m:\n",
       "\u001B[0;32m--> 401\u001B[0m     \u001B[38;5;28;01mreturn\u001B[39;00m \u001B[38;5;28mself\u001B[39m\u001B[38;5;241m.\u001B[39mprint_return(\u001B[38;5;28;43mself\u001B[39;49m\u001B[38;5;241;43m.\u001B[39;49m\u001B[43mfsutils\u001B[49m\u001B[38;5;241;43m.\u001B[39;49m\u001B[43mmv\u001B[49m\u001B[43m(\u001B[49m\u001B[43msource\u001B[49m\u001B[43m,\u001B[49m\u001B[43m \u001B[49m\u001B[43mdest\u001B[49m\u001B[43m,\u001B[49m\u001B[43m \u001B[49m\u001B[43mrecurse\u001B[49m\u001B[43m)\u001B[49m)\n",
       "\n",
       "File \u001B[0;32m/databricks/spark/python/lib/py4j-0.10.9.5-src.zip/py4j/java_gateway.py:1321\u001B[0m, in \u001B[0;36mJavaMember.__call__\u001B[0;34m(self, *args)\u001B[0m\n",
       "\u001B[1;32m   1315\u001B[0m command \u001B[38;5;241m=\u001B[39m proto\u001B[38;5;241m.\u001B[39mCALL_COMMAND_NAME \u001B[38;5;241m+\u001B[39m\\\n",
       "\u001B[1;32m   1316\u001B[0m     \u001B[38;5;28mself\u001B[39m\u001B[38;5;241m.\u001B[39mcommand_header \u001B[38;5;241m+\u001B[39m\\\n",
       "\u001B[1;32m   1317\u001B[0m     args_command \u001B[38;5;241m+\u001B[39m\\\n",
       "\u001B[1;32m   1318\u001B[0m     proto\u001B[38;5;241m.\u001B[39mEND_COMMAND_PART\n",
       "\u001B[1;32m   1320\u001B[0m answer \u001B[38;5;241m=\u001B[39m \u001B[38;5;28mself\u001B[39m\u001B[38;5;241m.\u001B[39mgateway_client\u001B[38;5;241m.\u001B[39msend_command(command)\n",
       "\u001B[0;32m-> 1321\u001B[0m return_value \u001B[38;5;241m=\u001B[39m \u001B[43mget_return_value\u001B[49m\u001B[43m(\u001B[49m\n",
       "\u001B[1;32m   1322\u001B[0m \u001B[43m    \u001B[49m\u001B[43manswer\u001B[49m\u001B[43m,\u001B[49m\u001B[43m \u001B[49m\u001B[38;5;28;43mself\u001B[39;49m\u001B[38;5;241;43m.\u001B[39;49m\u001B[43mgateway_client\u001B[49m\u001B[43m,\u001B[49m\u001B[43m \u001B[49m\u001B[38;5;28;43mself\u001B[39;49m\u001B[38;5;241;43m.\u001B[39;49m\u001B[43mtarget_id\u001B[49m\u001B[43m,\u001B[49m\u001B[43m \u001B[49m\u001B[38;5;28;43mself\u001B[39;49m\u001B[38;5;241;43m.\u001B[39;49m\u001B[43mname\u001B[49m\u001B[43m)\u001B[49m\n",
       "\u001B[1;32m   1324\u001B[0m \u001B[38;5;28;01mfor\u001B[39;00m temp_arg \u001B[38;5;129;01min\u001B[39;00m temp_args:\n",
       "\u001B[1;32m   1325\u001B[0m     temp_arg\u001B[38;5;241m.\u001B[39m_detach()\n",
       "\n",
       "File \u001B[0;32m/databricks/spark/python/pyspark/errors/exceptions.py:234\u001B[0m, in \u001B[0;36mcapture_sql_exception.<locals>.deco\u001B[0;34m(*a, **kw)\u001B[0m\n",
       "\u001B[1;32m    230\u001B[0m converted \u001B[38;5;241m=\u001B[39m convert_exception(e\u001B[38;5;241m.\u001B[39mjava_exception)\n",
       "\u001B[1;32m    231\u001B[0m \u001B[38;5;28;01mif\u001B[39;00m \u001B[38;5;129;01mnot\u001B[39;00m \u001B[38;5;28misinstance\u001B[39m(converted, UnknownException):\n",
       "\u001B[1;32m    232\u001B[0m     \u001B[38;5;66;03m# Hide where the exception came from that shows a non-Pythonic\u001B[39;00m\n",
       "\u001B[1;32m    233\u001B[0m     \u001B[38;5;66;03m# JVM exception message.\u001B[39;00m\n",
       "\u001B[0;32m--> 234\u001B[0m     \u001B[38;5;28;01mraise\u001B[39;00m converted \u001B[38;5;28;01mfrom\u001B[39;00m \u001B[38;5;28mNone\u001B[39m\n",
       "\u001B[1;32m    235\u001B[0m \u001B[38;5;28;01melse\u001B[39;00m:\n",
       "\u001B[1;32m    236\u001B[0m     \u001B[38;5;28;01mraise\u001B[39;00m\n",
       "\n",
       "\u001B[0;31mIllegalArgumentException\u001B[0m: Cannot move directory unless recurse is set to true"
      ]
     },
     "metadata": {
      "application/vnd.databricks.v1+output": {
       "arguments": {},
       "data": "\u001B[0;31m---------------------------------------------------------------------------\u001B[0m\n\u001B[0;31mIllegalArgumentException\u001B[0m                  Traceback (most recent call last)\nFile \u001B[0;32m<command-196099402404320>:2\u001B[0m\n\u001B[1;32m      1\u001B[0m \u001B[38;5;66;03m# utilizando mv para mover os dados de uma pasta para outra\u001B[39;00m\n\u001B[0;32m----> 2\u001B[0m \u001B[43mdbutils\u001B[49m\u001B[38;5;241;43m.\u001B[39;49m\u001B[43mfs\u001B[49m\u001B[38;5;241;43m.\u001B[39;49m\u001B[43mmv\u001B[49m\u001B[43m(\u001B[49m\n\u001B[1;32m      3\u001B[0m \u001B[43m    \u001B[49m\u001B[38;5;124;43m'\u001B[39;49m\u001B[38;5;124;43m/FileStore/tables/aula-databricks/\u001B[39;49m\u001B[38;5;124;43m'\u001B[39;49m\u001B[43m,\u001B[49m\u001B[43m \u001B[49m\n\u001B[1;32m      4\u001B[0m \u001B[43m    \u001B[49m\u001B[38;5;124;43m'\u001B[39;49m\u001B[38;5;124;43m/FileStore/tables/aula-databricks/vinhos/\u001B[39;49m\u001B[38;5;124;43m'\u001B[39;49m\u001B[43m,\u001B[49m\u001B[43m \u001B[49m\n\u001B[1;32m      5\u001B[0m \u001B[43m    \u001B[49m\n\u001B[1;32m      6\u001B[0m \u001B[43m)\u001B[49m\n\nFile \u001B[0;32m/databricks/python_shell/dbruntime/dbutils.py:346\u001B[0m, in \u001B[0;36mDBUtils.FSHandler.prettify_exception_message.<locals>.f_with_exception_handling\u001B[0;34m(*args, **kwargs)\u001B[0m\n\u001B[1;32m    344\u001B[0m \u001B[38;5;28;01mdef\u001B[39;00m \u001B[38;5;21mf_with_exception_handling\u001B[39m(\u001B[38;5;241m*\u001B[39margs, \u001B[38;5;241m*\u001B[39m\u001B[38;5;241m*\u001B[39mkwargs):\n\u001B[1;32m    345\u001B[0m     \u001B[38;5;28;01mtry\u001B[39;00m:\n\u001B[0;32m--> 346\u001B[0m         \u001B[38;5;28;01mreturn\u001B[39;00m \u001B[43mf\u001B[49m\u001B[43m(\u001B[49m\u001B[38;5;241;43m*\u001B[39;49m\u001B[43margs\u001B[49m\u001B[43m,\u001B[49m\u001B[43m \u001B[49m\u001B[38;5;241;43m*\u001B[39;49m\u001B[38;5;241;43m*\u001B[39;49m\u001B[43mkwargs\u001B[49m\u001B[43m)\u001B[49m\n\u001B[1;32m    347\u001B[0m     \u001B[38;5;28;01mexcept\u001B[39;00m Py4JJavaError \u001B[38;5;28;01mas\u001B[39;00m e:\n\u001B[1;32m    349\u001B[0m         \u001B[38;5;28;01mclass\u001B[39;00m \u001B[38;5;21;01mExecutionError\u001B[39;00m(\u001B[38;5;167;01mException\u001B[39;00m):\n\nFile \u001B[0;32m/databricks/python_shell/dbruntime/dbutils.py:401\u001B[0m, in \u001B[0;36mDBUtils.FSHandler.mv\u001B[0;34m(self, source, dest, recurse)\u001B[0m\n\u001B[1;32m    399\u001B[0m     \u001B[38;5;28;01mreturn\u001B[39;00m \u001B[38;5;28mself\u001B[39m\u001B[38;5;241m.\u001B[39mprint_return(\u001B[38;5;28mself\u001B[39m\u001B[38;5;241m.\u001B[39mfsutils_parallel\u001B[38;5;241m.\u001B[39mmvParallel(source, dest))\n\u001B[1;32m    400\u001B[0m \u001B[38;5;28;01melse\u001B[39;00m:\n\u001B[0;32m--> 401\u001B[0m     \u001B[38;5;28;01mreturn\u001B[39;00m \u001B[38;5;28mself\u001B[39m\u001B[38;5;241m.\u001B[39mprint_return(\u001B[38;5;28;43mself\u001B[39;49m\u001B[38;5;241;43m.\u001B[39;49m\u001B[43mfsutils\u001B[49m\u001B[38;5;241;43m.\u001B[39;49m\u001B[43mmv\u001B[49m\u001B[43m(\u001B[49m\u001B[43msource\u001B[49m\u001B[43m,\u001B[49m\u001B[43m \u001B[49m\u001B[43mdest\u001B[49m\u001B[43m,\u001B[49m\u001B[43m \u001B[49m\u001B[43mrecurse\u001B[49m\u001B[43m)\u001B[49m)\n\nFile \u001B[0;32m/databricks/spark/python/lib/py4j-0.10.9.5-src.zip/py4j/java_gateway.py:1321\u001B[0m, in \u001B[0;36mJavaMember.__call__\u001B[0;34m(self, *args)\u001B[0m\n\u001B[1;32m   1315\u001B[0m command \u001B[38;5;241m=\u001B[39m proto\u001B[38;5;241m.\u001B[39mCALL_COMMAND_NAME \u001B[38;5;241m+\u001B[39m\\\n\u001B[1;32m   1316\u001B[0m     \u001B[38;5;28mself\u001B[39m\u001B[38;5;241m.\u001B[39mcommand_header \u001B[38;5;241m+\u001B[39m\\\n\u001B[1;32m   1317\u001B[0m     args_command \u001B[38;5;241m+\u001B[39m\\\n\u001B[1;32m   1318\u001B[0m     proto\u001B[38;5;241m.\u001B[39mEND_COMMAND_PART\n\u001B[1;32m   1320\u001B[0m answer \u001B[38;5;241m=\u001B[39m \u001B[38;5;28mself\u001B[39m\u001B[38;5;241m.\u001B[39mgateway_client\u001B[38;5;241m.\u001B[39msend_command(command)\n\u001B[0;32m-> 1321\u001B[0m return_value \u001B[38;5;241m=\u001B[39m \u001B[43mget_return_value\u001B[49m\u001B[43m(\u001B[49m\n\u001B[1;32m   1322\u001B[0m \u001B[43m    \u001B[49m\u001B[43manswer\u001B[49m\u001B[43m,\u001B[49m\u001B[43m \u001B[49m\u001B[38;5;28;43mself\u001B[39;49m\u001B[38;5;241;43m.\u001B[39;49m\u001B[43mgateway_client\u001B[49m\u001B[43m,\u001B[49m\u001B[43m \u001B[49m\u001B[38;5;28;43mself\u001B[39;49m\u001B[38;5;241;43m.\u001B[39;49m\u001B[43mtarget_id\u001B[49m\u001B[43m,\u001B[49m\u001B[43m \u001B[49m\u001B[38;5;28;43mself\u001B[39;49m\u001B[38;5;241;43m.\u001B[39;49m\u001B[43mname\u001B[49m\u001B[43m)\u001B[49m\n\u001B[1;32m   1324\u001B[0m \u001B[38;5;28;01mfor\u001B[39;00m temp_arg \u001B[38;5;129;01min\u001B[39;00m temp_args:\n\u001B[1;32m   1325\u001B[0m     temp_arg\u001B[38;5;241m.\u001B[39m_detach()\n\nFile \u001B[0;32m/databricks/spark/python/pyspark/errors/exceptions.py:234\u001B[0m, in \u001B[0;36mcapture_sql_exception.<locals>.deco\u001B[0;34m(*a, **kw)\u001B[0m\n\u001B[1;32m    230\u001B[0m converted \u001B[38;5;241m=\u001B[39m convert_exception(e\u001B[38;5;241m.\u001B[39mjava_exception)\n\u001B[1;32m    231\u001B[0m \u001B[38;5;28;01mif\u001B[39;00m \u001B[38;5;129;01mnot\u001B[39;00m \u001B[38;5;28misinstance\u001B[39m(converted, UnknownException):\n\u001B[1;32m    232\u001B[0m     \u001B[38;5;66;03m# Hide where the exception came from that shows a non-Pythonic\u001B[39;00m\n\u001B[1;32m    233\u001B[0m     \u001B[38;5;66;03m# JVM exception message.\u001B[39;00m\n\u001B[0;32m--> 234\u001B[0m     \u001B[38;5;28;01mraise\u001B[39;00m converted \u001B[38;5;28;01mfrom\u001B[39;00m \u001B[38;5;28mNone\u001B[39m\n\u001B[1;32m    235\u001B[0m \u001B[38;5;28;01melse\u001B[39;00m:\n\u001B[1;32m    236\u001B[0m     \u001B[38;5;28;01mraise\u001B[39;00m\n\n\u001B[0;31mIllegalArgumentException\u001B[0m: Cannot move directory unless recurse is set to true",
       "errorSummary": "<span class='ansi-red-fg'>IllegalArgumentException</span>: Cannot move directory unless recurse is set to true",
       "errorTraceType": "ansi",
       "metadata": {},
       "type": "ipynbError"
      }
     },
     "output_type": "display_data"
    }
   ],
   "source": [
    "# utilizando mv para mover os dados de uma pasta para outra\n",
    "dbutils.fs.mv(\n",
    "    '/FileStore/tables/aula-databricks/', \n",
    "    '/FileStore/tables/aula-databricks/vinhos/', \n",
    "    \n",
    ")\n",
    "\n"
   ]
  },
  {
   "cell_type": "code",
   "execution_count": 0,
   "metadata": {
    "application/vnd.databricks.v1+cell": {
     "cellMetadata": {
      "byteLimit": 2048000,
      "rowLimit": 10000
     },
     "inputWidgets": {},
     "nuid": "7a094766-dc25-4e9e-a6b0-6dfbc186c92a",
     "showTitle": false,
     "title": ""
    }
   },
   "outputs": [
    {
     "output_type": "display_data",
     "data": {
      "text/html": [
       "<style scoped>\n",
       "  .table-result-container {\n",
       "    max-height: 300px;\n",
       "    overflow: auto;\n",
       "  }\n",
       "  table, th, td {\n",
       "    border: 1px solid black;\n",
       "    border-collapse: collapse;\n",
       "  }\n",
       "  th, td {\n",
       "    padding: 5px;\n",
       "  }\n",
       "  th {\n",
       "    text-align: left;\n",
       "  }\n",
       "</style><div class='table-result-container'><table class='table-result'><thead style='background-color: white'><tr><th>path</th><th>name</th><th>size</th><th>modificationTime</th></tr></thead><tbody><tr><td>dbfs:/FileStore/tables/aula-databricks/README.md</td><td>README.md</td><td>1066</td><td>1698371616000</td></tr><tr><td>dbfs:/FileStore/tables/aula-databricks/projetoBike/</td><td>projetoBike/</td><td>0</td><td>0</td></tr><tr><td>dbfs:/FileStore/tables/aula-databricks/vinhos/</td><td>vinhos/</td><td>0</td><td>0</td></tr><tr><td>dbfs:/FileStore/tables/aula-databricks/winequality-red.csv</td><td>winequality-red.csv</td><td>84199</td><td>1698371617000</td></tr><tr><td>dbfs:/FileStore/tables/aula-databricks/winequality-white.csv</td><td>winequality-white.csv</td><td>264426</td><td>1698371617000</td></tr></tbody></table></div>"
      ]
     },
     "metadata": {
      "application/vnd.databricks.v1+output": {
       "addedWidgets": {},
       "aggData": [],
       "aggError": "",
       "aggOverflow": false,
       "aggSchema": [],
       "aggSeriesLimitReached": false,
       "aggType": "",
       "arguments": {},
       "columnCustomDisplayInfos": {},
       "data": [
        [
         "dbfs:/FileStore/tables/aula-databricks/README.md",
         "README.md",
         1066,
         1698371616000
        ],
        [
         "dbfs:/FileStore/tables/aula-databricks/projetoBike/",
         "projetoBike/",
         0,
         0
        ],
        [
         "dbfs:/FileStore/tables/aula-databricks/vinhos/",
         "vinhos/",
         0,
         0
        ],
        [
         "dbfs:/FileStore/tables/aula-databricks/winequality-red.csv",
         "winequality-red.csv",
         84199,
         1698371617000
        ],
        [
         "dbfs:/FileStore/tables/aula-databricks/winequality-white.csv",
         "winequality-white.csv",
         264426,
         1698371617000
        ]
       ],
       "datasetInfos": [],
       "dbfsResultPath": null,
       "isJsonSchema": true,
       "metadata": {},
       "overflow": false,
       "plotOptions": {
        "customPlotOptions": {},
        "displayType": "table",
        "pivotAggregation": null,
        "pivotColumns": null,
        "xColumns": null,
        "yColumns": null
       },
       "removedWidgets": [],
       "schema": [
        {
         "metadata": "{}",
         "name": "path",
         "type": "\"string\""
        },
        {
         "metadata": "{}",
         "name": "name",
         "type": "\"string\""
        },
        {
         "metadata": "{}",
         "name": "size",
         "type": "\"long\""
        },
        {
         "metadata": "{}",
         "name": "modificationTime",
         "type": "\"long\""
        }
       ],
       "type": "table"
      }
     },
     "output_type": "display_data"
    }
   ],
   "source": [
    "#lista o que há na pasta\n",
    "display(dbutils.fs.ls('/FileStore/tables/aula-databricks'))\n"
   ]
  },
  {
   "cell_type": "code",
   "execution_count": 0,
   "metadata": {
    "application/vnd.databricks.v1+cell": {
     "cellMetadata": {
      "byteLimit": 2048000,
      "rowLimit": 10000
     },
     "inputWidgets": {},
     "nuid": "0c9f8c28-ff9a-4a13-ab17-8e60216b6d98",
     "showTitle": false,
     "title": ""
    }
   },
   "outputs": [],
   "source": [
    "#f antes da string serve para inserir variáveis na string, no caso item.name\n",
    "#vai trazer os arquivos com tamanho diferente de 0, para não copiar a própria pasta\n",
    "for item in dbutils.fs.ls('/FileStore/tables/aula-databricks'):\n",
    "    if item.size!=0:\n",
    "        dbutils.fs.mv(\n",
    "          f'/FileStore/tables/aula-databricks/{item.name}', \n",
    "          '/FileStore/tables/aula-databricks/vinhos/'\n",
    "        )\n"
   ]
  },
  {
   "cell_type": "code",
   "execution_count": 0,
   "metadata": {
    "application/vnd.databricks.v1+cell": {
     "cellMetadata": {
      "byteLimit": 2048000,
      "rowLimit": 10000
     },
     "inputWidgets": {},
     "nuid": "2ebe9907-9d76-4e44-985f-39043e134a32",
     "showTitle": false,
     "title": ""
    }
   },
   "outputs": [
    {
     "output_type": "display_data",
     "data": {
      "text/html": [
       "<style scoped>\n",
       "  .table-result-container {\n",
       "    max-height: 300px;\n",
       "    overflow: auto;\n",
       "  }\n",
       "  table, th, td {\n",
       "    border: 1px solid black;\n",
       "    border-collapse: collapse;\n",
       "  }\n",
       "  th, td {\n",
       "    padding: 5px;\n",
       "  }\n",
       "  th {\n",
       "    text-align: left;\n",
       "  }\n",
       "</style><div class='table-result-container'><table class='table-result'><thead style='background-color: white'><tr><th>path</th><th>name</th><th>size</th><th>modificationTime</th></tr></thead><tbody><tr><td>dbfs:/FileStore/tables/aula-databricks/vinhos/README.md</td><td>README.md</td><td>1066</td><td>1698371631000</td></tr><tr><td>dbfs:/FileStore/tables/aula-databricks/vinhos/winequality-red.csv</td><td>winequality-red.csv</td><td>84199</td><td>1698371631000</td></tr><tr><td>dbfs:/FileStore/tables/aula-databricks/vinhos/winequality-white.csv</td><td>winequality-white.csv</td><td>264426</td><td>1698371632000</td></tr></tbody></table></div>"
      ]
     },
     "metadata": {
      "application/vnd.databricks.v1+output": {
       "addedWidgets": {},
       "aggData": [],
       "aggError": "",
       "aggOverflow": false,
       "aggSchema": [],
       "aggSeriesLimitReached": false,
       "aggType": "",
       "arguments": {},
       "columnCustomDisplayInfos": {},
       "data": [
        [
         "dbfs:/FileStore/tables/aula-databricks/vinhos/README.md",
         "README.md",
         1066,
         1698371631000
        ],
        [
         "dbfs:/FileStore/tables/aula-databricks/vinhos/winequality-red.csv",
         "winequality-red.csv",
         84199,
         1698371631000
        ],
        [
         "dbfs:/FileStore/tables/aula-databricks/vinhos/winequality-white.csv",
         "winequality-white.csv",
         264426,
         1698371632000
        ]
       ],
       "datasetInfos": [],
       "dbfsResultPath": null,
       "isJsonSchema": true,
       "metadata": {},
       "overflow": false,
       "plotOptions": {
        "customPlotOptions": {},
        "displayType": "table",
        "pivotAggregation": null,
        "pivotColumns": null,
        "xColumns": null,
        "yColumns": null
       },
       "removedWidgets": [],
       "schema": [
        {
         "metadata": "{}",
         "name": "path",
         "type": "\"string\""
        },
        {
         "metadata": "{}",
         "name": "name",
         "type": "\"string\""
        },
        {
         "metadata": "{}",
         "name": "size",
         "type": "\"long\""
        },
        {
         "metadata": "{}",
         "name": "modificationTime",
         "type": "\"long\""
        }
       ],
       "type": "table"
      }
     },
     "output_type": "display_data"
    }
   ],
   "source": [
    "#confirmando os arquivos copiados\n",
    "display(dbutils.fs.ls('/FileStore/tables/aula-databricks/vinhos'))\n"
   ]
  },
  {
   "cell_type": "code",
   "execution_count": 0,
   "metadata": {
    "application/vnd.databricks.v1+cell": {
     "cellMetadata": {
      "byteLimit": 2048000,
      "rowLimit": 10000
     },
     "inputWidgets": {},
     "nuid": "beefb63c-d918-47be-9106-84142db2ff62",
     "showTitle": false,
     "title": ""
    }
   },
   "outputs": [
    {
     "output_type": "stream",
     "name": "stdout",
     "output_type": "stream",
     "text": [
      "Out[78]: True"
     ]
    }
   ],
   "source": [
    "#Copiando dados públicos do databricks sobre compartilhamento de bicicletas\n",
    "dbutils.fs.cp('/databricks-datasets/bikeSharing/', '/FileStore', recurse = True)\n"
   ]
  },
  {
   "cell_type": "code",
   "execution_count": 0,
   "metadata": {
    "application/vnd.databricks.v1+cell": {
     "cellMetadata": {
      "byteLimit": 2048000,
      "rowLimit": 10000
     },
     "inputWidgets": {},
     "nuid": "8c2fe318-6115-4f8c-affa-00e5c0647979",
     "showTitle": false,
     "title": ""
    }
   },
   "outputs": [
    {
     "output_type": "display_data",
     "data": {
      "text/html": [
       "<style scoped>\n",
       "  .table-result-container {\n",
       "    max-height: 300px;\n",
       "    overflow: auto;\n",
       "  }\n",
       "  table, th, td {\n",
       "    border: 1px solid black;\n",
       "    border-collapse: collapse;\n",
       "  }\n",
       "  th, td {\n",
       "    padding: 5px;\n",
       "  }\n",
       "  th {\n",
       "    text-align: left;\n",
       "  }\n",
       "</style><div class='table-result-container'><table class='table-result'><thead style='background-color: white'><tr><th>path</th><th>name</th><th>size</th><th>modificationTime</th></tr></thead><tbody><tr><td>dbfs:/databricks-datasets/bikeSharing/README.md</td><td>README.md</td><td>5016</td><td>1454554606000</td></tr><tr><td>dbfs:/databricks-datasets/bikeSharing/data-001/</td><td>data-001/</td><td>0</td><td>0</td></tr></tbody></table></div>"
      ]
     },
     "metadata": {
      "application/vnd.databricks.v1+output": {
       "addedWidgets": {},
       "aggData": [],
       "aggError": "",
       "aggOverflow": false,
       "aggSchema": [],
       "aggSeriesLimitReached": false,
       "aggType": "",
       "arguments": {},
       "columnCustomDisplayInfos": {},
       "data": [
        [
         "dbfs:/databricks-datasets/bikeSharing/README.md",
         "README.md",
         5016,
         1454554606000
        ],
        [
         "dbfs:/databricks-datasets/bikeSharing/data-001/",
         "data-001/",
         0,
         0
        ]
       ],
       "datasetInfos": [],
       "dbfsResultPath": null,
       "isJsonSchema": true,
       "metadata": {},
       "overflow": false,
       "plotOptions": {
        "customPlotOptions": {},
        "displayType": "table",
        "pivotAggregation": null,
        "pivotColumns": null,
        "xColumns": null,
        "yColumns": null
       },
       "removedWidgets": [],
       "schema": [
        {
         "metadata": "{}",
         "name": "path",
         "type": "\"string\""
        },
        {
         "metadata": "{}",
         "name": "name",
         "type": "\"string\""
        },
        {
         "metadata": "{}",
         "name": "size",
         "type": "\"long\""
        },
        {
         "metadata": "{}",
         "name": "modificationTime",
         "type": "\"long\""
        }
       ],
       "type": "table"
      }
     },
     "output_type": "display_data"
    }
   ],
   "source": [
    "display(dbutils.fs.ls('/databricks-datasets/bikeSharing/'))\n"
   ]
  },
  {
   "cell_type": "code",
   "execution_count": 0,
   "metadata": {
    "application/vnd.databricks.v1+cell": {
     "cellMetadata": {
      "byteLimit": 2048000,
      "rowLimit": 10000
     },
     "inputWidgets": {},
     "nuid": "6499389a-91ad-4337-a14d-bfc38ec96555",
     "showTitle": false,
     "title": ""
    }
   },
   "outputs": [],
   "source": [
    "#evitando copiar a própria pasta\n",
    "for item in dbutils.fs.ls('/FileStore'):\n",
    "    if item.size!=0:\n",
    "        dbutils.fs.mv(\n",
    "            f'/FileStore/{item.name}', \n",
    "            '/FileStore/tables/aula-databricks/projetoBike'\n",
    "        )\n",
    "    "
   ]
  },
  {
   "cell_type": "code",
   "execution_count": 0,
   "metadata": {
    "application/vnd.databricks.v1+cell": {
     "cellMetadata": {
      "byteLimit": 2048000,
      "rowLimit": 10000
     },
     "inputWidgets": {},
     "nuid": "c7cd3168-5eac-4cee-8045-0d89c079af20",
     "showTitle": false,
     "title": ""
    }
   },
   "outputs": [
    {
     "output_type": "display_data",
     "data": {
      "text/html": [
       "<style scoped>\n",
       "  .table-result-container {\n",
       "    max-height: 300px;\n",
       "    overflow: auto;\n",
       "  }\n",
       "  table, th, td {\n",
       "    border: 1px solid black;\n",
       "    border-collapse: collapse;\n",
       "  }\n",
       "  th, td {\n",
       "    padding: 5px;\n",
       "  }\n",
       "  th {\n",
       "    text-align: left;\n",
       "  }\n",
       "</style><div class='table-result-container'><table class='table-result'><thead style='background-color: white'><tr><th>path</th><th>name</th><th>size</th><th>modificationTime</th></tr></thead><tbody><tr><td>dbfs:/FileStore/tables/aula-databricks/projetoBike</td><td>projetoBike</td><td>5016</td><td>1698371636000</td></tr></tbody></table></div>"
      ]
     },
     "metadata": {
      "application/vnd.databricks.v1+output": {
       "addedWidgets": {},
       "aggData": [],
       "aggError": "",
       "aggOverflow": false,
       "aggSchema": [],
       "aggSeriesLimitReached": false,
       "aggType": "",
       "arguments": {},
       "columnCustomDisplayInfos": {},
       "data": [
        [
         "dbfs:/FileStore/tables/aula-databricks/projetoBike",
         "projetoBike",
         5016,
         1698371636000
        ]
       ],
       "datasetInfos": [],
       "dbfsResultPath": null,
       "isJsonSchema": true,
       "metadata": {},
       "overflow": false,
       "plotOptions": {
        "customPlotOptions": {},
        "displayType": "table",
        "pivotAggregation": null,
        "pivotColumns": null,
        "xColumns": null,
        "yColumns": null
       },
       "removedWidgets": [],
       "schema": [
        {
         "metadata": "{}",
         "name": "path",
         "type": "\"string\""
        },
        {
         "metadata": "{}",
         "name": "name",
         "type": "\"string\""
        },
        {
         "metadata": "{}",
         "name": "size",
         "type": "\"long\""
        },
        {
         "metadata": "{}",
         "name": "modificationTime",
         "type": "\"long\""
        }
       ],
       "type": "table"
      }
     },
     "output_type": "display_data"
    }
   ],
   "source": [
    "#confirmando a cópia\n",
    "display(dbutils.fs.ls('/FileStore/tables/aula-databricks/projetoBike'))\n"
   ]
  },
  {
   "cell_type": "markdown",
   "metadata": {
    "application/vnd.databricks.v1+cell": {
     "cellMetadata": {
      "byteLimit": 2048000,
      "rowLimit": 10000
     },
     "inputWidgets": {},
     "nuid": "f5a60a45-e789-4447-ace2-53494a77bd95",
     "showTitle": false,
     "title": ""
    }
   },
   "source": [
    "#Aula 3 - Criando tabelas com Hive e SQL\n"
   ]
  },
  {
   "cell_type": "code",
   "execution_count": 0,
   "metadata": {
    "application/vnd.databricks.v1+cell": {
     "cellMetadata": {
      "byteLimit": 2048000,
      "implicitDf": true,
      "rowLimit": 10000
     },
     "inputWidgets": {},
     "nuid": "00ceb952-0a2a-4376-a932-a31ad737c4fe",
     "showTitle": false,
     "title": ""
    }
   },
   "outputs": [
    {
     "output_type": "display_data",
     "data": {
      "text/html": [
       "<style scoped>\n",
       "  .table-result-container {\n",
       "    max-height: 300px;\n",
       "    overflow: auto;\n",
       "  }\n",
       "  table, th, td {\n",
       "    border: 1px solid black;\n",
       "    border-collapse: collapse;\n",
       "  }\n",
       "  th, td {\n",
       "    padding: 5px;\n",
       "  }\n",
       "  th {\n",
       "    text-align: left;\n",
       "  }\n",
       "</style><div class='table-result-container'><table class='table-result'><thead style='background-color: white'><tr></tr></thead><tbody></tbody></table></div>"
      ]
     },
     "metadata": {
      "application/vnd.databricks.v1+output": {
       "addedWidgets": {},
       "aggData": [],
       "aggError": "",
       "aggOverflow": false,
       "aggSchema": [],
       "aggSeriesLimitReached": false,
       "aggType": "",
       "arguments": {},
       "columnCustomDisplayInfos": {},
       "data": [],
       "datasetInfos": [],
       "dbfsResultPath": null,
       "isJsonSchema": true,
       "metadata": {},
       "overflow": false,
       "plotOptions": {
        "customPlotOptions": {},
        "displayType": "table",
        "pivotAggregation": null,
        "pivotColumns": null,
        "xColumns": null,
        "yColumns": null
       },
       "removedWidgets": [],
       "schema": [],
       "type": "table"
      }
     },
     "output_type": "display_data"
    }
   ],
   "source": [
    "%sql\n",
    "--criando uma tabela chamada \"teste\" com uma condição IF NOT EXIST para evitar duplicar tabela ou dar erro\n",
    "\n",
    "CREATE DATABASE IF NOT EXISTS teste\n"
   ]
  },
  {
   "cell_type": "code",
   "execution_count": 0,
   "metadata": {
    "application/vnd.databricks.v1+cell": {
     "cellMetadata": {
      "byteLimit": 2048000,
      "implicitDf": true,
      "rowLimit": 10000
     },
     "inputWidgets": {},
     "nuid": "cfbbae11-a001-4edd-bd58-8aa294e96182",
     "showTitle": false,
     "title": ""
    }
   },
   "outputs": [
    {
     "output_type": "display_data",
     "data": {
      "text/html": [
       "<style scoped>\n",
       "  .table-result-container {\n",
       "    max-height: 300px;\n",
       "    overflow: auto;\n",
       "  }\n",
       "  table, th, td {\n",
       "    border: 1px solid black;\n",
       "    border-collapse: collapse;\n",
       "  }\n",
       "  th, td {\n",
       "    padding: 5px;\n",
       "  }\n",
       "  th {\n",
       "    text-align: left;\n",
       "  }\n",
       "</style><div class='table-result-container'><table class='table-result'><thead style='background-color: white'><tr><th>databaseName</th></tr></thead><tbody><tr><td>default</td></tr><tr><td>teste</td></tr></tbody></table></div>"
      ]
     },
     "metadata": {
      "application/vnd.databricks.v1+output": {
       "addedWidgets": {},
       "aggData": [],
       "aggError": "",
       "aggOverflow": false,
       "aggSchema": [],
       "aggSeriesLimitReached": false,
       "aggType": "",
       "arguments": {},
       "columnCustomDisplayInfos": {},
       "data": [
        [
         "default"
        ],
        [
         "teste"
        ]
       ],
       "datasetInfos": [],
       "dbfsResultPath": null,
       "isJsonSchema": true,
       "metadata": {},
       "overflow": false,
       "plotOptions": {
        "customPlotOptions": {},
        "displayType": "table",
        "pivotAggregation": null,
        "pivotColumns": null,
        "xColumns": null,
        "yColumns": null
       },
       "removedWidgets": [],
       "schema": [
        {
         "metadata": "{}",
         "name": "databaseName",
         "type": "\"string\""
        }
       ],
       "type": "table"
      }
     },
     "output_type": "display_data"
    }
   ],
   "source": [
    "%sql\n",
    "--visualizando as tabelas existentes\n",
    "SHOW DATABASES\n",
    "\n"
   ]
  },
  {
   "cell_type": "code",
   "execution_count": 0,
   "metadata": {
    "application/vnd.databricks.v1+cell": {
     "cellMetadata": {
      "byteLimit": 2048000,
      "implicitDf": true,
      "rowLimit": 10000
     },
     "inputWidgets": {},
     "nuid": "00ebeb90-6c58-42a5-aa7e-950eba7ce39a",
     "showTitle": false,
     "title": ""
    }
   },
   "outputs": [
    {
     "output_type": "display_data",
     "data": {
      "text/html": [
       "<style scoped>\n",
       "  .table-result-container {\n",
       "    max-height: 300px;\n",
       "    overflow: auto;\n",
       "  }\n",
       "  table, th, td {\n",
       "    border: 1px solid black;\n",
       "    border-collapse: collapse;\n",
       "  }\n",
       "  th, td {\n",
       "    padding: 5px;\n",
       "  }\n",
       "  th {\n",
       "    text-align: left;\n",
       "  }\n",
       "</style><div class='table-result-container'><table class='table-result'><thead style='background-color: white'><tr></tr></thead><tbody></tbody></table></div>"
      ]
     },
     "metadata": {
      "application/vnd.databricks.v1+output": {
       "addedWidgets": {},
       "aggData": [],
       "aggError": "",
       "aggOverflow": false,
       "aggSchema": [],
       "aggSeriesLimitReached": false,
       "aggType": "",
       "arguments": {},
       "columnCustomDisplayInfos": {},
       "data": [],
       "datasetInfos": [],
       "dbfsResultPath": null,
       "isJsonSchema": true,
       "metadata": {},
       "overflow": false,
       "plotOptions": {
        "customPlotOptions": {},
        "displayType": "table",
        "pivotAggregation": null,
        "pivotColumns": null,
        "xColumns": null,
        "yColumns": null
       },
       "removedWidgets": [],
       "schema": [],
       "type": "table"
      }
     },
     "output_type": "display_data"
    }
   ],
   "source": [
    "%sql\n",
    "--para confirmar que vamos utilizar o database criado\n",
    "USE teste\n"
   ]
  },
  {
   "cell_type": "code",
   "execution_count": 0,
   "metadata": {
    "application/vnd.databricks.v1+cell": {
     "cellMetadata": {
      "byteLimit": 2048000,
      "implicitDf": true,
      "rowLimit": 10000
     },
     "inputWidgets": {},
     "nuid": "a8daa2f3-ea64-41e5-a376-c7a44c534ecc",
     "showTitle": false,
     "title": ""
    }
   },
   "outputs": [
    {
     "output_type": "display_data",
     "data": {
      "text/html": [
       "<style scoped>\n",
       "  .table-result-container {\n",
       "    max-height: 300px;\n",
       "    overflow: auto;\n",
       "  }\n",
       "  table, th, td {\n",
       "    border: 1px solid black;\n",
       "    border-collapse: collapse;\n",
       "  }\n",
       "  th, td {\n",
       "    padding: 5px;\n",
       "  }\n",
       "  th {\n",
       "    text-align: left;\n",
       "  }\n",
       "</style><div class='table-result-container'><table class='table-result'><thead style='background-color: white'><tr></tr></thead><tbody></tbody></table></div>"
      ]
     },
     "metadata": {
      "application/vnd.databricks.v1+output": {
       "addedWidgets": {},
       "aggData": [],
       "aggError": "",
       "aggOverflow": false,
       "aggSchema": [],
       "aggSeriesLimitReached": false,
       "aggType": "",
       "arguments": {},
       "columnCustomDisplayInfos": {},
       "data": [],
       "datasetInfos": [],
       "dbfsResultPath": null,
       "isJsonSchema": true,
       "metadata": {},
       "overflow": false,
       "plotOptions": {
        "customPlotOptions": {},
        "displayType": "table",
        "pivotAggregation": null,
        "pivotColumns": null,
        "xColumns": null,
        "yColumns": null
       },
       "removedWidgets": [],
       "schema": [],
       "type": "table"
      }
     },
     "output_type": "display_data"
    }
   ],
   "source": [
    "%sql\n",
    "CREATE TABLE usuarios(\n",
    "  idade int,\n",
    "  estado string,\n",
    "  salario float\n",
    ")\n",
    "  ROW FORMAT DELIMITED \n",
    "    FIELDS TERMINATED BY ','\n",
    "    LINES TERMINATED BY '\\n'\n",
    "  STORED AS textfile\n",
    "  LOCATION '/FileStore/tables/aula-databricks/usuarios/'\n"
   ]
  },
  {
   "cell_type": "code",
   "execution_count": 0,
   "metadata": {
    "application/vnd.databricks.v1+cell": {
     "cellMetadata": {
      "byteLimit": 2048000,
      "implicitDf": true,
      "rowLimit": 10000
     },
     "inputWidgets": {},
     "nuid": "86ed576b-86c1-4a01-b1ee-cbb88ca3c8bd",
     "showTitle": false,
     "title": ""
    }
   },
   "outputs": [
    {
     "output_type": "display_data",
     "data": {
      "text/html": [
       "<style scoped>\n",
       "  .table-result-container {\n",
       "    max-height: 300px;\n",
       "    overflow: auto;\n",
       "  }\n",
       "  table, th, td {\n",
       "    border: 1px solid black;\n",
       "    border-collapse: collapse;\n",
       "  }\n",
       "  th, td {\n",
       "    padding: 5px;\n",
       "  }\n",
       "  th {\n",
       "    text-align: left;\n",
       "  }\n",
       "</style><div class='table-result-container'><table class='table-result'><thead style='background-color: white'><tr><th>database</th><th>tableName</th><th>isTemporary</th></tr></thead><tbody><tr><td>teste</td><td>usuarios</td><td>false</td></tr></tbody></table></div>"
      ]
     },
     "metadata": {
      "application/vnd.databricks.v1+output": {
       "addedWidgets": {},
       "aggData": [],
       "aggError": "",
       "aggOverflow": false,
       "aggSchema": [],
       "aggSeriesLimitReached": false,
       "aggType": "",
       "arguments": {},
       "columnCustomDisplayInfos": {},
       "data": [
        [
         "teste",
         "usuarios",
         false
        ]
       ],
       "datasetInfos": [],
       "dbfsResultPath": null,
       "isJsonSchema": true,
       "metadata": {},
       "overflow": false,
       "plotOptions": {
        "customPlotOptions": {},
        "displayType": "table",
        "pivotAggregation": null,
        "pivotColumns": null,
        "xColumns": null,
        "yColumns": null
       },
       "removedWidgets": [],
       "schema": [
        {
         "metadata": "{}",
         "name": "database",
         "type": "\"string\""
        },
        {
         "metadata": "{}",
         "name": "tableName",
         "type": "\"string\""
        },
        {
         "metadata": "{}",
         "name": "isTemporary",
         "type": "\"boolean\""
        }
       ],
       "type": "table"
      }
     },
     "output_type": "display_data"
    }
   ],
   "source": [
    "%sql\n",
    "--visualizando as tabelas existentes no database\n",
    "SHOW TABLES\n"
   ]
  },
  {
   "cell_type": "code",
   "execution_count": 0,
   "metadata": {
    "application/vnd.databricks.v1+cell": {
     "cellMetadata": {
      "byteLimit": 2048000,
      "implicitDf": true,
      "rowLimit": 10000
     },
     "inputWidgets": {},
     "nuid": "0bcf1ed9-7e7f-4a2f-8187-f0552a85cba0",
     "showTitle": false,
     "title": ""
    }
   },
   "outputs": [
    {
     "output_type": "display_data",
     "data": {
      "text/html": [
       "<style scoped>\n",
       "  .table-result-container {\n",
       "    max-height: 300px;\n",
       "    overflow: auto;\n",
       "  }\n",
       "  table, th, td {\n",
       "    border: 1px solid black;\n",
       "    border-collapse: collapse;\n",
       "  }\n",
       "  th, td {\n",
       "    padding: 5px;\n",
       "  }\n",
       "  th {\n",
       "    text-align: left;\n",
       "  }\n",
       "</style><div class='table-result-container'><table class='table-result'><thead style='background-color: white'><tr></tr></thead><tbody></tbody></table></div>"
      ]
     },
     "metadata": {
      "application/vnd.databricks.v1+output": {
       "addedWidgets": {},
       "aggData": [],
       "aggError": "",
       "aggOverflow": false,
       "aggSchema": [],
       "aggSeriesLimitReached": false,
       "aggType": "",
       "arguments": {},
       "columnCustomDisplayInfos": {},
       "data": [],
       "datasetInfos": [],
       "dbfsResultPath": null,
       "isJsonSchema": true,
       "metadata": {},
       "overflow": false,
       "plotOptions": {
        "customPlotOptions": {},
        "displayType": "table",
        "pivotAggregation": null,
        "pivotColumns": null,
        "xColumns": null,
        "yColumns": null
       },
       "removedWidgets": [],
       "schema": [],
       "type": "table"
      }
     },
     "output_type": "display_data"
    }
   ],
   "source": [
    "%sql\n",
    "--inserindo dados na tabela\n",
    "INSERT INTO usuarios VALUES (25, 'SP', 5000)\n"
   ]
  },
  {
   "cell_type": "code",
   "execution_count": 0,
   "metadata": {
    "application/vnd.databricks.v1+cell": {
     "cellMetadata": {
      "byteLimit": 2048000,
      "implicitDf": true,
      "rowLimit": 10000
     },
     "inputWidgets": {},
     "nuid": "cee32747-47da-47ba-9f94-ee594eb9e6c5",
     "showTitle": false,
     "title": ""
    }
   },
   "outputs": [
    {
     "output_type": "display_data",
     "data": {
      "text/html": [
       "<style scoped>\n",
       "  .table-result-container {\n",
       "    max-height: 300px;\n",
       "    overflow: auto;\n",
       "  }\n",
       "  table, th, td {\n",
       "    border: 1px solid black;\n",
       "    border-collapse: collapse;\n",
       "  }\n",
       "  th, td {\n",
       "    padding: 5px;\n",
       "  }\n",
       "  th {\n",
       "    text-align: left;\n",
       "  }\n",
       "</style><div class='table-result-container'><table class='table-result'><thead style='background-color: white'><tr><th>idade</th><th>estado</th><th>salario</th></tr></thead><tbody><tr><td>25</td><td>SP</td><td>5000.0</td></tr></tbody></table></div>"
      ]
     },
     "metadata": {
      "application/vnd.databricks.v1+output": {
       "addedWidgets": {},
       "aggData": [],
       "aggError": "",
       "aggOverflow": false,
       "aggSchema": [],
       "aggSeriesLimitReached": false,
       "aggType": "",
       "arguments": {},
       "columnCustomDisplayInfos": {},
       "data": [
        [
         25,
         "SP",
         5000.0
        ]
       ],
       "datasetInfos": [],
       "dbfsResultPath": null,
       "isJsonSchema": true,
       "metadata": {},
       "overflow": false,
       "plotOptions": {
        "customPlotOptions": {},
        "displayType": "table",
        "pivotAggregation": null,
        "pivotColumns": null,
        "xColumns": null,
        "yColumns": null
       },
       "removedWidgets": [],
       "schema": [
        {
         "metadata": "{}",
         "name": "idade",
         "type": "\"integer\""
        },
        {
         "metadata": "{}",
         "name": "estado",
         "type": "\"string\""
        },
        {
         "metadata": "{}",
         "name": "salario",
         "type": "\"float\""
        }
       ],
       "type": "table"
      }
     },
     "output_type": "display_data"
    }
   ],
   "source": [
    "%sql\n",
    "--confirmando a inserção\n",
    "SELECT *\n",
    "  FROM usuarios\n"
   ]
  },
  {
   "cell_type": "markdown",
   "metadata": {
    "application/vnd.databricks.v1+cell": {
     "cellMetadata": {},
     "inputWidgets": {},
     "nuid": "cf968188-5678-4437-b017-1707ea19eb71",
     "showTitle": false,
     "title": ""
    }
   },
   "source": [
    "#Aula 4 - Trabalhando com Partições"
   ]
  },
  {
   "cell_type": "code",
   "execution_count": 0,
   "metadata": {
    "application/vnd.databricks.v1+cell": {
     "cellMetadata": {},
     "inputWidgets": {},
     "nuid": "e4bcd3b3-0153-436b-a36f-842aeab84247",
     "showTitle": false,
     "title": ""
    }
   },
   "outputs": [],
   "source": [
    "#Existem duas maneiras de inserir dados na tabela de partição:\n",
    "\n",
    "#Estático: precisamos especificar o valor da coluna de partição em cada instrução que será carregada.\n",
    "\n",
    "#PARTITION(country=\"BR\")\n",
    "\n",
    "#Dinâmico: não precisamos especificar o valor da coluna da partição.\n",
    "\n",
    "#PARTITION(country)"
   ]
  },
  {
   "cell_type": "code",
   "execution_count": 0,
   "metadata": {
    "application/vnd.databricks.v1+cell": {
     "cellMetadata": {
      "byteLimit": 2048000,
      "implicitDf": true,
      "rowLimit": 10000
     },
     "inputWidgets": {},
     "nuid": "01d6918e-08cc-4c44-97d2-09efbfdc4e99",
     "showTitle": false,
     "title": ""
    }
   },
   "outputs": [
    {
     "output_type": "display_data",
     "data": {
      "text/html": [
       "<style scoped>\n",
       "  .table-result-container {\n",
       "    max-height: 300px;\n",
       "    overflow: auto;\n",
       "  }\n",
       "  table, th, td {\n",
       "    border: 1px solid black;\n",
       "    border-collapse: collapse;\n",
       "  }\n",
       "  th, td {\n",
       "    padding: 5px;\n",
       "  }\n",
       "  th {\n",
       "    text-align: left;\n",
       "  }\n",
       "</style><div class='table-result-container'><table class='table-result'><thead style='background-color: white'><tr><th>key</th><th>value</th></tr></thead><tbody><tr><td>hive.exec.dynamic.partition.mode</td><td>nonstrict</td></tr></tbody></table></div>"
      ]
     },
     "metadata": {
      "application/vnd.databricks.v1+output": {
       "addedWidgets": {},
       "aggData": [],
       "aggError": "",
       "aggOverflow": false,
       "aggSchema": [],
       "aggSeriesLimitReached": false,
       "aggType": "",
       "arguments": {},
       "columnCustomDisplayInfos": {},
       "data": [
        [
         "hive.exec.dynamic.partition.mode",
         "nonstrict"
        ]
       ],
       "datasetInfos": [],
       "dbfsResultPath": null,
       "isJsonSchema": true,
       "metadata": {},
       "overflow": false,
       "plotOptions": {
        "customPlotOptions": {},
        "displayType": "table",
        "pivotAggregation": null,
        "pivotColumns": null,
        "xColumns": null,
        "yColumns": null
       },
       "removedWidgets": [],
       "schema": [
        {
         "metadata": "{}",
         "name": "key",
         "type": "\"string\""
        },
        {
         "metadata": "{}",
         "name": "value",
         "type": "\"string\""
        }
       ],
       "type": "table"
      }
     },
     "output_type": "display_data"
    }
   ],
   "source": [
    "%sql\n",
    "--Então, usando uma célula SQL, vamos fazer duas configurações. A primeira serve para setar/habilitar o uso das partições dinâmicas que, por padrão, vem como default. A segunda configuração nos permite criar partições baseadas em mais de uma coluna da nossa tabela.\n",
    "\n",
    "\n",
    "SET hive.exec.dynamic.partition = true;\n",
    "SET hive.exec.dynamic.partition.mode = nonstrict;\n"
   ]
  },
  {
   "cell_type": "code",
   "execution_count": 0,
   "metadata": {
    "application/vnd.databricks.v1+cell": {
     "cellMetadata": {
      "byteLimit": 2048000,
      "implicitDf": true,
      "rowLimit": 10000
     },
     "inputWidgets": {},
     "nuid": "540579c7-eeea-4424-b5bb-285776e3fb50",
     "showTitle": false,
     "title": ""
    }
   },
   "outputs": [
    {
     "output_type": "display_data",
     "data": {
      "text/html": [
       "<style scoped>\n",
       "  .table-result-container {\n",
       "    max-height: 300px;\n",
       "    overflow: auto;\n",
       "  }\n",
       "  table, th, td {\n",
       "    border: 1px solid black;\n",
       "    border-collapse: collapse;\n",
       "  }\n",
       "  th, td {\n",
       "    padding: 5px;\n",
       "  }\n",
       "  th {\n",
       "    text-align: left;\n",
       "  }\n",
       "</style><div class='table-result-container'><table class='table-result'><thead style='background-color: white'><tr></tr></thead><tbody></tbody></table></div>"
      ]
     },
     "metadata": {
      "application/vnd.databricks.v1+output": {
       "addedWidgets": {},
       "aggData": [],
       "aggError": "",
       "aggOverflow": false,
       "aggSchema": [],
       "aggSeriesLimitReached": false,
       "aggType": "",
       "arguments": {},
       "columnCustomDisplayInfos": {},
       "data": [],
       "datasetInfos": [],
       "dbfsResultPath": null,
       "isJsonSchema": true,
       "metadata": {},
       "overflow": false,
       "plotOptions": {
        "customPlotOptions": {},
        "displayType": "table",
        "pivotAggregation": null,
        "pivotColumns": null,
        "xColumns": null,
        "yColumns": null
       },
       "removedWidgets": [],
       "schema": [],
       "type": "table"
      }
     },
     "output_type": "display_data"
    }
   ],
   "source": [
    "\n",
    "%sql\n",
    "--Criando a tabela particionada por ano\n",
    "CREATE TABLE usuariosPart(\n",
    "  idade int,\n",
    "  estado string,\n",
    "  salario float\n",
    ")\n",
    "  ROW FORMAT DELIMITED \n",
    "    FIELDS TERMINATED BY ','\n",
    "    LINES TERMINATED BY '\\n'\n",
    "  STORED AS textfile\n",
    "  PARTITIONED BY (ano int)\n",
    "  LOCATION '/FileStore/tables/aula-databricks/usuariosPart/'\n"
   ]
  },
  {
   "cell_type": "code",
   "execution_count": 0,
   "metadata": {
    "application/vnd.databricks.v1+cell": {
     "cellMetadata": {
      "byteLimit": 2048000,
      "implicitDf": true,
      "rowLimit": 10000
     },
     "inputWidgets": {},
     "nuid": "6a15a4ba-6771-417b-b942-559fdb7a6b5e",
     "showTitle": false,
     "title": ""
    }
   },
   "outputs": [
    {
     "output_type": "display_data",
     "data": {
      "text/html": [
       "<style scoped>\n",
       "  .table-result-container {\n",
       "    max-height: 300px;\n",
       "    overflow: auto;\n",
       "  }\n",
       "  table, th, td {\n",
       "    border: 1px solid black;\n",
       "    border-collapse: collapse;\n",
       "  }\n",
       "  th, td {\n",
       "    padding: 5px;\n",
       "  }\n",
       "  th {\n",
       "    text-align: left;\n",
       "  }\n",
       "</style><div class='table-result-container'><table class='table-result'><thead style='background-color: white'><tr></tr></thead><tbody></tbody></table></div>"
      ]
     },
     "metadata": {
      "application/vnd.databricks.v1+output": {
       "addedWidgets": {},
       "aggData": [],
       "aggError": "",
       "aggOverflow": false,
       "aggSchema": [],
       "aggSeriesLimitReached": false,
       "aggType": "",
       "arguments": {},
       "columnCustomDisplayInfos": {},
       "data": [],
       "datasetInfos": [],
       "dbfsResultPath": null,
       "isJsonSchema": true,
       "metadata": {},
       "overflow": false,
       "plotOptions": {
        "customPlotOptions": {},
        "displayType": "table",
        "pivotAggregation": null,
        "pivotColumns": null,
        "xColumns": null,
        "yColumns": null
       },
       "removedWidgets": [],
       "schema": [],
       "type": "table"
      }
     },
     "output_type": "display_data"
    }
   ],
   "source": [
    "%sql\n",
    "--Inserindo valores na tabela\n",
    "INSERT INTO usuariosPart VALUES (25, 'SP', 5000, 2021)\n"
   ]
  },
  {
   "cell_type": "code",
   "execution_count": 0,
   "metadata": {
    "application/vnd.databricks.v1+cell": {
     "cellMetadata": {
      "byteLimit": 2048000,
      "implicitDf": true,
      "rowLimit": 10000
     },
     "inputWidgets": {},
     "nuid": "5b3ac610-e096-48df-b457-17e08389d2af",
     "showTitle": false,
     "title": ""
    }
   },
   "outputs": [
    {
     "output_type": "display_data",
     "data": {
      "text/html": [
       "<style scoped>\n",
       "  .table-result-container {\n",
       "    max-height: 300px;\n",
       "    overflow: auto;\n",
       "  }\n",
       "  table, th, td {\n",
       "    border: 1px solid black;\n",
       "    border-collapse: collapse;\n",
       "  }\n",
       "  th, td {\n",
       "    padding: 5px;\n",
       "  }\n",
       "  th {\n",
       "    text-align: left;\n",
       "  }\n",
       "</style><div class='table-result-container'><table class='table-result'><thead style='background-color: white'><tr></tr></thead><tbody></tbody></table></div>"
      ]
     },
     "metadata": {
      "application/vnd.databricks.v1+output": {
       "addedWidgets": {},
       "aggData": [],
       "aggError": "",
       "aggOverflow": false,
       "aggSchema": [],
       "aggSeriesLimitReached": false,
       "aggType": "",
       "arguments": {},
       "columnCustomDisplayInfos": {},
       "data": [],
       "datasetInfos": [],
       "dbfsResultPath": null,
       "isJsonSchema": true,
       "metadata": {},
       "overflow": false,
       "plotOptions": {
        "customPlotOptions": {},
        "displayType": "table",
        "pivotAggregation": null,
        "pivotColumns": null,
        "xColumns": null,
        "yColumns": null
       },
       "removedWidgets": [],
       "schema": [],
       "type": "table"
      }
     },
     "output_type": "display_data"
    }
   ],
   "source": [
    "%sql\n",
    "--Outra forma de popularmos a tabela, especialmente quando trabalhamos com as partições estáticas, é:\n",
    "INSERT INTO usuariosPart \n",
    "  PARTITION (ano=2020)\n",
    "    VALUES (30, 'SP', 6000)\n"
   ]
  },
  {
   "cell_type": "code",
   "execution_count": 0,
   "metadata": {
    "application/vnd.databricks.v1+cell": {
     "cellMetadata": {
      "byteLimit": 2048000,
      "implicitDf": true,
      "rowLimit": 10000
     },
     "inputWidgets": {},
     "nuid": "312b1cbb-bc26-4fda-91f6-7fd0ed5c07d1",
     "showTitle": false,
     "title": ""
    }
   },
   "outputs": [
    {
     "output_type": "display_data",
     "data": {
      "text/html": [
       "<style scoped>\n",
       "  .table-result-container {\n",
       "    max-height: 300px;\n",
       "    overflow: auto;\n",
       "  }\n",
       "  table, th, td {\n",
       "    border: 1px solid black;\n",
       "    border-collapse: collapse;\n",
       "  }\n",
       "  th, td {\n",
       "    padding: 5px;\n",
       "  }\n",
       "  th {\n",
       "    text-align: left;\n",
       "  }\n",
       "</style><div class='table-result-container'><table class='table-result'><thead style='background-color: white'><tr><th>idade</th><th>estado</th><th>salario</th><th>ano</th></tr></thead><tbody><tr><td>30</td><td>SP</td><td>6000.0</td><td>2020</td></tr><tr><td>25</td><td>SP</td><td>5000.0</td><td>2021</td></tr></tbody></table></div>"
      ]
     },
     "metadata": {
      "application/vnd.databricks.v1+output": {
       "addedWidgets": {},
       "aggData": [],
       "aggError": "",
       "aggOverflow": false,
       "aggSchema": [],
       "aggSeriesLimitReached": false,
       "aggType": "",
       "arguments": {},
       "columnCustomDisplayInfos": {},
       "data": [
        [
         30,
         "SP",
         6000.0,
         2020
        ],
        [
         25,
         "SP",
         5000.0,
         2021
        ]
       ],
       "datasetInfos": [],
       "dbfsResultPath": null,
       "isJsonSchema": true,
       "metadata": {},
       "overflow": false,
       "plotOptions": {
        "customPlotOptions": {},
        "displayType": "table",
        "pivotAggregation": null,
        "pivotColumns": null,
        "xColumns": null,
        "yColumns": null
       },
       "removedWidgets": [],
       "schema": [
        {
         "metadata": "{}",
         "name": "idade",
         "type": "\"integer\""
        },
        {
         "metadata": "{}",
         "name": "estado",
         "type": "\"string\""
        },
        {
         "metadata": "{}",
         "name": "salario",
         "type": "\"float\""
        },
        {
         "metadata": "{}",
         "name": "ano",
         "type": "\"integer\""
        }
       ],
       "type": "table"
      }
     },
     "output_type": "display_data"
    }
   ],
   "source": [
    "%sql\n",
    "select * from usuariosPart\n",
    "\n",
    "--Acessando \"Data > DBFS\" e realizando a navegação até \"usuariosPart\", encontraremos duas pastas, uma com o ano igual a 2020 e outra com o ano igual a 2021. Isso indica que as partições foram criadas. Dentro de cada uma delas, os dados estão armazenados em formato parquet."
   ]
  },
  {
   "cell_type": "code",
   "execution_count": 0,
   "metadata": {
    "application/vnd.databricks.v1+cell": {
     "cellMetadata": {
      "byteLimit": 2048000,
      "implicitDf": true,
      "rowLimit": 10000
     },
     "inputWidgets": {},
     "nuid": "0d56b457-8610-44ab-b8ec-2ca6a0989edc",
     "showTitle": false,
     "title": ""
    }
   },
   "outputs": [
    {
     "output_type": "display_data",
     "data": {
      "text/html": [
       "<style scoped>\n",
       "  .table-result-container {\n",
       "    max-height: 300px;\n",
       "    overflow: auto;\n",
       "  }\n",
       "  table, th, td {\n",
       "    border: 1px solid black;\n",
       "    border-collapse: collapse;\n",
       "  }\n",
       "  th, td {\n",
       "    padding: 5px;\n",
       "  }\n",
       "  th {\n",
       "    text-align: left;\n",
       "  }\n",
       "</style><div class='table-result-container'><table class='table-result'><thead style='background-color: white'><tr><th>count(idade) OVER (PARTITION BY ano ROWS BETWEEN UNBOUNDED PRECEDING AND UNBOUNDED FOLLOWING)</th></tr></thead><tbody><tr><td>1</td></tr><tr><td>1</td></tr></tbody></table></div>"
      ]
     },
     "metadata": {
      "application/vnd.databricks.v1+output": {
       "addedWidgets": {},
       "aggData": [],
       "aggError": "",
       "aggOverflow": false,
       "aggSchema": [],
       "aggSeriesLimitReached": false,
       "aggType": "",
       "arguments": {},
       "columnCustomDisplayInfos": {},
       "data": [
        [
         1
        ],
        [
         1
        ]
       ],
       "datasetInfos": [],
       "dbfsResultPath": null,
       "isJsonSchema": true,
       "metadata": {},
       "overflow": false,
       "plotOptions": {
        "customPlotOptions": {},
        "displayType": "table",
        "pivotAggregation": null,
        "pivotColumns": null,
        "xColumns": null,
        "yColumns": null
       },
       "removedWidgets": [],
       "schema": [
        {
         "metadata": "{\"__autoGeneratedAlias\":\"true\"}",
         "name": "count(idade) OVER (PARTITION BY ano ROWS BETWEEN UNBOUNDED PRECEDING AND UNBOUNDED FOLLOWING)",
         "type": "\"long\""
        }
       ],
       "type": "table"
      }
     },
     "output_type": "display_data"
    }
   ],
   "source": [
    "%sql\n",
    "--Utilizando partition na consulta\n",
    "select count(idade) over( partition by ano)\n",
    "from usuariosPart"
   ]
  },
  {
   "cell_type": "code",
   "execution_count": 0,
   "metadata": {
    "application/vnd.databricks.v1+cell": {
     "cellMetadata": {},
     "inputWidgets": {},
     "nuid": "14151442-7fa4-4077-b67f-9ced50819d5c",
     "showTitle": false,
     "title": ""
    }
   },
   "outputs": [],
   "source": []
  }
 ],
 "metadata": {
  "application/vnd.databricks.v1+notebook": {
   "dashboards": [],
   "language": "python",
   "notebookMetadata": {
    "mostRecentlyExecutedCommandWithImplicitDF": {
     "commandId": 4005743949661185,
     "dataframes": [
      "_sqldf"
     ]
    },
    "pythonIndentUnit": 4
   },
   "notebookName": "Aula_Databricks",
   "widgets": {}
  }
 },
 "nbformat": 4,
 "nbformat_minor": 0
}
